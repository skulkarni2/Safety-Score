{
 "cells": [
  {
   "cell_type": "markdown",
   "metadata": {},
   "source": [
    "### What impact does perceived safety have on livability in urban neighborhoods? What physical and socioeconomic factors drive the perception of safety of urban streetscapes?"
   ]
  },
  {
   "cell_type": "markdown",
   "metadata": {},
   "source": [
    "#### Table of Contents\n",
    "[1. Import modules and load pickled files](#1)  \n",
    "[2. Normalize perceived danger and actual crime scores](#2)  \n",
    "[3. Identify neighborhoods with high differences in actual vs. perceived scores](#3)  \n",
    "[4. Cluster neighborhoods based on difference scores and variance](#4)  \n",
    "[5. Investigate impacts of differences in perceived v. actual crime](#5)"
   ]
  },
  {
   "cell_type": "markdown",
   "metadata": {},
   "source": [
    "### <a id='1'></a> 1. Import necessary modules and load pickled files"
   ]
  },
  {
   "cell_type": "code",
   "execution_count": 327,
   "metadata": {
    "collapsed": false
   },
   "outputs": [],
   "source": [
    "import pandas as pd\n",
    "import numpy as np\n",
    "import pickle\n",
    "from tqdm import tqdm, tqdm_pandas\n",
    "import matplotlib.pyplot as plt\n",
    "import seaborn as sns\n",
    "import math\n",
    "% matplotlib inline\n",
    "\n",
    "from sklearn.linear_model import LinearRegression, Lasso, LassoCV, RidgeCV\n",
    "from sklearn import cross_validation\n",
    "from sklearn.metrics import mean_squared_error\n",
    "import statsmodels.api as sm\n",
    "\n",
    "from sklearn.cluster import KMeans, DBSCAN\n",
    "\n",
    "import pysal # spatial autocorrelation"
   ]
  },
  {
   "cell_type": "code",
   "execution_count": 3,
   "metadata": {
    "collapsed": false
   },
   "outputs": [],
   "source": [
    "with open('data/pickled/ss_orig_nyc.pkl', 'r') as picklefile:\n",
    "    sso = pickle.load(picklefile)\n",
    "    \n",
    "with open('data/pickled/ss_withzip.pkl', 'r') as picklefile:\n",
    "    ssp = pickle.load(picklefile)\n",
    "    \n",
    "with open('data/pickled/crime_withzip.pkl', 'r') as picklefile:\n",
    "    crime = pickle.load(picklefile)"
   ]
  },
  {
   "cell_type": "code",
   "execution_count": 4,
   "metadata": {
    "collapsed": true
   },
   "outputs": [],
   "source": [
    "# split crime data into relevant years for sso and ssp data\n",
    "crime2010 = crime[crime['Occurrence Year'] == 2010]"
   ]
  },
  {
   "cell_type": "code",
   "execution_count": 5,
   "metadata": {
    "collapsed": true
   },
   "outputs": [],
   "source": [
    "crime2014 = crime[crime['Occurrence Year'] == 2014]"
   ]
  },
  {
   "cell_type": "markdown",
   "metadata": {},
   "source": [
    "### <a id='2'></a> 2. Normalize perceived danger and crime scores"
   ]
  },
  {
   "cell_type": "markdown",
   "metadata": {},
   "source": [
    "#### Perceived safety/crime scores"
   ]
  },
  {
   "cell_type": "markdown",
   "metadata": {},
   "source": [
    "Normalize q-scores to 0-10 range."
   ]
  },
  {
   "cell_type": "code",
   "execution_count": 6,
   "metadata": {
    "collapsed": false
   },
   "outputs": [],
   "source": [
    "def normalize(df, score_col, norm_col, range_start = 0, range_end = 10):\n",
    "    min_score = float(df[score_col].min())\n",
    "    max_score = float(df[score_col].max())\n",
    "    range_start = float(range_start)\n",
    "    range_end = float(range_end)\n",
    "    norm_func = lambda score: range_start + (float(score) - min_score) * (range_end - range_start) / (max_score - min_score)\n",
    "    normalized = [norm_func(score) for score in df[score_col].tolist()]\n",
    "    df.loc[:, norm_col] = normalized"
   ]
  },
  {
   "cell_type": "code",
   "execution_count": 7,
   "metadata": {
    "collapsed": true
   },
   "outputs": [],
   "source": [
    "normalize(ssp, 'q-score', 'q_norm')\n",
    "normalize(sso, 'QS Safer', 'q_norm')"
   ]
  },
  {
   "cell_type": "markdown",
   "metadata": {},
   "source": [
    "Convert/invert q-score of safety to danger score."
   ]
  },
  {
   "cell_type": "code",
   "execution_count": 8,
   "metadata": {
    "collapsed": true
   },
   "outputs": [],
   "source": [
    "# invert normalized scores\n",
    "normalize(ssp, 'q-score', 'q_norm_rev', range_start = 10, range_end = 0)\n",
    "normalize(sso, 'QS Safer', 'q_norm_rev', range_start = 10, range_end = 0)"
   ]
  },
  {
   "cell_type": "code",
   "execution_count": 9,
   "metadata": {
    "collapsed": false
   },
   "outputs": [],
   "source": [
    "# invert original (non-normalized socres)\n",
    "normalize(ssp, 'q-score', 'danger_score_raw', range_start = max(ssp['q-score']), range_end = min(ssp['q-score']))\n",
    "normalize(sso, 'QS Safer', 'danger_score_raw', range_start = max(sso['QS Safer']), range_end = min(sso['QS Safer']))"
   ]
  },
  {
   "cell_type": "markdown",
   "metadata": {},
   "source": [
    "Get average q-score by zip code."
   ]
  },
  {
   "cell_type": "code",
   "execution_count": 10,
   "metadata": {
    "collapsed": true
   },
   "outputs": [],
   "source": [
    "def agg_qscores(df, geo_col, score_col):\n",
    "    grouped = df.groupby(geo_col)\n",
    "    scores = pd.DataFrame(grouped[score_col].mean())\n",
    "    return scores"
   ]
  },
  {
   "cell_type": "code",
   "execution_count": 11,
   "metadata": {
    "collapsed": false
   },
   "outputs": [],
   "source": [
    "ssbyzcta = agg_qscores(ssp, 'zcta', 'q_norm')\n",
    "ss_orig_byzcta = agg_qscores(sso, 'zcta', 'q_norm')"
   ]
  },
  {
   "cell_type": "code",
   "execution_count": 12,
   "metadata": {
    "collapsed": true
   },
   "outputs": [],
   "source": [
    "ssbyz_danger = agg_qscores(ssp, 'zcta', 'q_norm_rev')\n",
    "ssorigbyz_danger = agg_qscores(sso, 'zcta', 'q_norm_rev')"
   ]
  },
  {
   "cell_type": "markdown",
   "metadata": {},
   "source": [
    "Get average q-score by Census tract."
   ]
  },
  {
   "cell_type": "code",
   "execution_count": 13,
   "metadata": {
    "collapsed": true
   },
   "outputs": [],
   "source": [
    "# perceived safety\n",
    "ss_by_ct = agg_qscores(ssp, 'fips_tract', 'q_norm')\n",
    "ssorig_by_ct = agg_qscores(sso, 'fips_tract', 'q_norm')"
   ]
  },
  {
   "cell_type": "code",
   "execution_count": 14,
   "metadata": {
    "collapsed": true
   },
   "outputs": [],
   "source": [
    "# perceived crime\n",
    "ssp_by_ct = agg_qscores(ssp, 'fips_tract', 'q_norm_rev')\n",
    "sso_by_ct = agg_qscores(sso, 'fips_tract', 'q_norm_rev')"
   ]
  },
  {
   "cell_type": "markdown",
   "metadata": {},
   "source": [
    "Map to shape file census tract."
   ]
  },
  {
   "cell_type": "code",
   "execution_count": 15,
   "metadata": {
    "collapsed": true
   },
   "outputs": [],
   "source": [
    "with open('data/pickled/TRACT_DICT.pkl', 'r') as picklefile:\n",
    "    tract_dict = pickle.load(picklefile)"
   ]
  },
  {
   "cell_type": "code",
   "execution_count": 16,
   "metadata": {
    "collapsed": false
   },
   "outputs": [
    {
     "data": {
      "text/html": [
       "<div>\n",
       "<table border=\"1\" class=\"dataframe\">\n",
       "  <thead>\n",
       "    <tr style=\"text-align: right;\">\n",
       "      <th></th>\n",
       "      <th>q_norm_rev</th>\n",
       "      <th>tract_copy</th>\n",
       "      <th>tract_short</th>\n",
       "    </tr>\n",
       "    <tr>\n",
       "      <th>fips_tract</th>\n",
       "      <th></th>\n",
       "      <th></th>\n",
       "      <th></th>\n",
       "    </tr>\n",
       "  </thead>\n",
       "  <tbody>\n",
       "    <tr>\n",
       "      <th>36005000200</th>\n",
       "      <td>3.726878</td>\n",
       "      <td>36005000200</td>\n",
       "      <td>2000200</td>\n",
       "    </tr>\n",
       "    <tr>\n",
       "      <th>36005000400</th>\n",
       "      <td>4.086433</td>\n",
       "      <td>36005000400</td>\n",
       "      <td>2000400</td>\n",
       "    </tr>\n",
       "    <tr>\n",
       "      <th>36005001600</th>\n",
       "      <td>3.971630</td>\n",
       "      <td>36005001600</td>\n",
       "      <td>2001600</td>\n",
       "    </tr>\n",
       "    <tr>\n",
       "      <th>36005001900</th>\n",
       "      <td>4.954953</td>\n",
       "      <td>36005001900</td>\n",
       "      <td>2001900</td>\n",
       "    </tr>\n",
       "    <tr>\n",
       "      <th>36005002000</th>\n",
       "      <td>3.646495</td>\n",
       "      <td>36005002000</td>\n",
       "      <td>2002000</td>\n",
       "    </tr>\n",
       "  </tbody>\n",
       "</table>\n",
       "</div>"
      ],
      "text/plain": [
       "             q_norm_rev   tract_copy tract_short\n",
       "fips_tract                                      \n",
       "36005000200    3.726878  36005000200     2000200\n",
       "36005000400    4.086433  36005000400     2000400\n",
       "36005001600    3.971630  36005001600     2001600\n",
       "36005001900    4.954953  36005001900     2001900\n",
       "36005002000    3.646495  36005002000     2002000"
      ]
     },
     "execution_count": 16,
     "metadata": {},
     "output_type": "execute_result"
    }
   ],
   "source": [
    "# get truncated tract numbers\n",
    "ssp_by_ct['tract_copy'] = ssp_by_ct.index.values\n",
    "ssp_by_ct['tract_short'] = ssp_by_ct.tract_copy.apply(lambda x: tract_dict[x] if x in tract_dict else '')\n",
    "ssp_by_ct.head()"
   ]
  },
  {
   "cell_type": "markdown",
   "metadata": {},
   "source": [
    "Export for cartodb viz"
   ]
  },
  {
   "cell_type": "code",
   "execution_count": 19,
   "metadata": {
    "collapsed": true
   },
   "outputs": [],
   "source": [
    "def zip_to_cartodb(df, path):\n",
    "    df['country'] = 'United States'\n",
    "    df.to_csv(path)"
   ]
  },
  {
   "cell_type": "code",
   "execution_count": 20,
   "metadata": {
    "collapsed": true
   },
   "outputs": [],
   "source": [
    "def tract_to_cartodb(df, path):\n",
    "    df['tract_copy'] = df.index.values\n",
    "    df['tract_short'] = df.tract_copy.apply(lambda x: tract_dict[x] if x in tract_dict else '')\n",
    "    df.drop('tract_copy', axis = 1, inplace = True)\n",
    "    df.to_csv(path, index = False)"
   ]
  },
  {
   "cell_type": "code",
   "execution_count": 115,
   "metadata": {
    "collapsed": true
   },
   "outputs": [],
   "source": [
    "tract_to_cartodb(ssp_by_ct, 'data/for_cartodb/ss_by_ct.csv')"
   ]
  },
  {
   "cell_type": "code",
   "execution_count": 145,
   "metadata": {
    "collapsed": true
   },
   "outputs": [],
   "source": [
    "tract_to_cartodb(sso_by_ct, 'data/for_cartodb/ssorig_by_ct.csv')"
   ]
  },
  {
   "cell_type": "code",
   "execution_count": 707,
   "metadata": {
    "collapsed": true
   },
   "outputs": [],
   "source": [
    "zip_to_cartodb(ssbyzcta, 'data/for_cartodb/ss_by_zcta.csv')\n",
    "zip_to_cartodb(ss_orig_byzcta, 'data/for_cartodb/ssorig_by_zcta.csv')"
   ]
  },
  {
   "cell_type": "code",
   "execution_count": 711,
   "metadata": {
    "collapsed": true
   },
   "outputs": [],
   "source": [
    "zip_to_cartodb(ss_by_ct, 'data/for_cartodb/ss_by_tract.csv')\n",
    "zip_to_cartodb(ssorig_by_ct, 'data/for_cartodb/ssorig_by_tract.csv')"
   ]
  },
  {
   "cell_type": "markdown",
   "metadata": {},
   "source": [
    "#### Actual crime scores"
   ]
  },
  {
   "cell_type": "code",
   "execution_count": 21,
   "metadata": {
    "collapsed": true
   },
   "outputs": [],
   "source": [
    "def get_crimes_by_geo(df, geo_col):\n",
    "    \"\"\"Given original crimes df, return df of counts by crime type by chosen geography.\"\"\"\n",
    "    byzip = df.groupby([geo_col, 'Offense'])\n",
    "    crimesdf = byzip.OBJECTID.count().unstack(level=-1)\n",
    "    crimesdf.fillna(0, inplace = True)\n",
    "    crimesdf['total'] = crimesdf.sum(axis = 1)\n",
    "    crimesdf[geo_col] = crimesdf.index\n",
    "    return crimesdf"
   ]
  },
  {
   "cell_type": "code",
   "execution_count": 22,
   "metadata": {
    "collapsed": false
   },
   "outputs": [],
   "source": [
    "# def clean_acs(df, geo_col, data_col, geo_col_name):\n",
    "#     \"\"\"Given ACS zcta data file, return dictionary with key = zcta and values = data.\"\"\"\n",
    "#     df[geo_col_name] = df[geo_col].apply(lambda x: int(x.split()[1]) if len(x.split()) > 1 else x)\n",
    "#     data_dict = dict(zip(df[geo_col_name].values, df[data_col].values.tolist()))\n",
    "#     return data_dict\n",
    "\n",
    "def add_acs_data(acs_df, acs_geo_col, acs_data_col, df, df_geo_col, df_new_data_name):\n",
    "    \"\"\"Given ACS zcta data file, return dictionary with key = geography and values = data.\"\"\"\n",
    "    # create dictionary of {geo: value} from acs data\n",
    "    data_dict = dict(zip(acs_df[acs_geo_col].values, acs_df[acs_data_col].values.tolist()))\n",
    "    \n",
    "    # fetch value for key and add to df \n",
    "    df[df_new_data_name] = df.loc[:, df_geo_col].apply(lambda x: int(data_dict[x]) if x in data_dict else np.nan)"
   ]
  },
  {
   "cell_type": "code",
   "execution_count": 17,
   "metadata": {
    "collapsed": true
   },
   "outputs": [],
   "source": [
    "# def clean_acs_df(df, zcta_col, data_col):\n",
    "#     \"\"\"Given ACS zcta data file, return df of relevant data.\"\"\"\n",
    "#     df['zcta'] = df[zcta_col].apply(lambda x: int(x.split()[1]) if len(x.split()) > 1 else x)\n",
    "#     keep = data_col + ['zcta']\n",
    "#     return df[keep]"
   ]
  },
  {
   "cell_type": "code",
   "execution_count": null,
   "metadata": {
    "collapsed": true
   },
   "outputs": [],
   "source": [
    "\"\"\"normalizing crime:\n",
    "- crime rate - crime per 100,000 residents\n",
    "- great post: http://opendata.stackexchange.com/questions/381/how-to-normalize-the-data-when-mapping-crime-reports\n",
    "\"\"\""
   ]
  },
  {
   "cell_type": "markdown",
   "metadata": {},
   "source": [
    "#### Clean crimes df v2 for 2010 data - hopefully cleaner!"
   ]
  },
  {
   "cell_type": "code",
   "execution_count": 31,
   "metadata": {
    "collapsed": true
   },
   "outputs": [],
   "source": [
    "# fetch resident and worker population data\n",
    "pop2010 = pd.read_csv('data/dem_data/census_pop_by_bg_2010.csv')\n",
    "workers2010 = pd.read_csv('data/dem_data/lehd_workers_2010.csv')\n",
    "workers = pd.read_csv('data/dem_data/lehd_workers_2014.csv')\n",
    "pop2014 = pd.read_csv('data/dem_data/acs_pop_by_bg_2014.csv')"
   ]
  },
  {
   "cell_type": "code",
   "execution_count": 25,
   "metadata": {
    "collapsed": true
   },
   "outputs": [],
   "source": [
    "# fetch block group shape file reference data\n",
    "with open('data/pickled/BLOCKGROUP_DF.pkl', 'r') as picklefile:\n",
    "    bg_df = pickle.load(picklefile)"
   ]
  },
  {
   "cell_type": "code",
   "execution_count": 26,
   "metadata": {
    "collapsed": true
   },
   "outputs": [],
   "source": [
    "def get_workers_by_bg(df):\n",
    "    \"\"\"Given df of lehd data, return df of total workers per block group.\"\"\"\n",
    "    df['block_group'] = df.loc[:, 'w_geocode'].apply(lambda x: str(x)[:12])\n",
    "    by_bg = df.groupby('block_group')\n",
    "    newdf = pd.DataFrame(by_bg['C000'].sum())\n",
    "    newdf['block_group'] = newdf.index\n",
    "    newdf.rename(columns = {'C000': 'total_workers'}, inplace = True)\n",
    "    return newdf"
   ]
  },
  {
   "cell_type": "code",
   "execution_count": 27,
   "metadata": {
    "collapsed": true
   },
   "outputs": [],
   "source": [
    "def combine_workers_crime(wdf, cdf):\n",
    "    worker_dict = dict(zip(wdf.block_group, wdf.total_workers))\n",
    "    cdf['workers'] = cdf.fips_bg.apply(lambda x: worker_dict[x] if x in worker_dict else np.nan)"
   ]
  },
  {
   "cell_type": "code",
   "execution_count": 28,
   "metadata": {
    "collapsed": true
   },
   "outputs": [],
   "source": [
    "def normalize_crime(cdf, pdf, wdf):\n",
    "    cdf2 = get_crimes_by_geo(cdf, 'fips_bg')\n",
    "    wdf2 = get_workers_by_bg(wdf)\n",
    "    combine_workers_crime(wdf2, cdf2)\n",
    "    try:\n",
    "        add_acs_data(pdf, 'GEO.id2', 'D001', cdf2, 'fips_bg', 'residents')\n",
    "    except:\n",
    "        add_acs_data(pdf, 'GEO.id2', 'HD01_VD01', cdf2, 'fips_bg', 'residents')\n",
    "    \n",
    "    # get combined population\n",
    "    cdf2['total_pop'] = cdf2.loc[:, 'workers'] + cdf2.loc[:, 'residents']\n",
    "    cdf2.dropna(inplace = True)\n",
    "    \n",
    "    # divide total crime by population\n",
    "    cdf2['all_crimes_rate'] = cdf2.loc[:, 'total'] / cdf2.loc[:, 'total_pop'] * 1000\n",
    "    \n",
    "    # add geo area\n",
    "    bg_dict = dict(zip(bg_df.GEOID10, bg_df.ALAND10))\n",
    "    cdf2['area'] = cdf2.loc[:, 'fips_bg'].apply(lambda x: bg_dict[x] if x in bg_dict else np.nan)\n",
    "    \n",
    "    # only keep groups with total pop > 100\n",
    "    cdf2 = cdf2[cdf2.total_pop > 100]\n",
    "    \n",
    "    return cdf2"
   ]
  },
  {
   "cell_type": "code",
   "execution_count": 32,
   "metadata": {
    "collapsed": false
   },
   "outputs": [],
   "source": [
    "crime2010_bg = normalize_crime(crime2010, pop2010, workers2010)\n",
    "crime2014_bg = normalize_crime(crime2014, pop2014, workers)"
   ]
  },
  {
   "cell_type": "markdown",
   "metadata": {},
   "source": [
    "#### Normalize crime data by converting raw crime count to crime rates based on census tract worker and resident population.\n",
    "\n",
    "Two ways of normalizing: \n",
    "* by resident and worker population in that geography\n",
    "* by physical area of the geography"
   ]
  },
  {
   "cell_type": "code",
   "execution_count": 33,
   "metadata": {
    "collapsed": true
   },
   "outputs": [],
   "source": [
    "# get dataframe of crimes by geography\n",
    "crime2014_ct = get_crimes_by_geo(crime2014, 'fips_tract')"
   ]
  },
  {
   "cell_type": "markdown",
   "metadata": {},
   "source": [
    "Normalize by worker and resident population."
   ]
  },
  {
   "cell_type": "code",
   "execution_count": 34,
   "metadata": {
    "collapsed": false,
    "scrolled": true
   },
   "outputs": [
    {
     "name": "stderr",
     "output_type": "stream",
     "text": [
      "//anaconda/lib/python2.7/site-packages/IPython/core/interactiveshell.py:2902: DtypeWarning: Columns (1,3,4,5,7,8,11,12,15,16,19,20,23,24,27,28,31,32,35,36,39,40,43,44,47,48,51,52,55,56,59,60,63,64,71,72,75,76,79,80,83,84,87,88,89,91,92,95,96,99,100,101,103,104,107,108,111,112,113,115,116,119,120,123,124,127,128,131,132,135,136,139,140,143,144,147,148,151,152,155,156,159,160,163,164,167,168,171,172,175,176,179,180,183,184,187,188,191,192,195,196,199,200,203,204,207,208,211,212,215,216,219,220,223,224,227,228,231,232,233,235,236,239,240,243,244,247,248,251,252,255,256,259,260,261,263,264,267,268,271,272,275,276,279,280,283,284,287,288,291,292,295,296,299,300,303,304,307,308,311,312,315,316,319,320,323,324) have mixed types. Specify dtype option on import or set low_memory=False.\n",
      "  interactivity=interactivity, compiler=compiler, result=result)\n"
     ]
    }
   ],
   "source": [
    "# fetch population data\n",
    "pop_ct = pd.read_csv('data/dem_data/acs_pop_by_ct_2014.csv')"
   ]
  },
  {
   "cell_type": "code",
   "execution_count": 35,
   "metadata": {
    "collapsed": false
   },
   "outputs": [],
   "source": [
    "add_acs_data(pop_ct, 'GEO.id2', 'HC01_VC03', crime2014_ct, 'fips_tract', 'population')"
   ]
  },
  {
   "cell_type": "code",
   "execution_count": 36,
   "metadata": {
    "collapsed": true
   },
   "outputs": [],
   "source": [
    "# add census tract to worker data\n",
    "workers['tract'] = workers.w_geocode.apply(lambda x: str(x)[:12])"
   ]
  },
  {
   "cell_type": "code",
   "execution_count": 37,
   "metadata": {
    "collapsed": true
   },
   "outputs": [],
   "source": [
    "def clean_workers(df):\n",
    "    \"\"\"Given lehd df of worker by geo data, return df with workers aggregated by census tract.\"\"\"\n",
    "    df['tract'] = df.w_geocode.apply(lambda x: str(x)[:11])\n",
    "    by_tract = df.groupby('tract')\n",
    "    newdf = pd.DataFrame(by_tract['C000'].sum())\n",
    "    newdf['tract'] = newdf.index\n",
    "    newdf.rename(columns = {'C000': 'total_workers'}, inplace = True)\n",
    "    return newdf"
   ]
  },
  {
   "cell_type": "code",
   "execution_count": 38,
   "metadata": {
    "collapsed": false
   },
   "outputs": [],
   "source": [
    "workers2 = clean_workers(workers)"
   ]
  },
  {
   "cell_type": "code",
   "execution_count": 39,
   "metadata": {
    "collapsed": false
   },
   "outputs": [],
   "source": [
    "# add worker data to crime df\n",
    "worker_dict = dict(zip(workers2.tract, workers2.total_workers))\n",
    "crime2014_ct['workers'] = crime2014_ct.fips_tract.apply(lambda x: worker_dict[x] if x in worker_dict else np.nan)"
   ]
  },
  {
   "cell_type": "code",
   "execution_count": 40,
   "metadata": {
    "collapsed": false
   },
   "outputs": [],
   "source": [
    "# add resident and worker population\n",
    "crime2014_ct['total_pop'] = crime2014_ct.loc[:,'population'] + crime2014_ct.loc[:, 'workers']"
   ]
  },
  {
   "cell_type": "code",
   "execution_count": 41,
   "metadata": {
    "collapsed": true
   },
   "outputs": [],
   "source": [
    "crime2014_ct.dropna(inplace = True) # drop tracts with missing pop or worker counts"
   ]
  },
  {
   "cell_type": "code",
   "execution_count": 42,
   "metadata": {
    "collapsed": true
   },
   "outputs": [],
   "source": [
    "crime2014_ct = crime2014_ct[crime2014_ct.total_pop > 1000] # remove tracts with total pop < 1000\n",
    "crime2014_ct['crime_rate_pop'] = (crime2014_ct.total / crime2014_ct.total_pop) * 1000"
   ]
  },
  {
   "cell_type": "code",
   "execution_count": 43,
   "metadata": {
    "collapsed": false
   },
   "outputs": [],
   "source": [
    "# normalize crime rate to be between 0 and 10 \n",
    "normalize(crime2014_ct, 'crime_rate_pop', 'crime_rate_pop_norm')"
   ]
  },
  {
   "cell_type": "markdown",
   "metadata": {},
   "source": [
    "Normalize by census tract size."
   ]
  },
  {
   "cell_type": "code",
   "execution_count": 44,
   "metadata": {
    "collapsed": true
   },
   "outputs": [],
   "source": [
    "# pull in detailed census tract data\n",
    "with open('data/pickled/TRACT_DF.pkl', 'r') as picklefile:\n",
    "    tract_df = pickle.load(picklefile)"
   ]
  },
  {
   "cell_type": "code",
   "execution_count": 45,
   "metadata": {
    "collapsed": false
   },
   "outputs": [],
   "source": [
    "# normalize crime by census tract size\n",
    "ct_size = dict(zip(tract_df.fips.values, tract_df.Shape_Area))\n",
    "crime2014_ct['tract_area'] = crime2014_ct.fips_tract.apply(lambda x: ct_size[x] if x in ct_size else 'no data')"
   ]
  },
  {
   "cell_type": "code",
   "execution_count": 46,
   "metadata": {
    "collapsed": false
   },
   "outputs": [],
   "source": [
    "# divide crime count per tract by shape area -- what are the units??\n",
    "crime2014_ct['crime_rate_area'] = (crime2014_ct.total / crime2014_ct.tract_area) * 100000"
   ]
  },
  {
   "cell_type": "code",
   "execution_count": 47,
   "metadata": {
    "collapsed": true
   },
   "outputs": [],
   "source": [
    "# normalize crime rate by area to 0-10 scale\n",
    "normalize(crime2014_ct, 'crime_rate_area', 'crime_rate_area_norm')"
   ]
  },
  {
   "cell_type": "markdown",
   "metadata": {},
   "source": [
    "#### Export crime data to cartodb for viz"
   ]
  },
  {
   "cell_type": "code",
   "execution_count": null,
   "metadata": {
    "collapsed": false
   },
   "outputs": [],
   "source": [
    "# raw crime counts, crime rate by population, and crime rate by tract area\n",
    "crime_cartodb = crime2014_ct[['total', 'crime_rate_pop', 'crime_rate_pop_norm', 'crime_rate_area', 'crime_rate_area_norm']]\n",
    "tract_to_cartodb(crime_cartodb, 'data/for_cartodb/crime_by_tract2.csv')"
   ]
  },
  {
   "cell_type": "markdown",
   "metadata": {},
   "source": [
    "#### Compare crime vs. perceived safety - strict comparsion of different scores"
   ]
  },
  {
   "cell_type": "markdown",
   "metadata": {},
   "source": [
    "Methodology:\n",
    "1. Normalize perceived and actual scores between 0-10 range.\n",
    "2. Two methods of determining difference:\n",
    "    - strict difference between the two scores\n",
    "    - ratio between the two scores\n",
    "    \n",
    "This method is somewhat problematic since we're assuming that the perceived score is measured in the same unit as the actual crime score. This method captures more of the rank of the particular neighborhood within that score against the other neighborhoods instead of actually comparing the two statistics within the same neighborhood."
   ]
  },
  {
   "cell_type": "code",
   "execution_count": 48,
   "metadata": {
    "collapsed": true
   },
   "outputs": [],
   "source": [
    "def compare_crime(ssdf, crimedf):\n",
    "    \"\"\"Aggregate streetscore (perceived) and actual crime data for comparison.\"\"\"\n",
    "    # merge dataframes and clean up columns\n",
    "    merged = ssdf.merge(crimedf, left_index = True, right_index = True)\n",
    "    keep = ['fips_tract', 'q_norm_rev', 'total', 'crime_rate_pop', 'crime_rate_pop_norm', \\\n",
    "            'crime_rate_area', 'crime_rate_area_norm']\n",
    "    newdf = merged[keep]\n",
    "    newdf.rename(columns = {'q_norm_rev': 'perceived_danger', 'total': 'raw_crime_count'} , inplace = True)\n",
    "    \n",
    "    # add comparison scores\n",
    "    # straight difference\n",
    "    newdf['per_act_diff'] = newdf.loc[:, 'perceived_danger'] - newdf.loc[:, 'crime_rate_pop_norm'] \n",
    "    \n",
    "    # ratio between perceived and actual rate \n",
    "    newdf['per_act_ratio'] = newdf.loc[:, 'perceived_danger'] / newdf.loc[:, 'crime_rate_pop_norm']\n",
    "    \n",
    "    return newdf"
   ]
  },
  {
   "cell_type": "code",
   "execution_count": 49,
   "metadata": {
    "collapsed": true
   },
   "outputs": [
    {
     "name": "stderr",
     "output_type": "stream",
     "text": [
      "//anaconda/lib/python2.7/site-packages/pandas/core/frame.py:2697: SettingWithCopyWarning: \n",
      "A value is trying to be set on a copy of a slice from a DataFrame\n",
      "\n",
      "See the caveats in the documentation: http://pandas.pydata.org/pandas-docs/stable/indexing.html#indexing-view-versus-copy\n",
      "  **kwargs)\n",
      "/anaconda/lib/python2.7/site-packages/ipykernel/__main__.py:11: SettingWithCopyWarning: \n",
      "A value is trying to be set on a copy of a slice from a DataFrame.\n",
      "Try using .loc[row_indexer,col_indexer] = value instead\n",
      "\n",
      "See the caveats in the documentation: http://pandas.pydata.org/pandas-docs/stable/indexing.html#indexing-view-versus-copy\n",
      "/anaconda/lib/python2.7/site-packages/ipykernel/__main__.py:14: SettingWithCopyWarning: \n",
      "A value is trying to be set on a copy of a slice from a DataFrame.\n",
      "Try using .loc[row_indexer,col_indexer] = value instead\n",
      "\n",
      "See the caveats in the documentation: http://pandas.pydata.org/pandas-docs/stable/indexing.html#indexing-view-versus-copy\n"
     ]
    }
   ],
   "source": [
    "ratios = compare_crime(ssp_by_ct, crime2014_ct)"
   ]
  },
  {
   "cell_type": "code",
   "execution_count": 280,
   "metadata": {
    "collapsed": true
   },
   "outputs": [],
   "source": [
    "tract_to_cartodb(ratios, 'data/for_cartodb/crime_by_tract3.csv')"
   ]
  },
  {
   "cell_type": "markdown",
   "metadata": {},
   "source": [
    "### <a id='3'></a> 3. Identify areas with high differences by testing ability of crime rate to predict perceived danger (using regression model)\n",
    "Since the perceived scores are almost a black box in the sense that we cannot map them to actual number of crimes, let's build a regression model to idenfity the \"average\" relationship between perceived danger and actual crime rates. Once we've identified this mean, we can identify areas that are above and below this mean, and therefore have differences in perceived vs. actual crime rates that deviate from the typical relationship. \n",
    "\n",
    "This will also allow us to begin to identify the socioeconomic factors that might lead to different perceptions of safety of urban streetscapes"
   ]
  },
  {
   "cell_type": "code",
   "execution_count": null,
   "metadata": {
    "collapsed": false
   },
   "outputs": [],
   "source": [
    "\"\"\"\n",
    "next steps\n",
    "- build regression model to try and predict perceived safety score by image \n",
    "- see if actual crime rates can predict perceived safety score -- answer the question of whether or not people perceive crime based on actual crime\n",
    "- see if other features can predict perceived crime, such as zoning, construction permits, etc. \n",
    "\"\"\""
   ]
  },
  {
   "cell_type": "code",
   "execution_count": null,
   "metadata": {
    "collapsed": true
   },
   "outputs": [],
   "source": [
    "# check if smaller geographies are available for dem data - census block group?"
   ]
  },
  {
   "cell_type": "markdown",
   "metadata": {},
   "source": [
    "Prep data for linear regression."
   ]
  },
  {
   "cell_type": "code",
   "execution_count": 50,
   "metadata": {
    "collapsed": true
   },
   "outputs": [],
   "source": [
    "def get_log(stat):\n",
    "    if stat > 0:\n",
    "        return math.log(stat)\n",
    "    elif stat == 0:\n",
    "        return math.log(stat + .001)\n",
    "    else:\n",
    "        return math.log(1 + stat)"
   ]
  },
  {
   "cell_type": "code",
   "execution_count": 51,
   "metadata": {
    "collapsed": true
   },
   "outputs": [],
   "source": [
    "def log_transform(col_name, df):\n",
    "    df[col_name + '_log'] = df.loc[:, col_name].apply(lambda x: get_log(x))"
   ]
  },
  {
   "cell_type": "code",
   "execution_count": 52,
   "metadata": {
    "collapsed": false
   },
   "outputs": [],
   "source": [
    "# clean up crime df a bit\n",
    "def clean_crimedf_for_ols_2010(df):\n",
    "    \"\"\"Given crime by census tract df, clean up columns and get crime rates by crime types.\"\"\"\n",
    "    newdf = df.rename(columns = {'BURGLARY': 'burglary', \n",
    "                         'FELONY ASSAULT': 'felony_assault', 'GRAND LARCENY': 'grand_larceny', \n",
    "                         'GRAND LARCENY OF MOTOR VEHICLE': 'grand_larceny_mv', \n",
    "                         'MURDER & NON-NEGL. MANSLAUGHTE': 'murder', \n",
    "                         'RAPE': 'rape', \n",
    "                         'ROBBERY': 'robbery',\n",
    "                         'total': 'all_crimes'})\n",
    "    \n",
    "    # add log of total crime rates\n",
    "    newdf['all_crimes_rate_log'] = np.log(newdf.loc[:, 'all_crimes_rate'])\n",
    "    \n",
    "    # add crime rates\n",
    "    crime_types = ['burglary', 'felony_assault', 'grand_larceny', 'murder', 'rape', 'robbery']\n",
    "    for c in crime_types:\n",
    "        newdf[c + '_rate'] = newdf.loc[:, c] / newdf.loc[:, 'total_pop'] * 1000\n",
    "        log_transform(c + '_rate', newdf) \n",
    "        \n",
    "    # add population density\n",
    "    newdf['resident_density'] = newdf.loc[:, 'residents'] / newdf.loc[:, 'area']\n",
    "    newdf['worker_density'] = newdf.loc[:, 'workers'] / newdf.loc[:, 'area']\n",
    "    \n",
    "    # add log of population density\n",
    "    log_transform('resident_density', newdf)\n",
    "    log_transform('worker_density', newdf)\n",
    "    \n",
    "    return newdf\n",
    "\n",
    "def clean_crimedf_for_ols_2014(df):\n",
    "    \"\"\"Given crime by census tract df, clean up columns and get crime rates by crime types.\"\"\"\n",
    "    newdf = df.rename(columns = {'BURGLARY': 'burglary', \n",
    "                         'FELONY ASSAULT': 'felony_assault', 'GRAND LARCENY': 'grand_larceny', \n",
    "                         'GRAND LARCENY OF MOTOR VEHICLE': 'grand_larceny_mv', \n",
    "                         'MURDER & NON-NEGL. MANSLAUGHTE': 'murder', \n",
    "                         'RAPE': 'rape', \n",
    "                         'ROBBERY': 'robbery',\n",
    "                         'total': 'all_crimes',\n",
    "                         'crime_rate_pop': 'all_crimes_rate',\n",
    "                         'population': 'residents'})\n",
    "    drop = ['crime_rate_area', 'crime_rate_area_norm']\n",
    "    newdf.drop(drop, axis = 1, inplace = True)\n",
    "    \n",
    "    # add log of total crime rates\n",
    "    newdf['all_crimes_rate_log'] = np.log(newdf.loc[:, 'all_crimes_rate'])\n",
    "    \n",
    "    # add crime rates\n",
    "    crime_types = ['burglary', 'felony_assault', 'grand_larceny', 'murder', 'rape', 'robbery']\n",
    "    for c in crime_types:\n",
    "        newdf[c + '_rate'] = newdf.loc[:, c] / newdf.loc[:, 'total_pop'] * 1000\n",
    "        log_transform(c + '_rate', newdf) \n",
    "        \n",
    "    # add population density\n",
    "    newdf['resident_density'] = newdf.loc[:, 'residents'] / newdf.loc[:, 'tract_area']\n",
    "    newdf['worker_density'] = newdf.loc[:, 'workers'] / newdf.loc[:, 'tract_area']\n",
    "    \n",
    "    # add log of population density\n",
    "    log_transform('resident_density', newdf)\n",
    "    log_transform('worker_density', newdf)\n",
    "    \n",
    "    return newdf"
   ]
  },
  {
   "cell_type": "code",
   "execution_count": 53,
   "metadata": {
    "collapsed": true
   },
   "outputs": [],
   "source": [
    "# clean up image data dfs a bit\n",
    "def clean_sspdf_for_ols(df):\n",
    "    \"\"\"Clean predicted streetscore column.\"\"\"\n",
    "    drop = ['zipcode', 'q-score', 'q_norm', 'fips_detail']\n",
    "    newdf = df.drop(drop, axis = 1)\n",
    "    newdf.rename(columns = {'q_norm_rev': 'danger_score_norm'}, inplace = True)\n",
    "    return newdf\n",
    "\n",
    "def clean_ssodf_for_ols(df):\n",
    "    \"\"\"Clean original streetscore column.\"\"\"\n",
    "    keep = ['Lat', 'Lon', 'zcta', 'fips_bg', 'fips_tract', 'q_norm_rev', 'danger_score_raw']\n",
    "    newdf = df[keep]\n",
    "    newdf.rename(columns = {'Lat': 'latitude', 'Lon': 'longitude', 'q_norm_rev': 'danger_score_norm'}, inplace = True)\n",
    "    return newdf"
   ]
  },
  {
   "cell_type": "code",
   "execution_count": 54,
   "metadata": {
    "collapsed": false
   },
   "outputs": [],
   "source": [
    "# clean up dfs\n",
    "crime_ols_2014 = clean_crimedf_for_ols_2010(crime2014_bg)\n",
    "crime_ols_2010 = clean_crimedf_for_ols_2010(crime2010_bg)\n",
    "ssp_ols = clean_sspdf_for_ols(ssp)\n",
    "sso_ols = clean_ssodf_for_ols(sso)"
   ]
  },
  {
   "cell_type": "code",
   "execution_count": 55,
   "metadata": {
    "collapsed": false
   },
   "outputs": [],
   "source": [
    "# merge with crime data; inner join to remove data pts without crime data\n",
    "ssp_ols = ssp_ols.merge(crime_ols_2014, left_on = 'fips_bg', right_on = 'fips_bg')\n",
    "sso_ols = sso_ols.merge(crime_ols_2010, left_on = 'fips_bg', right_on = 'fips_bg')"
   ]
  },
  {
   "cell_type": "markdown",
   "metadata": {},
   "source": [
    "Some quick plots to investigate data distribution."
   ]
  },
  {
   "cell_type": "code",
   "execution_count": 56,
   "metadata": {
    "collapsed": false
   },
   "outputs": [],
   "source": [
    "def plot_scatter(x_col, y_col, df):\n",
    "    \"\"\"Make a scatter plot!\"\"\"\n",
    "    plt.scatter(df[x_col], df[y_col], alpha = 0.5)\n",
    "    plt.title('%s vs. %s' %(x_col, y_col))\n",
    "    plt.xlabel('%s' %x_col)\n",
    "    plt.ylabel('%s' %y_col)\n",
    "    plt.show()"
   ]
  },
  {
   "cell_type": "code",
   "execution_count": 57,
   "metadata": {
    "collapsed": true
   },
   "outputs": [],
   "source": [
    "def plot_scatter_eval(x_col, y_col, df):\n",
    "    \"\"\"Make a scatter plot for model evaluation.\"\"\"\n",
    "    plt.scatter(df[x_col], df[y_col], alpha = 0.5)\n",
    "    plt.title('%s vs. %s: MSE = %f' %(x_col, y_col, mean_squared_error(df[x_col], df[y_col])))\n",
    "    plt.xlabel('%s' %x_col)\n",
    "    plt.ylabel('%s' %y_col)\n",
    "    plt.xlim(0, 10)\n",
    "    plt.ylim(0, 10)\n",
    "    plt.show()"
   ]
  },
  {
   "cell_type": "code",
   "execution_count": 508,
   "metadata": {
    "collapsed": false
   },
   "outputs": [
    {
     "data": {
      "image/png": "[encoded data removed]",
      "text/plain": [
       "<matplotlib.figure.Figure at 0x1112686d0>"
      ]
     },
     "metadata": {},
     "output_type": "display_data"
    }
   ],
   "source": [
    "plt.hist(sso_ols.danger_score_raw)\n",
    "plt.title('histogram of perceived danger scores');"
   ]
  },
  {
   "cell_type": "code",
   "execution_count": 462,
   "metadata": {
    "collapsed": false
   },
   "outputs": [
    {
     "data": {
      "image/png": "[encoded data removed]",
      "text/plain": [
       "<matplotlib.figure.Figure at 0x11b3f3590>"
      ]
     },
     "metadata": {},
     "output_type": "display_data"
    }
   ],
   "source": [
    "plt.hist(sso_ols.all_crimes_rate)\n",
    "plt.title('histogram of actual crime rates');"
   ]
  },
  {
   "cell_type": "code",
   "execution_count": 651,
   "metadata": {
    "collapsed": false
   },
   "outputs": [
    {
     "data": {
      "image/png": "[encoded data removed]",
      "text/plain": [
       "<matplotlib.figure.Figure at 0x11c071b50>"
      ]
     },
     "metadata": {},
     "output_type": "display_data"
    }
   ],
   "source": [
    "plot_scatter('all_crimes_rate', 'danger_score_raw', sso_ols)"
   ]
  },
  {
   "cell_type": "code",
   "execution_count": 652,
   "metadata": {
    "collapsed": false
   },
   "outputs": [
    {
     "data": {
      "image/png": "[encoded data removed]",
      "text/plain": [
       "<matplotlib.figure.Figure at 0x1114e5bd0>"
      ]
     },
     "metadata": {},
     "output_type": "display_data"
    }
   ],
   "source": [
    "plot_scatter('all_crimes_rate_log', 'danger_score_raw', sso_ols)"
   ]
  },
  {
   "cell_type": "code",
   "execution_count": 58,
   "metadata": {
    "collapsed": true
   },
   "outputs": [],
   "source": [
    "crime_cols = ['burglary_rate', u'burglary_rate_log',\n",
    "       u'felony_assault_rate', u'felony_assault_rate_log',\n",
    "       u'grand_larceny_rate', u'grand_larceny_rate_log', u'murder_rate',\n",
    "       u'murder_rate_log', u'rape_rate', u'rape_rate_log', u'robbery_rate',\n",
    "       u'robbery_rate_log']"
   ]
  },
  {
   "cell_type": "code",
   "execution_count": 653,
   "metadata": {
    "collapsed": false
   },
   "outputs": [
    {
     "data": {
      "image/png": "[encoded data removed]",
      "text/plain": [
       "<matplotlib.figure.Figure at 0x111ce5950>"
      ]
     },
     "metadata": {},
     "output_type": "display_data"
    },
    {
     "data": {
      "image/png": "[encoded data removed]",
      "text/plain": [
       "<matplotlib.figure.Figure at 0x11bd4dc10>"
      ]
     },
     "metadata": {},
     "output_type": "display_data"
    },
    {
     "data": {
      "image/png": "[encoded data removed]",
      "text/plain": [
       "<matplotlib.figure.Figure at 0x120199810>"
      ]
     },
     "metadata": {},
     "output_type": "display_data"
    },
    {
     "data": {
      "image/png": "[encoded data removed]",
      "text/plain": [
       "<matplotlib.figure.Figure at 0x11fc73ed0>"
      ]
     },
     "metadata": {},
     "output_type": "display_data"
    },
    {
     "data": {
      "image/png": "[encoded data removed]",
      "text/plain": [
       "<matplotlib.figure.Figure at 0x108f59dd0>"
      ]
     },
     "metadata": {},
     "output_type": "display_data"
    },
    {
     "data": {
      "image/png": "[encoded data removed]",
      "text/plain": [
       "<matplotlib.figure.Figure at 0x1201aca10>"
      ]
     },
     "metadata": {},
     "output_type": "display_data"
    },
    {
     "data": {
      "image/png": "[encoded data removed]",
      "text/plain": [
       "<matplotlib.figure.Figure at 0x121d05a90>"
      ]
     },
     "metadata": {},
     "output_type": "display_data"
    },
    {
     "data": {
      "image/png": "[encoded data removed]",
      "text/plain": [
       "<matplotlib.figure.Figure at 0x120daa8d0>"
      ]
     },
     "metadata": {},
     "output_type": "display_data"
    },
    {
     "data": {
      "image/png": "[encoded data removed]",
      "text/plain": [
       "<matplotlib.figure.Figure at 0x11fdf8dd0>"
      ]
     },
     "metadata": {},
     "output_type": "display_data"
    },
    {
     "data": {
      "image/png": "[encoded data removed]",
      "text/plain": [
       "<matplotlib.figure.Figure at 0x12055f350>"
      ]
     },
     "metadata": {},
     "output_type": "display_data"
    },
    {
     "data": {
      "image/png": "[encoded data removed]",
      "text/plain": [
       "<matplotlib.figure.Figure at 0x1090393d0>"
      ]
     },
     "metadata": {},
     "output_type": "display_data"
    },
    {
     "data": {
      "image/png": "[encoded data removed]",
      "text/plain": [
       "<matplotlib.figure.Figure at 0x12045c1d0>"
      ]
     },
     "metadata": {},
     "output_type": "display_data"
    }
   ],
   "source": [
    "for c in crime_cols:\n",
    "    plot_scatter(c, 'danger_score_raw', sso_ols)"
   ]
  },
  {
   "cell_type": "markdown",
   "metadata": {},
   "source": [
    "Build linear regression models."
   ]
  },
  {
   "cell_type": "code",
   "execution_count": 59,
   "metadata": {
    "collapsed": true
   },
   "outputs": [],
   "source": [
    "def get_dummies(df, cat_col):\n",
    "    \"\"\"Given df and categorical column, get dummies and reconcat.\"\"\"\n",
    "    cats = df[cat_col]\n",
    "    cats = pd.get_dummies(cats, prefix = 'landuse')\n",
    "    newdf = df.merge(cats, left_index = True, right_index = True)\n",
    "    return newdf"
   ]
  },
  {
   "cell_type": "code",
   "execution_count": 60,
   "metadata": {
    "collapsed": true
   },
   "outputs": [],
   "source": [
    "def get_xy(features, ind, df):\n",
    "    y = df[ind]\n",
    "    X = df[features]\n",
    "    X = sm.add_constant(X)\n",
    "    return X, y"
   ]
  },
  {
   "cell_type": "code",
   "execution_count": 841,
   "metadata": {
    "collapsed": true
   },
   "outputs": [],
   "source": [
    "def sm_ols(features, ind, df):\n",
    "    \"\"\"Build linear regression model using statsmodels given df and columns names of features and variable to predict.\n",
    "    \"\"\" \n",
    "    y = df[ind]\n",
    "    X = df[features]\n",
    "    X = sm.add_constant(X)\n",
    "    return sm.OLS(y, X).fit()"
   ]
  },
  {
   "cell_type": "code",
   "execution_count": 62,
   "metadata": {
    "collapsed": true
   },
   "outputs": [],
   "source": [
    "def rgr_lasso(features, ind, df):\n",
    "    y = df[ind]\n",
    "    X = df[features]\n",
    "    X = sm.add_constant(X)\n",
    "    m = LassoCV(cv = 5)\n",
    "    m.fit(X, y)\n",
    "    return m"
   ]
  },
  {
   "cell_type": "code",
   "execution_count": 63,
   "metadata": {
    "collapsed": true
   },
   "outputs": [],
   "source": [
    "def rgr_ridge(features, ind, df):\n",
    "    y = df[ind]\n",
    "    X = df[features]\n",
    "    X = sm.add_constant(X)\n",
    "    m = RidgeCV(cv = 5)\n",
    "    m.fit(X, y)\n",
    "    return m"
   ]
  },
  {
   "cell_type": "code",
   "execution_count": 64,
   "metadata": {
    "collapsed": true
   },
   "outputs": [],
   "source": [
    "def sm_sig_features(model):\n",
    "    \"\"\"Return names of features with p value < 0.05 for statsmodels rgr model.\"\"\"\n",
    "    return [model.pvalues.index[i] for i, p in enumerate(model.pvalues) if p < 0.05]"
   ]
  },
  {
   "cell_type": "markdown",
   "metadata": {},
   "source": [
    "**Crime only:** Try models with crime rate as the only predictor."
   ]
  },
  {
   "cell_type": "code",
   "execution_count": 65,
   "metadata": {
    "collapsed": false
   },
   "outputs": [],
   "source": [
    "ssp_model_crime_only = sm_ols(['all_crimes_rate_log'], ['danger_score_raw'], ssp_ols)\n",
    "sso_model_crime_only = sm_ols(['all_crimes_rate_log'], ['danger_score_raw'], sso_ols)"
   ]
  },
  {
   "cell_type": "code",
   "execution_count": 66,
   "metadata": {
    "collapsed": false
   },
   "outputs": [
    {
     "data": {
      "text/plain": [
       "0.00050515908099801887"
      ]
     },
     "execution_count": 66,
     "metadata": {},
     "output_type": "execute_result"
    }
   ],
   "source": [
    "ssp_model_crime_only.rsquared"
   ]
  },
  {
   "cell_type": "code",
   "execution_count": 67,
   "metadata": {
    "collapsed": false,
    "scrolled": true
   },
   "outputs": [
    {
     "data": {
      "text/plain": [
       "0.014683189828492815"
      ]
     },
     "execution_count": 67,
     "metadata": {},
     "output_type": "execute_result"
    }
   ],
   "source": [
    "sso_model_crime_only.rsquared"
   ]
  },
  {
   "cell_type": "markdown",
   "metadata": {},
   "source": [
    "**Crime only by type of crime:** Try models with detailed crime rates."
   ]
  },
  {
   "cell_type": "code",
   "execution_count": 68,
   "metadata": {
    "collapsed": true
   },
   "outputs": [],
   "source": [
    "crime_types = ['burglary_rate', 'felony_assault_rate', 'grand_larceny_rate', 'murder_rate', 'rape_rate', 'robbery_rate']\n",
    "crime_types_log = [c + '_log' for c in crime_types]"
   ]
  },
  {
   "cell_type": "code",
   "execution_count": 69,
   "metadata": {
    "collapsed": true
   },
   "outputs": [],
   "source": [
    "# refined features\n",
    "sso_crime_types = ['felony_assault_rate_log', 'murder_rate_log', 'robbery_rate_log', 'grand_larceny_rate', 'burglary_rate', 'rape_rate_log']"
   ]
  },
  {
   "cell_type": "code",
   "execution_count": 70,
   "metadata": {
    "collapsed": false
   },
   "outputs": [],
   "source": [
    "ssp_model_crime_types = sm_ols(crime_types, ['danger_score_raw'], ssp_ols)\n",
    "sso_model_crime_types = sm_ols(sso_crime_types, ['danger_score_raw'], sso_ols)"
   ]
  },
  {
   "cell_type": "code",
   "execution_count": 71,
   "metadata": {
    "collapsed": false
   },
   "outputs": [
    {
     "data": {
      "text/html": [
       "<table class=\"simpletable\">\n",
       "<caption>OLS Regression Results</caption>\n",
       "<tr>\n",
       "  <th>Dep. Variable:</th>    <td>danger_score_raw</td> <th>  R-squared:         </th> <td>   0.037</td>\n",
       "</tr>\n",
       "<tr>\n",
       "  <th>Model:</th>                   <td>OLS</td>       <th>  Adj. R-squared:    </th> <td>   0.034</td>\n",
       "</tr>\n",
       "<tr>\n",
       "  <th>Method:</th>             <td>Least Squares</td>  <th>  F-statistic:       </th> <td>   10.84</td>\n",
       "</tr>\n",
       "<tr>\n",
       "  <th>Date:</th>             <td>Tue, 22 Mar 2016</td> <th>  Prob (F-statistic):</th> <td>7.23e-12</td>\n",
       "</tr>\n",
       "<tr>\n",
       "  <th>Time:</th>                 <td>13:22:06</td>     <th>  Log-Likelihood:    </th> <td> -2929.9</td>\n",
       "</tr>\n",
       "<tr>\n",
       "  <th>No. Observations:</th>      <td>  1679</td>      <th>  AIC:               </th> <td>   5874.</td>\n",
       "</tr>\n",
       "<tr>\n",
       "  <th>Df Residuals:</th>          <td>  1672</td>      <th>  BIC:               </th> <td>   5912.</td>\n",
       "</tr>\n",
       "<tr>\n",
       "  <th>Df Model:</th>              <td>     6</td>      <th>                     </th>     <td> </td>   \n",
       "</tr>\n",
       "<tr>\n",
       "  <th>Covariance Type:</th>      <td>nonrobust</td>    <th>                     </th>     <td> </td>   \n",
       "</tr>\n",
       "</table>\n",
       "<table class=\"simpletable\">\n",
       "<tr>\n",
       "             <td></td>                <th>coef</th>     <th>std err</th>      <th>t</th>      <th>P>|t|</th> <th>[95.0% Conf. Int.]</th> \n",
       "</tr>\n",
       "<tr>\n",
       "  <th>const</th>                   <td>    4.2547</td> <td>    0.247</td> <td>   17.252</td> <td> 0.000</td> <td>    3.771     4.738</td>\n",
       "</tr>\n",
       "<tr>\n",
       "  <th>felony_assault_rate_log</th> <td>    0.0334</td> <td>    0.011</td> <td>    2.977</td> <td> 0.003</td> <td>    0.011     0.055</td>\n",
       "</tr>\n",
       "<tr>\n",
       "  <th>murder_rate_log</th>         <td>    0.0688</td> <td>    0.023</td> <td>    3.055</td> <td> 0.002</td> <td>    0.025     0.113</td>\n",
       "</tr>\n",
       "<tr>\n",
       "  <th>robbery_rate_log</th>        <td>    0.0390</td> <td>    0.012</td> <td>    3.340</td> <td> 0.001</td> <td>    0.016     0.062</td>\n",
       "</tr>\n",
       "<tr>\n",
       "  <th>grand_larceny_rate</th>      <td>   -0.0064</td> <td>    0.002</td> <td>   -2.898</td> <td> 0.004</td> <td>   -0.011    -0.002</td>\n",
       "</tr>\n",
       "<tr>\n",
       "  <th>burglary_rate</th>           <td>    0.0367</td> <td>    0.017</td> <td>    2.139</td> <td> 0.033</td> <td>    0.003     0.070</td>\n",
       "</tr>\n",
       "<tr>\n",
       "  <th>rape_rate_log</th>           <td>   -0.0464</td> <td>    0.028</td> <td>   -1.673</td> <td> 0.095</td> <td>   -0.101     0.008</td>\n",
       "</tr>\n",
       "</table>\n",
       "<table class=\"simpletable\">\n",
       "<tr>\n",
       "  <th>Omnibus:</th>       <td>13.953</td> <th>  Durbin-Watson:     </th> <td>   1.571</td>\n",
       "</tr>\n",
       "<tr>\n",
       "  <th>Prob(Omnibus):</th> <td> 0.001</td> <th>  Jarque-Bera (JB):  </th> <td>  14.175</td>\n",
       "</tr>\n",
       "<tr>\n",
       "  <th>Skew:</th>          <td> 0.217</td> <th>  Prob(JB):          </th> <td>0.000836</td>\n",
       "</tr>\n",
       "<tr>\n",
       "  <th>Kurtosis:</th>      <td> 2.882</td> <th>  Cond. No.          </th> <td>    139.</td>\n",
       "</tr>\n",
       "</table>"
      ],
      "text/plain": [
       "<class 'statsmodels.iolib.summary.Summary'>\n",
       "\"\"\"\n",
       "                            OLS Regression Results                            \n",
       "==============================================================================\n",
       "Dep. Variable:       danger_score_raw   R-squared:                       0.037\n",
       "Model:                            OLS   Adj. R-squared:                  0.034\n",
       "Method:                 Least Squares   F-statistic:                     10.84\n",
       "Date:                Tue, 22 Mar 2016   Prob (F-statistic):           7.23e-12\n",
       "Time:                        13:22:06   Log-Likelihood:                -2929.9\n",
       "No. Observations:                1679   AIC:                             5874.\n",
       "Df Residuals:                    1672   BIC:                             5912.\n",
       "Df Model:                           6                                         \n",
       "Covariance Type:            nonrobust                                         \n",
       "===========================================================================================\n",
       "                              coef    std err          t      P>|t|      [95.0% Conf. Int.]\n",
       "-------------------------------------------------------------------------------------------\n",
       "const                       4.2547      0.247     17.252      0.000         3.771     4.738\n",
       "felony_assault_rate_log     0.0334      0.011      2.977      0.003         0.011     0.055\n",
       "murder_rate_log             0.0688      0.023      3.055      0.002         0.025     0.113\n",
       "robbery_rate_log            0.0390      0.012      3.340      0.001         0.016     0.062\n",
       "grand_larceny_rate         -0.0064      0.002     -2.898      0.004        -0.011    -0.002\n",
       "burglary_rate               0.0367      0.017      2.139      0.033         0.003     0.070\n",
       "rape_rate_log              -0.0464      0.028     -1.673      0.095        -0.101     0.008\n",
       "==============================================================================\n",
       "Omnibus:                       13.953   Durbin-Watson:                   1.571\n",
       "Prob(Omnibus):                  0.001   Jarque-Bera (JB):               14.175\n",
       "Skew:                           0.217   Prob(JB):                     0.000836\n",
       "Kurtosis:                       2.882   Cond. No.                         139.\n",
       "==============================================================================\n",
       "\n",
       "Warnings:\n",
       "[1] Standard Errors assume that the covariance matrix of the errors is correctly specified.\n",
       "\"\"\""
      ]
     },
     "execution_count": 71,
     "metadata": {},
     "output_type": "execute_result"
    }
   ],
   "source": [
    "# with refined features\n",
    "sso_model_crime_types.summary()"
   ]
  },
  {
   "cell_type": "markdown",
   "metadata": {},
   "source": [
    "**Other features model:** As evidenced by the low r-squared scores, actual crime rates do little to predict the perceived safety scores. Next, let's try adding features that might do more to explain why streetscapes are ranked as \"unsafe.\" These features include:\n",
    "* resident population density (to get at zoning code)  \n",
    "* worker population density\n",
    "* number of construction permits \n",
    "* housing types\n",
    "* median income \n",
    "* housing values?\n",
    "\n",
    "Socioeconomic indicators may be correlated with crime rates > what would explain PERCEPTION?"
   ]
  },
  {
   "cell_type": "code",
   "execution_count": 72,
   "metadata": {
    "collapsed": true
   },
   "outputs": [],
   "source": [
    "# load other socioeconomic data\n",
    "edu = pd.read_csv('data/dem_data/acs_edu_attainment_25andolder_2014.csv') # done\n",
    "home_value = pd.read_csv('data/dem_data/acs_med_home_value_2014.csv') # done\n",
    "home_age = pd.read_csv('data/dem_data/acs_med_yr_house_built_2014.csv') # done\n",
    "vacant_units = pd.read_csv('data/dem_data/acs_occupied_vacant_units_2010.csv') # done\n",
    "home_type = pd.read_csv('data/dem_data/acs_housing_type_2014.csv')\n",
    "income = pd.read_csv('data/dem_data/acs_med_hh_income_2014.csv') # done"
   ]
  },
  {
   "cell_type": "code",
   "execution_count": 364,
   "metadata": {
    "collapsed": true
   },
   "outputs": [],
   "source": [
    "def clean_median_data(data):\n",
    "    \"\"\"Clean high and low bounds of median data. Convert string to float.\"\"\"\n",
    "    try:\n",
    "        if data[-1] == '-' or data[-1] == '+':\n",
    "            try: \n",
    "                return float(data[:-1])\n",
    "            except:\n",
    "                return 0\n",
    "        else:\n",
    "            return float(data)\n",
    "    except:\n",
    "        return float(data)"
   ]
  },
  {
   "cell_type": "code",
   "execution_count": 754,
   "metadata": {
    "collapsed": true
   },
   "outputs": [],
   "source": [
    "def clean_acs(df, data_col, geo_name, data_name):\n",
    "    \"\"\"Clean acs data files with single column of data.\"\"\"\n",
    "    keep = ['GEO.id2', data_col]\n",
    "    newdf = df[keep]\n",
    "    newdf.rename(columns = {'GEO.id2': geo_name, data_col: data_name}, inplace = True)\n",
    "    newdf.drop(0, inplace = True)\n",
    "    newdf[data_name] = newdf.loc[:, data_name].apply(lambda x: clean_median_data(x))\n",
    "    return newdf"
   ]
  },
  {
   "cell_type": "code",
   "execution_count": 75,
   "metadata": {
    "collapsed": true
   },
   "outputs": [],
   "source": [
    "def clean_acs_edu(df):\n",
    "    \"\"\"Calculate high school diploma attainment rates by geography.\"\"\"\n",
    "    keep = ['GEO.id2'] + [col for col in df.columns if 'HD01' in col]\n",
    "    newdf = df[keep]\n",
    "    metadata = newdf.loc[0, :]\n",
    "    newdf.drop(0, inplace = True)\n",
    "    newdf['hs_or_greater'] = newdf.loc[:, 'HD01_VD17':].astype(float).sum(axis = 1)\n",
    "    newdf['pct_hs_or_greater'] = newdf.loc[:, 'hs_or_greater'] / newdf.loc[:, 'HD01_VD01'].astype(float)\n",
    "    pctdf = newdf[['GEO.id2', 'pct_hs_or_greater']]\n",
    "    pctdf.rename(columns = {'GEO.id2': 'block_group'}, inplace = True)\n",
    "    return pctdf"
   ]
  },
  {
   "cell_type": "code",
   "execution_count": 76,
   "metadata": {
    "collapsed": true
   },
   "outputs": [],
   "source": [
    "def clean_acs_vacant_units(df):\n",
    "    \"\"\"Return percent vacant and occupied of total units by geography.\"\"\"\n",
    "    newdf = df.drop(['GEO.id', 'GEO.display-label'], axis = 1)\n",
    "    newdf.drop(0, inplace = True)\n",
    "    newdf['pct_occupied_units'] = newdf.loc[:, 'D002'].astype(float) / newdf.loc[:, 'D001'].astype(float)\n",
    "    newdf['pct_vacant_units'] = newdf.loc[:, 'D003'].astype(float) / newdf.loc[:, 'D001'].astype(float)\n",
    "    newdf.rename(columns = {'GEO.id2': 'block_group'}, inplace = True)\n",
    "    return newdf[['block_group', 'pct_occupied_units', 'pct_vacant_units']]"
   ]
  },
  {
   "cell_type": "code",
   "execution_count": 77,
   "metadata": {
    "collapsed": true
   },
   "outputs": [],
   "source": [
    "def clean_acs_home_type(df):\n",
    "    keep = ['GEO.id2'] + [col for col in df.columns if 'HD01' in col]\n",
    "    newdf = df[keep]\n",
    "    metadata = newdf.loc[0, :]\n",
    "    newdf.drop(0, inplace = True)\n",
    "    newdf['10_or_more_units'] = newdf.loc[:, 'HD01_VD07':'HD01_VD09'].astype(float).sum(axis = 1)\n",
    "    newdf['pct_10_or_more_units'] = newdf.loc[:, '10_or_more_units'] / newdf.loc[:, 'HD01_VD01'].astype(float)\n",
    "    pctdf = newdf[['GEO.id2', 'pct_10_or_more_units']]\n",
    "    pctdf.rename(columns = {'GEO.id2': 'block_group'}, inplace = True)\n",
    "    return pctdf"
   ]
  },
  {
   "cell_type": "code",
   "execution_count": 293,
   "metadata": {
    "collapsed": false
   },
   "outputs": [],
   "source": [
    "def multi_merge(df, merge_list, left_key = 'fips_big', right_key = 'block_group'):\n",
    "    for mdf in merge_list:\n",
    "        df = df.merge(mdf, how = 'left', left_on = left_key, right_on = right_key)\n",
    "    try:\n",
    "        newdf = df.drop(['block_group_x', 'block_group_y'], axis = 1)\n",
    "    except:\n",
    "        newdf = df\n",
    "    return newdf"
   ]
  },
  {
   "cell_type": "markdown",
   "metadata": {},
   "source": [
    "### PLUTO FILES  \n",
    "Land use codes:  \n",
    "* 1-4 = residential  \n",
    "* 5 = commercial & office  \n",
    "* 6-7 = industrial & manufacturing/transportation & utility  \n",
    "* 8 = public facilities and institutions  \n",
    "* 9 = open space  \n",
    "* 10 = parking  \n",
    "* 11 = vacant "
   ]
  },
  {
   "cell_type": "code",
   "execution_count": 79,
   "metadata": {
    "collapsed": true
   },
   "outputs": [],
   "source": [
    "def concat_pluto(df_paths):\n",
    "    \"\"\"Given pluto files, concat into one df.\"\"\"\n",
    "    df = pd.concat([pd.read_csv(path) for path in df_paths])\n",
    "    return df"
   ]
  },
  {
   "cell_type": "code",
   "execution_count": 80,
   "metadata": {
    "collapsed": true
   },
   "outputs": [],
   "source": [
    "def make_fips(ct2010, cb2010, borough):\n",
    "    state = '36'\n",
    "    boro_dict = {'BX': '005', 'BK': '047', 'MN': '061', 'QN': '081', 'SI': '085' }\n",
    "    try:\n",
    "        ct2010 = str(int(ct2010))\n",
    "        if len(ct2010) == 4:\n",
    "            ct = ct2010 + '00'\n",
    "        elif len(ct2010) == 3:\n",
    "            ct = '0' + ct2010 + '00'\n",
    "        elif len(ct2010) == 2:\n",
    "            ct = '00' + ct2010 + '00'\n",
    "        elif len(ct2010) == 1:\n",
    "            ct = '000' + ct2010 + '00'\n",
    "        else: \n",
    "            ct = ct2010\n",
    "        try:\n",
    "            return state + boro_dict[borough] + ct + str(int(cb2010))\n",
    "        except:\n",
    "            return state + boro_dict[borough] + ct\n",
    "    except:\n",
    "        return np.nan"
   ]
  },
  {
   "cell_type": "code",
   "execution_count": 668,
   "metadata": {
    "collapsed": true
   },
   "outputs": [],
   "source": [
    "def clean_pluto(df):\n",
    "    \"\"\"Given raw pluto df, add clean block groups and census tracts.\"\"\"\n",
    "    \n",
    "    # get census tract and block numbers\n",
    "    df.loc[:,'clean_block'] = df.apply(lambda row: make_fips(row.CT2010, row.CB2010, row.Borough), axis = 1)\n",
    "    newdf = df.dropna(subset = ['clean_block'])\n",
    "    newdf.loc[:,'block_group'] = newdf.loc[:, 'clean_block'].apply(lambda x: x[:12] if len(x) == 15 else np.nan)\n",
    "    newdf.loc[:,'fips_tract'] = newdf.loc[:, 'clean_block'].apply(lambda x: x[:11])\n",
    "    return newdf"
   ]
  },
  {
   "cell_type": "code",
   "execution_count": 674,
   "metadata": {
    "collapsed": true
   },
   "outputs": [],
   "source": [
    "def agg_pluto_by_geo(df, geo):\n",
    "    \"\"\"Given pluto df with fips codes, get primary landuse by geography.\"\"\"\n",
    "    # get predominant land use code by block group\n",
    "    newdf = df.dropna(subset = [geo])\n",
    "    mode = lambda x: x.mode() if len(x) > 2 else np.array(x)\n",
    "    grouped = newdf.groupby(geo)['LandUse'].agg(lambda x: x.value_counts().index[0])\n",
    "    grouped = pd.DataFrame(grouped)\n",
    "    grouped[geo] = grouped.index\n",
    "    grouped.loc[:, 'LandUse'] = grouped.loc[:, 'LandUse'].apply(lambda x: pluto_dict[x])\n",
    "    return grouped"
   ]
  },
  {
   "cell_type": "code",
   "execution_count": 84,
   "metadata": {
    "collapsed": true
   },
   "outputs": [
    {
     "name": "stderr",
     "output_type": "stream",
     "text": [
      "//anaconda/lib/python2.7/site-packages/IPython/core/interactiveshell.py:3006: DtypeWarning: Columns (15,16,18,19,21,62,63) have mixed types. Specify dtype option on import or set low_memory=False.\n",
      "  if self.run_code(code, result):\n",
      "//anaconda/lib/python2.7/site-packages/IPython/core/interactiveshell.py:3006: DtypeWarning: Columns (15,16,18,19,62,63,78) have mixed types. Specify dtype option on import or set low_memory=False.\n",
      "  if self.run_code(code, result):\n",
      "//anaconda/lib/python2.7/site-packages/IPython/core/interactiveshell.py:3006: DtypeWarning: Columns (16,19,20,21,78) have mixed types. Specify dtype option on import or set low_memory=False.\n",
      "  if self.run_code(code, result):\n",
      "//anaconda/lib/python2.7/site-packages/IPython/core/interactiveshell.py:3006: DtypeWarning: Columns (15,16,18,19,62,63,75,78) have mixed types. Specify dtype option on import or set low_memory=False.\n",
      "  if self.run_code(code, result):\n",
      "//anaconda/lib/python2.7/site-packages/IPython/core/interactiveshell.py:3006: DtypeWarning: Columns (15,16,18,19,20,62,63,78) have mixed types. Specify dtype option on import or set low_memory=False.\n",
      "  if self.run_code(code, result):\n"
     ]
    }
   ],
   "source": [
    "pluto14 = concat_pluto(['data/pluto/pluto_2014/BK.csv', 'data/pluto/pluto_2014/BX.csv', \n",
    "                      'data/pluto/pluto_2014/MN.csv', 'data/pluto/pluto_2014/QN.csv', 'data/pluto/pluto_2014/SI.csv'])"
   ]
  },
  {
   "cell_type": "code",
   "execution_count": 85,
   "metadata": {
    "collapsed": true
   },
   "outputs": [],
   "source": [
    "pluto_dict = {1: 'res_single_fam', 2: 'res_multi_fam_walkup', 3: 'res_multi_fam_elevator', \n",
    "              4: 'mixed_res_commercial', 5: 'office', 6: 'ind_manu', 7: 'transport_utility', \n",
    "              8: 'public_inst', 9: 'open_space', 10: 'parking', 11: 'vacant'}"
   ]
  },
  {
   "cell_type": "code",
   "execution_count": 669,
   "metadata": {
    "collapsed": true
   },
   "outputs": [],
   "source": [
    "pluto_clean = clean_pluto(pluto14)"
   ]
  },
  {
   "cell_type": "code",
   "execution_count": 679,
   "metadata": {
    "collapsed": false
   },
   "outputs": [],
   "source": [
    "landuse_tract = agg_pluto_by_geo(pluto_clean, 'fips_tract')\n",
    "landuse = agg_pluto_by_geo(pluto_clean, 'block_group')"
   ]
  },
  {
   "cell_type": "markdown",
   "metadata": {},
   "source": [
    "### /PLUTO FILES"
   ]
  },
  {
   "cell_type": "code",
   "execution_count": 753,
   "metadata": {
    "collapsed": true
   },
   "outputs": [],
   "source": [
    "clean_acs??"
   ]
  },
  {
   "cell_type": "code",
   "execution_count": 88,
   "metadata": {
    "collapsed": true
   },
   "outputs": [
    {
     "name": "stderr",
     "output_type": "stream",
     "text": [
      "/anaconda/lib/python2.7/site-packages/ipykernel/__main__.py:6: SettingWithCopyWarning: \n",
      "A value is trying to be set on a copy of a slice from a DataFrame\n",
      "\n",
      "See the caveats in the documentation: http://pandas.pydata.org/pandas-docs/stable/indexing.html#indexing-view-versus-copy\n",
      "/anaconda/lib/python2.7/site-packages/ipykernel/__main__.py:7: SettingWithCopyWarning: \n",
      "A value is trying to be set on a copy of a slice from a DataFrame.\n",
      "Try using .loc[row_indexer,col_indexer] = value instead\n",
      "\n",
      "See the caveats in the documentation: http://pandas.pydata.org/pandas-docs/stable/indexing.html#indexing-view-versus-copy\n",
      "/anaconda/lib/python2.7/site-packages/ipykernel/__main__.py:8: SettingWithCopyWarning: \n",
      "A value is trying to be set on a copy of a slice from a DataFrame.\n",
      "Try using .loc[row_indexer,col_indexer] = value instead\n",
      "\n",
      "See the caveats in the documentation: http://pandas.pydata.org/pandas-docs/stable/indexing.html#indexing-view-versus-copy\n",
      "/anaconda/lib/python2.7/site-packages/ipykernel/__main__.py:5: SettingWithCopyWarning: \n",
      "A value is trying to be set on a copy of a slice from a DataFrame\n",
      "\n",
      "See the caveats in the documentation: http://pandas.pydata.org/pandas-docs/stable/indexing.html#indexing-view-versus-copy\n",
      "/anaconda/lib/python2.7/site-packages/ipykernel/__main__.py:6: SettingWithCopyWarning: \n",
      "A value is trying to be set on a copy of a slice from a DataFrame.\n",
      "Try using .loc[row_indexer,col_indexer] = value instead\n",
      "\n",
      "See the caveats in the documentation: http://pandas.pydata.org/pandas-docs/stable/indexing.html#indexing-view-versus-copy\n"
     ]
    }
   ],
   "source": [
    "# prep acs data\n",
    "home_value_clean = clean_acs(home_value, 'HD01_VD01', 'block_group', 'med_home_value')\n",
    "home_age_clean = clean_acs(home_age, 'HD01_VD01', 'block_group', 'med_yr_built')\n",
    "income_clean = clean_acs(income, 'HD01_VD01', 'block_group', 'med_hh_income')\n",
    "edu_clean = clean_acs_edu(edu)\n",
    "vacant_units_clean = clean_acs_vacant_units(vacant_units)\n",
    "home_type_clean = clean_acs_home_type(home_type)"
   ]
  },
  {
   "cell_type": "code",
   "execution_count": 95,
   "metadata": {
    "collapsed": true
   },
   "outputs": [],
   "source": [
    "# merge with crime data\n",
    "ssp_ols2 = multi_merge(ssp_ols, [home_value_clean, home_age_clean, income_clean, edu_clean, vacant_units_clean, home_type_clean, landuse])\n",
    "ssp_ols2 = ssp_ols2.dropna()\n",
    "\n",
    "sso_ols2 = multi_merge(sso_ols, [home_value_clean, home_age_clean, income_clean, edu_clean, vacant_units_clean, home_type_clean, landuse])\n",
    "sso_ols2 = sso_ols2.dropna()"
   ]
  },
  {
   "cell_type": "code",
   "execution_count": 96,
   "metadata": {
    "collapsed": false
   },
   "outputs": [],
   "source": [
    "# get dummies for categorical variables\n",
    "ssp_ols2 = get_dummies(ssp_ols2, 'LandUse')\n",
    "sso_ols2 = get_dummies(sso_ols2, 'LandUse')"
   ]
  },
  {
   "cell_type": "markdown",
   "metadata": {},
   "source": [
    "Run regression models to predict safety scores by image."
   ]
  },
  {
   "cell_type": "code",
   "execution_count": 97,
   "metadata": {
    "collapsed": true
   },
   "outputs": [],
   "source": [
    "land_use_features = [col for col in ssp_ols2 if 'landuse' in col]\n",
    "land_use_features.remove('landuse_res_single_fam')"
   ]
  },
  {
   "cell_type": "code",
   "execution_count": 98,
   "metadata": {
    "collapsed": false
   },
   "outputs": [],
   "source": [
    "ssp_ols_mega_features = ['all_crimes_rate_log', 'resident_density_log', 'worker_density_log', \n",
    "                         'med_yr_built', 'pct_hs_or_greater', 'pct_vacant_units', 'pct_10_or_more_units'] + land_use_features\n",
    "ssp_mega_model = sm_ols(ssp_ols_mega_features, ['danger_score_raw'], ssp_ols2)"
   ]
  },
  {
   "cell_type": "code",
   "execution_count": 99,
   "metadata": {
    "collapsed": true
   },
   "outputs": [
    {
     "data": {
      "text/html": [
       "<table class=\"simpletable\">\n",
       "<caption>OLS Regression Results</caption>\n",
       "<tr>\n",
       "  <th>Dep. Variable:</th>    <td>danger_score_raw</td> <th>  R-squared:         </th>  <td>   0.083</td>  \n",
       "</tr>\n",
       "<tr>\n",
       "  <th>Model:</th>                   <td>OLS</td>       <th>  Adj. R-squared:    </th>  <td>   0.083</td>  \n",
       "</tr>\n",
       "<tr>\n",
       "  <th>Method:</th>             <td>Least Squares</td>  <th>  F-statistic:       </th>  <td>   1283.</td>  \n",
       "</tr>\n",
       "<tr>\n",
       "  <th>Date:</th>             <td>Tue, 22 Mar 2016</td> <th>  Prob (F-statistic):</th>   <td>  0.00</td>   \n",
       "</tr>\n",
       "<tr>\n",
       "  <th>Time:</th>                 <td>13:24:58</td>     <th>  Log-Likelihood:    </th> <td>-7.1529e+05</td>\n",
       "</tr>\n",
       "<tr>\n",
       "  <th>No. Observations:</th>      <td>240127</td>      <th>  AIC:               </th>  <td>1.431e+06</td> \n",
       "</tr>\n",
       "<tr>\n",
       "  <th>Df Residuals:</th>          <td>240109</td>      <th>  BIC:               </th>  <td>1.431e+06</td> \n",
       "</tr>\n",
       "<tr>\n",
       "  <th>Df Model:</th>              <td>    17</td>      <th>                     </th>      <td> </td>     \n",
       "</tr>\n",
       "<tr>\n",
       "  <th>Covariance Type:</th>      <td>nonrobust</td>    <th>                     </th>      <td> </td>     \n",
       "</tr>\n",
       "</table>\n",
       "<table class=\"simpletable\">\n",
       "<tr>\n",
       "                 <td></td>                   <th>coef</th>     <th>std err</th>      <th>t</th>      <th>P>|t|</th> <th>[95.0% Conf. Int.]</th> \n",
       "</tr>\n",
       "<tr>\n",
       "  <th>const</th>                          <td>   10.9731</td> <td>    0.170</td> <td>   64.371</td> <td> 0.000</td> <td>   10.639    11.307</td>\n",
       "</tr>\n",
       "<tr>\n",
       "  <th>all_crimes_rate_log</th>            <td>    0.2547</td> <td>    0.013</td> <td>   19.395</td> <td> 0.000</td> <td>    0.229     0.280</td>\n",
       "</tr>\n",
       "<tr>\n",
       "  <th>resident_density_log</th>           <td>   -0.9002</td> <td>    0.010</td> <td>  -90.214</td> <td> 0.000</td> <td>   -0.920    -0.881</td>\n",
       "</tr>\n",
       "<tr>\n",
       "  <th>worker_density_log</th>             <td>    0.2240</td> <td>    0.007</td> <td>   31.048</td> <td> 0.000</td> <td>    0.210     0.238</td>\n",
       "</tr>\n",
       "<tr>\n",
       "  <th>med_yr_built</th>                   <td>    0.0005</td> <td> 7.37e-05</td> <td>    6.943</td> <td> 0.000</td> <td>    0.000     0.001</td>\n",
       "</tr>\n",
       "<tr>\n",
       "  <th>pct_hs_or_greater</th>              <td>   -2.2675</td> <td>    0.079</td> <td>  -28.631</td> <td> 0.000</td> <td>   -2.423    -2.112</td>\n",
       "</tr>\n",
       "<tr>\n",
       "  <th>pct_vacant_units</th>               <td>    1.5339</td> <td>    0.162</td> <td>    9.442</td> <td> 0.000</td> <td>    1.216     1.852</td>\n",
       "</tr>\n",
       "<tr>\n",
       "  <th>pct_10_or_more_units</th>           <td>    0.2948</td> <td>    0.041</td> <td>    7.129</td> <td> 0.000</td> <td>    0.214     0.376</td>\n",
       "</tr>\n",
       "<tr>\n",
       "  <th>landuse_ind_manu</th>               <td>    3.2294</td> <td>    0.065</td> <td>   49.474</td> <td> 0.000</td> <td>    3.101     3.357</td>\n",
       "</tr>\n",
       "<tr>\n",
       "  <th>landuse_mixed_res_commercial</th>   <td>    0.0581</td> <td>    0.057</td> <td>    1.013</td> <td> 0.311</td> <td>   -0.054     0.170</td>\n",
       "</tr>\n",
       "<tr>\n",
       "  <th>landuse_office</th>                 <td>    0.1696</td> <td>    0.069</td> <td>    2.450</td> <td> 0.014</td> <td>    0.034     0.305</td>\n",
       "</tr>\n",
       "<tr>\n",
       "  <th>landuse_open_space</th>             <td>   -2.6406</td> <td>    0.099</td> <td>  -26.607</td> <td> 0.000</td> <td>   -2.835    -2.446</td>\n",
       "</tr>\n",
       "<tr>\n",
       "  <th>landuse_parking</th>                <td>    1.9365</td> <td>    0.146</td> <td>   13.270</td> <td> 0.000</td> <td>    1.650     2.222</td>\n",
       "</tr>\n",
       "<tr>\n",
       "  <th>landuse_public_inst</th>            <td>   -0.4789</td> <td>    0.106</td> <td>   -4.509</td> <td> 0.000</td> <td>   -0.687    -0.271</td>\n",
       "</tr>\n",
       "<tr>\n",
       "  <th>landuse_res_multi_fam_elevator</th> <td>    0.3596</td> <td>    0.069</td> <td>    5.209</td> <td> 0.000</td> <td>    0.224     0.495</td>\n",
       "</tr>\n",
       "<tr>\n",
       "  <th>landuse_res_multi_fam_walkup</th>   <td>    0.0497</td> <td>    0.032</td> <td>    1.547</td> <td> 0.122</td> <td>   -0.013     0.113</td>\n",
       "</tr>\n",
       "<tr>\n",
       "  <th>landuse_transport_utility</th>      <td>    2.9400</td> <td>    0.173</td> <td>   17.000</td> <td> 0.000</td> <td>    2.601     3.279</td>\n",
       "</tr>\n",
       "<tr>\n",
       "  <th>landuse_vacant</th>                 <td>    2.3534</td> <td>    0.175</td> <td>   13.410</td> <td> 0.000</td> <td>    2.009     2.697</td>\n",
       "</tr>\n",
       "</table>\n",
       "<table class=\"simpletable\">\n",
       "<tr>\n",
       "  <th>Omnibus:</th>       <td>2417.770</td> <th>  Durbin-Watson:     </th> <td>   1.351</td>\n",
       "</tr>\n",
       "<tr>\n",
       "  <th>Prob(Omnibus):</th>  <td> 0.000</td>  <th>  Jarque-Bera (JB):  </th> <td>3726.062</td>\n",
       "</tr>\n",
       "<tr>\n",
       "  <th>Skew:</th>           <td>-0.095</td>  <th>  Prob(JB):          </th> <td>    0.00</td>\n",
       "</tr>\n",
       "<tr>\n",
       "  <th>Kurtosis:</th>       <td> 3.580</td>  <th>  Cond. No.          </th> <td>3.61e+04</td>\n",
       "</tr>\n",
       "</table>"
      ],
      "text/plain": [
       "<class 'statsmodels.iolib.summary.Summary'>\n",
       "\"\"\"\n",
       "                            OLS Regression Results                            \n",
       "==============================================================================\n",
       "Dep. Variable:       danger_score_raw   R-squared:                       0.083\n",
       "Model:                            OLS   Adj. R-squared:                  0.083\n",
       "Method:                 Least Squares   F-statistic:                     1283.\n",
       "Date:                Tue, 22 Mar 2016   Prob (F-statistic):               0.00\n",
       "Time:                        13:24:58   Log-Likelihood:            -7.1529e+05\n",
       "No. Observations:              240127   AIC:                         1.431e+06\n",
       "Df Residuals:                  240109   BIC:                         1.431e+06\n",
       "Df Model:                          17                                         \n",
       "Covariance Type:            nonrobust                                         \n",
       "==================================================================================================\n",
       "                                     coef    std err          t      P>|t|      [95.0% Conf. Int.]\n",
       "--------------------------------------------------------------------------------------------------\n",
       "const                             10.9731      0.170     64.371      0.000        10.639    11.307\n",
       "all_crimes_rate_log                0.2547      0.013     19.395      0.000         0.229     0.280\n",
       "resident_density_log              -0.9002      0.010    -90.214      0.000        -0.920    -0.881\n",
       "worker_density_log                 0.2240      0.007     31.048      0.000         0.210     0.238\n",
       "med_yr_built                       0.0005   7.37e-05      6.943      0.000         0.000     0.001\n",
       "pct_hs_or_greater                 -2.2675      0.079    -28.631      0.000        -2.423    -2.112\n",
       "pct_vacant_units                   1.5339      0.162      9.442      0.000         1.216     1.852\n",
       "pct_10_or_more_units               0.2948      0.041      7.129      0.000         0.214     0.376\n",
       "landuse_ind_manu                   3.2294      0.065     49.474      0.000         3.101     3.357\n",
       "landuse_mixed_res_commercial       0.0581      0.057      1.013      0.311        -0.054     0.170\n",
       "landuse_office                     0.1696      0.069      2.450      0.014         0.034     0.305\n",
       "landuse_open_space                -2.6406      0.099    -26.607      0.000        -2.835    -2.446\n",
       "landuse_parking                    1.9365      0.146     13.270      0.000         1.650     2.222\n",
       "landuse_public_inst               -0.4789      0.106     -4.509      0.000        -0.687    -0.271\n",
       "landuse_res_multi_fam_elevator     0.3596      0.069      5.209      0.000         0.224     0.495\n",
       "landuse_res_multi_fam_walkup       0.0497      0.032      1.547      0.122        -0.013     0.113\n",
       "landuse_transport_utility          2.9400      0.173     17.000      0.000         2.601     3.279\n",
       "landuse_vacant                     2.3534      0.175     13.410      0.000         2.009     2.697\n",
       "==============================================================================\n",
       "Omnibus:                     2417.770   Durbin-Watson:                   1.351\n",
       "Prob(Omnibus):                  0.000   Jarque-Bera (JB):             3726.062\n",
       "Skew:                          -0.095   Prob(JB):                         0.00\n",
       "Kurtosis:                       3.580   Cond. No.                     3.61e+04\n",
       "==============================================================================\n",
       "\n",
       "Warnings:\n",
       "[1] Standard Errors assume that the covariance matrix of the errors is correctly specified.\n",
       "[2] The condition number is large, 3.61e+04. This might indicate that there are\n",
       "strong multicollinearity or other numerical problems.\n",
       "\"\"\""
      ]
     },
     "execution_count": 99,
     "metadata": {},
     "output_type": "execute_result"
    }
   ],
   "source": [
    "ssp_mega_model.summary()"
   ]
  },
  {
   "cell_type": "code",
   "execution_count": 100,
   "metadata": {
    "collapsed": true
   },
   "outputs": [],
   "source": [
    "ssp_mega_model_ridge = rgr_ridge(ssp_ols_mega_features, ['danger_score_raw'], ssp_ols2)"
   ]
  },
  {
   "cell_type": "code",
   "execution_count": 101,
   "metadata": {
    "collapsed": false
   },
   "outputs": [
    {
     "data": {
      "text/plain": [
       "[('const', 0.0),\n",
       " ('all_crimes_rate_log', 0.25493293040517528),\n",
       " ('resident_density_log', -0.90006738986251733),\n",
       " ('worker_density_log', 0.22440323745462709),\n",
       " ('med_yr_built', 0.00050855487464492998),\n",
       " ('pct_hs_or_greater', -2.2617985735165114),\n",
       " ('pct_vacant_units', 1.5195026275594787),\n",
       " ('pct_10_or_more_units', 0.2964543921680135),\n",
       " ('landuse_ind_manu', 3.2240785478748197),\n",
       " ('landuse_mixed_res_commercial', 0.055488812381266531),\n",
       " ('landuse_office', 0.16714511812867885),\n",
       " ('landuse_open_space', -2.633103375439759),\n",
       " ('landuse_parking', 1.9186093809824341),\n",
       " ('landuse_public_inst', -0.47931141122998999),\n",
       " ('landuse_res_multi_fam_elevator', 0.35667573844035866),\n",
       " ('landuse_res_multi_fam_walkup', 0.04846264828410312),\n",
       " ('landuse_transport_utility', 2.9014093743267599),\n",
       " ('landuse_vacant', 2.3212619096955112)]"
      ]
     },
     "execution_count": 101,
     "metadata": {},
     "output_type": "execute_result"
    }
   ],
   "source": [
    "zip(['const'] + ssp_ols_mega_features, ssp_mega_model_ridge.coef_[0])"
   ]
  },
  {
   "cell_type": "markdown",
   "metadata": {},
   "source": [
    "#### OLD MODELS"
   ]
  },
  {
   "cell_type": "markdown",
   "metadata": {},
   "source": [
    "Predicted dataset - with pluto data & crime rates only"
   ]
  },
  {
   "cell_type": "code",
   "execution_count": 1203,
   "metadata": {
    "collapsed": true
   },
   "outputs": [],
   "source": [
    "ssp_ols_features2 = ['all_crimes_rate_log'] + land_use_features"
   ]
  },
  {
   "cell_type": "code",
   "execution_count": 1186,
   "metadata": {
    "collapsed": false
   },
   "outputs": [],
   "source": [
    "ssp_model_land_use = sm_ols(ssp_ols_features2, ['danger_score_raw'], ssp_ols2)"
   ]
  },
  {
   "cell_type": "code",
   "execution_count": 1200,
   "metadata": {
    "collapsed": false
   },
   "outputs": [],
   "source": [
    "features_keep = sm_sig_features(ssp_model_land_use)"
   ]
  },
  {
   "cell_type": "code",
   "execution_count": 1187,
   "metadata": {
    "collapsed": true
   },
   "outputs": [
    {
     "data": {
      "text/html": [
       "<table class=\"simpletable\">\n",
       "<caption>OLS Regression Results</caption>\n",
       "<tr>\n",
       "  <th>Dep. Variable:</th>    <td>danger_score_raw</td> <th>  R-squared:         </th>  <td>   0.031</td>  \n",
       "</tr>\n",
       "<tr>\n",
       "  <th>Model:</th>                   <td>OLS</td>       <th>  Adj. R-squared:    </th>  <td>   0.031</td>  \n",
       "</tr>\n",
       "<tr>\n",
       "  <th>Method:</th>             <td>Least Squares</td>  <th>  F-statistic:       </th>  <td>   581.7</td>  \n",
       "</tr>\n",
       "<tr>\n",
       "  <th>Date:</th>             <td>Mon, 21 Mar 2016</td> <th>  Prob (F-statistic):</th>   <td>  0.00</td>   \n",
       "</tr>\n",
       "<tr>\n",
       "  <th>Time:</th>                 <td>14:19:02</td>     <th>  Log-Likelihood:    </th> <td>-5.9480e+05</td>\n",
       "</tr>\n",
       "<tr>\n",
       "  <th>No. Observations:</th>      <td>198857</td>      <th>  AIC:               </th>  <td>1.190e+06</td> \n",
       "</tr>\n",
       "<tr>\n",
       "  <th>Df Residuals:</th>          <td>198845</td>      <th>  BIC:               </th>  <td>1.190e+06</td> \n",
       "</tr>\n",
       "<tr>\n",
       "  <th>Df Model:</th>              <td>    11</td>      <th>                     </th>      <td> </td>     \n",
       "</tr>\n",
       "<tr>\n",
       "  <th>Covariance Type:</th>      <td>nonrobust</td>    <th>                     </th>      <td> </td>     \n",
       "</tr>\n",
       "</table>\n",
       "<table class=\"simpletable\">\n",
       "<tr>\n",
       "                 <td></td>                   <th>coef</th>     <th>std err</th>      <th>t</th>      <th>P>|t|</th> <th>[95.0% Conf. Int.]</th> \n",
       "</tr>\n",
       "<tr>\n",
       "  <th>const</th>                          <td>   12.7096</td> <td>    0.032</td> <td>  398.335</td> <td> 0.000</td> <td>   12.647    12.772</td>\n",
       "</tr>\n",
       "<tr>\n",
       "  <th>all_crimes_rate_log</th>            <td>    0.3997</td> <td>    0.015</td> <td>   27.145</td> <td> 0.000</td> <td>    0.371     0.429</td>\n",
       "</tr>\n",
       "<tr>\n",
       "  <th>landuse_ind_manu</th>               <td>    5.3863</td> <td>    0.076</td> <td>   71.182</td> <td> 0.000</td> <td>    5.238     5.535</td>\n",
       "</tr>\n",
       "<tr>\n",
       "  <th>landuse_mixed_res_commercial</th>   <td>    0.0564</td> <td>    0.075</td> <td>    0.753</td> <td> 0.452</td> <td>   -0.090     0.203</td>\n",
       "</tr>\n",
       "<tr>\n",
       "  <th>landuse_office</th>                 <td>    1.0799</td> <td>    0.084</td> <td>   12.792</td> <td> 0.000</td> <td>    0.914     1.245</td>\n",
       "</tr>\n",
       "<tr>\n",
       "  <th>landuse_open_space</th>             <td>   -0.1094</td> <td>    0.127</td> <td>   -0.859</td> <td> 0.390</td> <td>   -0.359     0.140</td>\n",
       "</tr>\n",
       "<tr>\n",
       "  <th>landuse_parking</th>                <td>    2.7758</td> <td>    0.231</td> <td>   12.013</td> <td> 0.000</td> <td>    2.323     3.229</td>\n",
       "</tr>\n",
       "<tr>\n",
       "  <th>landuse_public_inst</th>            <td>   -0.2340</td> <td>    0.168</td> <td>   -1.389</td> <td> 0.165</td> <td>   -0.564     0.096</td>\n",
       "</tr>\n",
       "<tr>\n",
       "  <th>landuse_res_multi_fam_elevator</th> <td>   -0.5408</td> <td>    0.097</td> <td>   -5.562</td> <td> 0.000</td> <td>   -0.731    -0.350</td>\n",
       "</tr>\n",
       "<tr>\n",
       "  <th>landuse_res_multi_fam_walkup</th>   <td>   -0.3469</td> <td>    0.035</td> <td>   -9.863</td> <td> 0.000</td> <td>   -0.416    -0.278</td>\n",
       "</tr>\n",
       "<tr>\n",
       "  <th>landuse_transport_utility</th>      <td>    4.0053</td> <td>    0.442</td> <td>    9.067</td> <td> 0.000</td> <td>    3.139     4.871</td>\n",
       "</tr>\n",
       "<tr>\n",
       "  <th>landuse_vacant</th>                 <td>    2.5341</td> <td>    0.324</td> <td>    7.832</td> <td> 0.000</td> <td>    1.900     3.168</td>\n",
       "</tr>\n",
       "</table>\n",
       "<table class=\"simpletable\">\n",
       "<tr>\n",
       "  <th>Omnibus:</th>       <td>1369.814</td> <th>  Durbin-Watson:     </th> <td>   1.286</td>\n",
       "</tr>\n",
       "<tr>\n",
       "  <th>Prob(Omnibus):</th>  <td> 0.000</td>  <th>  Jarque-Bera (JB):  </th> <td>2111.650</td>\n",
       "</tr>\n",
       "<tr>\n",
       "  <th>Skew:</th>           <td>-0.014</td>  <th>  Prob(JB):          </th> <td>    0.00</td>\n",
       "</tr>\n",
       "<tr>\n",
       "  <th>Kurtosis:</th>       <td> 3.504</td>  <th>  Cond. No.          </th> <td>    97.1</td>\n",
       "</tr>\n",
       "</table>"
      ],
      "text/plain": [
       "<class 'statsmodels.iolib.summary.Summary'>\n",
       "\"\"\"\n",
       "                            OLS Regression Results                            \n",
       "==============================================================================\n",
       "Dep. Variable:       danger_score_raw   R-squared:                       0.031\n",
       "Model:                            OLS   Adj. R-squared:                  0.031\n",
       "Method:                 Least Squares   F-statistic:                     581.7\n",
       "Date:                Mon, 21 Mar 2016   Prob (F-statistic):               0.00\n",
       "Time:                        14:19:02   Log-Likelihood:            -5.9480e+05\n",
       "No. Observations:              198857   AIC:                         1.190e+06\n",
       "Df Residuals:                  198845   BIC:                         1.190e+06\n",
       "Df Model:                          11                                         \n",
       "Covariance Type:            nonrobust                                         \n",
       "==================================================================================================\n",
       "                                     coef    std err          t      P>|t|      [95.0% Conf. Int.]\n",
       "--------------------------------------------------------------------------------------------------\n",
       "const                             12.7096      0.032    398.335      0.000        12.647    12.772\n",
       "all_crimes_rate_log                0.3997      0.015     27.145      0.000         0.371     0.429\n",
       "landuse_ind_manu                   5.3863      0.076     71.182      0.000         5.238     5.535\n",
       "landuse_mixed_res_commercial       0.0564      0.075      0.753      0.452        -0.090     0.203\n",
       "landuse_office                     1.0799      0.084     12.792      0.000         0.914     1.245\n",
       "landuse_open_space                -0.1094      0.127     -0.859      0.390        -0.359     0.140\n",
       "landuse_parking                    2.7758      0.231     12.013      0.000         2.323     3.229\n",
       "landuse_public_inst               -0.2340      0.168     -1.389      0.165        -0.564     0.096\n",
       "landuse_res_multi_fam_elevator    -0.5408      0.097     -5.562      0.000        -0.731    -0.350\n",
       "landuse_res_multi_fam_walkup      -0.3469      0.035     -9.863      0.000        -0.416    -0.278\n",
       "landuse_transport_utility          4.0053      0.442      9.067      0.000         3.139     4.871\n",
       "landuse_vacant                     2.5341      0.324      7.832      0.000         1.900     3.168\n",
       "==============================================================================\n",
       "Omnibus:                     1369.814   Durbin-Watson:                   1.286\n",
       "Prob(Omnibus):                  0.000   Jarque-Bera (JB):             2111.650\n",
       "Skew:                          -0.014   Prob(JB):                         0.00\n",
       "Kurtosis:                       3.504   Cond. No.                         97.1\n",
       "==============================================================================\n",
       "\n",
       "Warnings:\n",
       "[1] Standard Errors assume that the covariance matrix of the errors is correctly specified.\n",
       "\"\"\""
      ]
     },
     "execution_count": 1187,
     "metadata": {},
     "output_type": "execute_result"
    }
   ],
   "source": [
    "ssp_model_land_use.summary()"
   ]
  },
  {
   "cell_type": "markdown",
   "metadata": {},
   "source": [
    "Predicted dataset - with crime rates & dem data"
   ]
  },
  {
   "cell_type": "code",
   "execution_count": 886,
   "metadata": {
    "collapsed": false
   },
   "outputs": [],
   "source": [
    "ssp_ols_features = ['all_crimes_rate_log', 'resident_density_log', 'worker_density_log', \n",
    "                    'med_home_value', 'med_yr_built', 'med_hh_income',\n",
    "                    'pct_hs_or_greater', 'pct_vacant_units', 'pct_10_or_more_units']\n",
    "ssp_model = sm_ols(ssp_ols_features, ['danger_score_raw'], ssp_ols2)"
   ]
  },
  {
   "cell_type": "code",
   "execution_count": 887,
   "metadata": {
    "collapsed": true
   },
   "outputs": [
    {
     "data": {
      "text/html": [
       "<table class=\"simpletable\">\n",
       "<caption>OLS Regression Results</caption>\n",
       "<tr>\n",
       "  <th>Dep. Variable:</th>    <td>danger_score_raw</td> <th>  R-squared:         </th>  <td>   0.073</td>  \n",
       "</tr>\n",
       "<tr>\n",
       "  <th>Model:</th>                   <td>OLS</td>       <th>  Adj. R-squared:    </th>  <td>   0.073</td>  \n",
       "</tr>\n",
       "<tr>\n",
       "  <th>Method:</th>             <td>Least Squares</td>  <th>  F-statistic:       </th>  <td>   2202.</td>  \n",
       "</tr>\n",
       "<tr>\n",
       "  <th>Date:</th>             <td>Sun, 20 Mar 2016</td> <th>  Prob (F-statistic):</th>   <td>  0.00</td>   \n",
       "</tr>\n",
       "<tr>\n",
       "  <th>Time:</th>                 <td>15:15:29</td>     <th>  Log-Likelihood:    </th> <td>-7.4956e+05</td>\n",
       "</tr>\n",
       "<tr>\n",
       "  <th>No. Observations:</th>      <td>253184</td>      <th>  AIC:               </th>  <td>1.499e+06</td> \n",
       "</tr>\n",
       "<tr>\n",
       "  <th>Df Residuals:</th>          <td>253174</td>      <th>  BIC:               </th>  <td>1.499e+06</td> \n",
       "</tr>\n",
       "<tr>\n",
       "  <th>Df Model:</th>              <td>     9</td>      <th>                     </th>      <td> </td>     \n",
       "</tr>\n",
       "<tr>\n",
       "  <th>Covariance Type:</th>      <td>nonrobust</td>    <th>                     </th>      <td> </td>     \n",
       "</tr>\n",
       "</table>\n",
       "<table class=\"simpletable\">\n",
       "<tr>\n",
       "            <td></td>              <th>coef</th>     <th>std err</th>      <th>t</th>      <th>P>|t|</th> <th>[95.0% Conf. Int.]</th> \n",
       "</tr>\n",
       "<tr>\n",
       "  <th>const</th>                <td>  -39.9127</td> <td>    1.233</td> <td>  -32.361</td> <td> 0.000</td> <td>  -42.330   -37.495</td>\n",
       "</tr>\n",
       "<tr>\n",
       "  <th>all_crimes_rate_log</th>  <td>    0.1674</td> <td>    0.013</td> <td>   13.073</td> <td> 0.000</td> <td>    0.142     0.193</td>\n",
       "</tr>\n",
       "<tr>\n",
       "  <th>resident_density_log</th> <td>   -0.9220</td> <td>    0.010</td> <td>  -89.769</td> <td> 0.000</td> <td>   -0.942    -0.902</td>\n",
       "</tr>\n",
       "<tr>\n",
       "  <th>worker_density_log</th>   <td>    0.4141</td> <td>    0.007</td> <td>   59.478</td> <td> 0.000</td> <td>    0.400     0.428</td>\n",
       "</tr>\n",
       "<tr>\n",
       "  <th>med_home_value</th>       <td>-1.947e-06</td> <td>    6e-08</td> <td>  -32.436</td> <td> 0.000</td> <td>-2.06e-06 -1.83e-06</td>\n",
       "</tr>\n",
       "<tr>\n",
       "  <th>med_yr_built</th>         <td>    0.0277</td> <td>    0.001</td> <td>   43.388</td> <td> 0.000</td> <td>    0.026     0.029</td>\n",
       "</tr>\n",
       "<tr>\n",
       "  <th>med_hh_income</th>        <td>-6.574e-06</td> <td> 4.72e-07</td> <td>  -13.923</td> <td> 0.000</td> <td> -7.5e-06 -5.65e-06</td>\n",
       "</tr>\n",
       "<tr>\n",
       "  <th>pct_hs_or_greater</th>    <td>   -1.2304</td> <td>    0.101</td> <td>  -12.154</td> <td> 0.000</td> <td>   -1.429    -1.032</td>\n",
       "</tr>\n",
       "<tr>\n",
       "  <th>pct_vacant_units</th>     <td>    3.2094</td> <td>    0.174</td> <td>   18.421</td> <td> 0.000</td> <td>    2.868     3.551</td>\n",
       "</tr>\n",
       "<tr>\n",
       "  <th>pct_10_or_more_units</th> <td>   -0.4275</td> <td>    0.038</td> <td>  -11.399</td> <td> 0.000</td> <td>   -0.501    -0.354</td>\n",
       "</tr>\n",
       "</table>\n",
       "<table class=\"simpletable\">\n",
       "<tr>\n",
       "  <th>Omnibus:</th>       <td>2771.899</td> <th>  Durbin-Watson:     </th> <td>   1.333</td>\n",
       "</tr>\n",
       "<tr>\n",
       "  <th>Prob(Omnibus):</th>  <td> 0.000</td>  <th>  Jarque-Bera (JB):  </th> <td>4363.331</td>\n",
       "</tr>\n",
       "<tr>\n",
       "  <th>Skew:</th>           <td>-0.098</td>  <th>  Prob(JB):          </th> <td>    0.00</td>\n",
       "</tr>\n",
       "<tr>\n",
       "  <th>Kurtosis:</th>       <td> 3.612</td>  <th>  Cond. No.          </th> <td>7.14e+07</td>\n",
       "</tr>\n",
       "</table>"
      ],
      "text/plain": [
       "<class 'statsmodels.iolib.summary.Summary'>\n",
       "\"\"\"\n",
       "                            OLS Regression Results                            \n",
       "==============================================================================\n",
       "Dep. Variable:       danger_score_raw   R-squared:                       0.073\n",
       "Model:                            OLS   Adj. R-squared:                  0.073\n",
       "Method:                 Least Squares   F-statistic:                     2202.\n",
       "Date:                Sun, 20 Mar 2016   Prob (F-statistic):               0.00\n",
       "Time:                        15:15:29   Log-Likelihood:            -7.4956e+05\n",
       "No. Observations:              253184   AIC:                         1.499e+06\n",
       "Df Residuals:                  253174   BIC:                         1.499e+06\n",
       "Df Model:                           9                                         \n",
       "Covariance Type:            nonrobust                                         \n",
       "========================================================================================\n",
       "                           coef    std err          t      P>|t|      [95.0% Conf. Int.]\n",
       "----------------------------------------------------------------------------------------\n",
       "const                  -39.9127      1.233    -32.361      0.000       -42.330   -37.495\n",
       "all_crimes_rate_log      0.1674      0.013     13.073      0.000         0.142     0.193\n",
       "resident_density_log    -0.9220      0.010    -89.769      0.000        -0.942    -0.902\n",
       "worker_density_log       0.4141      0.007     59.478      0.000         0.400     0.428\n",
       "med_home_value       -1.947e-06      6e-08    -32.436      0.000     -2.06e-06 -1.83e-06\n",
       "med_yr_built             0.0277      0.001     43.388      0.000         0.026     0.029\n",
       "med_hh_income        -6.574e-06   4.72e-07    -13.923      0.000      -7.5e-06 -5.65e-06\n",
       "pct_hs_or_greater       -1.2304      0.101    -12.154      0.000        -1.429    -1.032\n",
       "pct_vacant_units         3.2094      0.174     18.421      0.000         2.868     3.551\n",
       "pct_10_or_more_units    -0.4275      0.038    -11.399      0.000        -0.501    -0.354\n",
       "==============================================================================\n",
       "Omnibus:                     2771.899   Durbin-Watson:                   1.333\n",
       "Prob(Omnibus):                  0.000   Jarque-Bera (JB):             4363.331\n",
       "Skew:                          -0.098   Prob(JB):                         0.00\n",
       "Kurtosis:                       3.612   Cond. No.                     7.14e+07\n",
       "==============================================================================\n",
       "\n",
       "Warnings:\n",
       "[1] Standard Errors assume that the covariance matrix of the errors is correctly specified.\n",
       "[2] The condition number is large, 7.14e+07. This might indicate that there are\n",
       "strong multicollinearity or other numerical problems.\n",
       "\"\"\""
      ]
     },
     "execution_count": 887,
     "metadata": {},
     "output_type": "execute_result"
    }
   ],
   "source": [
    "ssp_model.summary()"
   ]
  },
  {
   "cell_type": "markdown",
   "metadata": {},
   "source": [
    "#### Original dataset - all features"
   ]
  },
  {
   "cell_type": "code",
   "execution_count": 1208,
   "metadata": {
    "collapsed": true
   },
   "outputs": [],
   "source": [
    "land_use_features_sso = [col for col in sso_ols2 if 'landuse' in col]\n",
    "land_use_features_sso.remove('landuse_res_single_fam')"
   ]
  },
  {
   "cell_type": "code",
   "execution_count": 1209,
   "metadata": {
    "collapsed": false
   },
   "outputs": [],
   "source": [
    "sso_ols_mega_features = ['all_crimes_rate_log', 'resident_density', 'worker_density', \n",
    "                    'med_home_value', 'med_yr_built', 'med_hh_income',\n",
    "                    'pct_hs_or_greater', 'pct_vacant_units', 'pct_10_or_more_units'] + land_use_features_sso\n",
    "sso_mega_model = sm_ols(sso_ols_mega_features, ['danger_score_raw'], sso_ols2)"
   ]
  },
  {
   "cell_type": "code",
   "execution_count": 1210,
   "metadata": {
    "collapsed": false,
    "scrolled": true
   },
   "outputs": [
    {
     "data": {
      "text/html": [
       "<table class=\"simpletable\">\n",
       "<caption>OLS Regression Results</caption>\n",
       "<tr>\n",
       "  <th>Dep. Variable:</th>    <td>danger_score_raw</td> <th>  R-squared:         </th> <td>   0.154</td>\n",
       "</tr>\n",
       "<tr>\n",
       "  <th>Model:</th>                   <td>OLS</td>       <th>  Adj. R-squared:    </th> <td>   0.140</td>\n",
       "</tr>\n",
       "<tr>\n",
       "  <th>Method:</th>             <td>Least Squares</td>  <th>  F-statistic:       </th> <td>   11.61</td>\n",
       "</tr>\n",
       "<tr>\n",
       "  <th>Date:</th>             <td>Mon, 21 Mar 2016</td> <th>  Prob (F-statistic):</th> <td>2.22e-31</td>\n",
       "</tr>\n",
       "<tr>\n",
       "  <th>Time:</th>                 <td>14:34:05</td>     <th>  Log-Likelihood:    </th> <td> -1937.1</td>\n",
       "</tr>\n",
       "<tr>\n",
       "  <th>No. Observations:</th>      <td>  1169</td>      <th>  AIC:               </th> <td>   3912.</td>\n",
       "</tr>\n",
       "<tr>\n",
       "  <th>Df Residuals:</th>          <td>  1150</td>      <th>  BIC:               </th> <td>   4008.</td>\n",
       "</tr>\n",
       "<tr>\n",
       "  <th>Df Model:</th>              <td>    18</td>      <th>                     </th>     <td> </td>   \n",
       "</tr>\n",
       "<tr>\n",
       "  <th>Covariance Type:</th>      <td>nonrobust</td>    <th>                     </th>     <td> </td>   \n",
       "</tr>\n",
       "</table>\n",
       "<table class=\"simpletable\">\n",
       "<tr>\n",
       "                 <td></td>                   <th>coef</th>     <th>std err</th>      <th>t</th>      <th>P>|t|</th> <th>[95.0% Conf. Int.]</th> \n",
       "</tr>\n",
       "<tr>\n",
       "  <th>const</th>                          <td>  -13.2958</td> <td>    5.429</td> <td>   -2.449</td> <td> 0.014</td> <td>  -23.948    -2.644</td>\n",
       "</tr>\n",
       "<tr>\n",
       "  <th>all_crimes_rate_log</th>            <td>    0.1014</td> <td>    0.055</td> <td>    1.859</td> <td> 0.063</td> <td>   -0.006     0.208</td>\n",
       "</tr>\n",
       "<tr>\n",
       "  <th>resident_density</th>               <td>  -19.8330</td> <td>    4.398</td> <td>   -4.509</td> <td> 0.000</td> <td>  -28.463   -11.203</td>\n",
       "</tr>\n",
       "<tr>\n",
       "  <th>worker_density</th>                 <td>   -4.4861</td> <td>    1.745</td> <td>   -2.571</td> <td> 0.010</td> <td>   -7.910    -1.063</td>\n",
       "</tr>\n",
       "<tr>\n",
       "  <th>med_home_value</th>                 <td>-9.615e-07</td> <td> 2.39e-07</td> <td>   -4.024</td> <td> 0.000</td> <td>-1.43e-06 -4.93e-07</td>\n",
       "</tr>\n",
       "<tr>\n",
       "  <th>med_yr_built</th>                   <td>    0.0100</td> <td>    0.003</td> <td>    3.609</td> <td> 0.000</td> <td>    0.005     0.015</td>\n",
       "</tr>\n",
       "<tr>\n",
       "  <th>med_hh_income</th>                  <td>-5.234e-06</td> <td> 1.91e-06</td> <td>   -2.736</td> <td> 0.006</td> <td>-8.99e-06 -1.48e-06</td>\n",
       "</tr>\n",
       "<tr>\n",
       "  <th>pct_hs_or_greater</th>              <td>   -1.3946</td> <td>    0.371</td> <td>   -3.763</td> <td> 0.000</td> <td>   -2.122    -0.667</td>\n",
       "</tr>\n",
       "<tr>\n",
       "  <th>pct_vacant_units</th>               <td>    1.2850</td> <td>    0.599</td> <td>    2.147</td> <td> 0.032</td> <td>    0.111     2.460</td>\n",
       "</tr>\n",
       "<tr>\n",
       "  <th>pct_10_or_more_units</th>           <td>   -0.2119</td> <td>    0.177</td> <td>   -1.196</td> <td> 0.232</td> <td>   -0.559     0.136</td>\n",
       "</tr>\n",
       "<tr>\n",
       "  <th>landuse_ind_manu</th>               <td>    0.6386</td> <td>    0.265</td> <td>    2.414</td> <td> 0.016</td> <td>    0.120     1.158</td>\n",
       "</tr>\n",
       "<tr>\n",
       "  <th>landuse_mixed_res_commercial</th>   <td>   -0.1288</td> <td>    0.220</td> <td>   -0.586</td> <td> 0.558</td> <td>   -0.560     0.302</td>\n",
       "</tr>\n",
       "<tr>\n",
       "  <th>landuse_office</th>                 <td>    0.2616</td> <td>    0.345</td> <td>    0.758</td> <td> 0.449</td> <td>   -0.416     0.939</td>\n",
       "</tr>\n",
       "<tr>\n",
       "  <th>landuse_open_space</th>             <td>    0.9149</td> <td>    0.927</td> <td>    0.987</td> <td> 0.324</td> <td>   -0.903     2.733</td>\n",
       "</tr>\n",
       "<tr>\n",
       "  <th>landuse_parking</th>                <td>    2.0520</td> <td>    0.918</td> <td>    2.235</td> <td> 0.026</td> <td>    0.251     3.853</td>\n",
       "</tr>\n",
       "<tr>\n",
       "  <th>landuse_public_inst</th>            <td>   -0.2549</td> <td>    0.750</td> <td>   -0.340</td> <td> 0.734</td> <td>   -1.727     1.217</td>\n",
       "</tr>\n",
       "<tr>\n",
       "  <th>landuse_res_multi_fam_elevator</th> <td>    0.4115</td> <td>    0.302</td> <td>    1.362</td> <td> 0.173</td> <td>   -0.181     1.004</td>\n",
       "</tr>\n",
       "<tr>\n",
       "  <th>landuse_res_multi_fam_walkup</th>   <td>    0.0634</td> <td>    0.107</td> <td>    0.592</td> <td> 0.554</td> <td>   -0.147     0.273</td>\n",
       "</tr>\n",
       "<tr>\n",
       "  <th>landuse_vacant</th>                 <td>    0.9361</td> <td>    0.648</td> <td>    1.445</td> <td> 0.149</td> <td>   -0.335     2.208</td>\n",
       "</tr>\n",
       "</table>\n",
       "<table class=\"simpletable\">\n",
       "<tr>\n",
       "  <th>Omnibus:</th>       <td>13.903</td> <th>  Durbin-Watson:     </th> <td>   1.635</td>\n",
       "</tr>\n",
       "<tr>\n",
       "  <th>Prob(Omnibus):</th> <td> 0.001</td> <th>  Jarque-Bera (JB):  </th> <td>  14.222</td>\n",
       "</tr>\n",
       "<tr>\n",
       "  <th>Skew:</th>          <td> 0.270</td> <th>  Prob(JB):          </th> <td>0.000816</td>\n",
       "</tr>\n",
       "<tr>\n",
       "  <th>Kurtosis:</th>      <td> 2.984</td> <th>  Cond. No.          </th> <td>8.98e+07</td>\n",
       "</tr>\n",
       "</table>"
      ],
      "text/plain": [
       "<class 'statsmodels.iolib.summary.Summary'>\n",
       "\"\"\"\n",
       "                            OLS Regression Results                            \n",
       "==============================================================================\n",
       "Dep. Variable:       danger_score_raw   R-squared:                       0.154\n",
       "Model:                            OLS   Adj. R-squared:                  0.140\n",
       "Method:                 Least Squares   F-statistic:                     11.61\n",
       "Date:                Mon, 21 Mar 2016   Prob (F-statistic):           2.22e-31\n",
       "Time:                        14:34:05   Log-Likelihood:                -1937.1\n",
       "No. Observations:                1169   AIC:                             3912.\n",
       "Df Residuals:                    1150   BIC:                             4008.\n",
       "Df Model:                          18                                         \n",
       "Covariance Type:            nonrobust                                         \n",
       "==================================================================================================\n",
       "                                     coef    std err          t      P>|t|      [95.0% Conf. Int.]\n",
       "--------------------------------------------------------------------------------------------------\n",
       "const                            -13.2958      5.429     -2.449      0.014       -23.948    -2.644\n",
       "all_crimes_rate_log                0.1014      0.055      1.859      0.063        -0.006     0.208\n",
       "resident_density                 -19.8330      4.398     -4.509      0.000       -28.463   -11.203\n",
       "worker_density                    -4.4861      1.745     -2.571      0.010        -7.910    -1.063\n",
       "med_home_value                 -9.615e-07   2.39e-07     -4.024      0.000     -1.43e-06 -4.93e-07\n",
       "med_yr_built                       0.0100      0.003      3.609      0.000         0.005     0.015\n",
       "med_hh_income                  -5.234e-06   1.91e-06     -2.736      0.006     -8.99e-06 -1.48e-06\n",
       "pct_hs_or_greater                 -1.3946      0.371     -3.763      0.000        -2.122    -0.667\n",
       "pct_vacant_units                   1.2850      0.599      2.147      0.032         0.111     2.460\n",
       "pct_10_or_more_units              -0.2119      0.177     -1.196      0.232        -0.559     0.136\n",
       "landuse_ind_manu                   0.6386      0.265      2.414      0.016         0.120     1.158\n",
       "landuse_mixed_res_commercial      -0.1288      0.220     -0.586      0.558        -0.560     0.302\n",
       "landuse_office                     0.2616      0.345      0.758      0.449        -0.416     0.939\n",
       "landuse_open_space                 0.9149      0.927      0.987      0.324        -0.903     2.733\n",
       "landuse_parking                    2.0520      0.918      2.235      0.026         0.251     3.853\n",
       "landuse_public_inst               -0.2549      0.750     -0.340      0.734        -1.727     1.217\n",
       "landuse_res_multi_fam_elevator     0.4115      0.302      1.362      0.173        -0.181     1.004\n",
       "landuse_res_multi_fam_walkup       0.0634      0.107      0.592      0.554        -0.147     0.273\n",
       "landuse_vacant                     0.9361      0.648      1.445      0.149        -0.335     2.208\n",
       "==============================================================================\n",
       "Omnibus:                       13.903   Durbin-Watson:                   1.635\n",
       "Prob(Omnibus):                  0.001   Jarque-Bera (JB):               14.222\n",
       "Skew:                           0.270   Prob(JB):                     0.000816\n",
       "Kurtosis:                       2.984   Cond. No.                     8.98e+07\n",
       "==============================================================================\n",
       "\n",
       "Warnings:\n",
       "[1] Standard Errors assume that the covariance matrix of the errors is correctly specified.\n",
       "[2] The condition number is large, 8.98e+07. This might indicate that there are\n",
       "strong multicollinearity or other numerical problems.\n",
       "\"\"\""
      ]
     },
     "execution_count": 1210,
     "metadata": {},
     "output_type": "execute_result"
    }
   ],
   "source": [
    "sso_mega_model.summary()"
   ]
  },
  {
   "cell_type": "code",
   "execution_count": 1231,
   "metadata": {
    "collapsed": true
   },
   "outputs": [],
   "source": [
    "sso_mega_model_ridge = rgr_ridge(sso_ols_mega_features, ['danger_score_raw'], sso_ols2)"
   ]
  },
  {
   "cell_type": "code",
   "execution_count": 1233,
   "metadata": {
    "collapsed": false
   },
   "outputs": [
    {
     "data": {
      "text/plain": [
       "[('const', 0.0),\n",
       " ('all_crimes_rate_log', 0.12341295151498735),\n",
       " ('resident_density', -9.0597076529503173),\n",
       " ('worker_density', -3.3947357832346552),\n",
       " ('med_home_value', -9.2452300649072242e-07),\n",
       " ('med_yr_built', 0.011579210472614848),\n",
       " ('med_hh_income', -5.445549663400805e-06),\n",
       " ('pct_hs_or_greater', -1.1533978641896696),\n",
       " ('pct_vacant_units', 1.3832801811770727),\n",
       " ('pct_10_or_more_units', -0.40232927216761322),\n",
       " ('landuse_ind_manu', 0.78448755118621638),\n",
       " ('landuse_mixed_res_commercial', -0.19083961778888087),\n",
       " ('landuse_office', 0.16745707919886749),\n",
       " ('landuse_open_space', 1.1152977262540802),\n",
       " ('landuse_parking', 2.1074982118275876),\n",
       " ('landuse_public_inst', -0.41332849172974018),\n",
       " ('landuse_res_multi_fam_elevator', 0.35808492357817312),\n",
       " ('landuse_res_multi_fam_walkup', -0.008426296632900029),\n",
       " ('landuse_vacant', 0.98986313602824616)]"
      ]
     },
     "execution_count": 1233,
     "metadata": {},
     "output_type": "execute_result"
    }
   ],
   "source": [
    "zip(['const'] + sso_ols_mega_features, sso_mega_model_ridge.coef_[0])"
   ]
  },
  {
   "cell_type": "code",
   "execution_count": 1213,
   "metadata": {
    "collapsed": false
   },
   "outputs": [
    {
     "name": "stdout",
     "output_type": "stream",
     "text": [
      "['resident_density', 'worker_density', 'med_home_value', 'med_yr_built', 'med_hh_income', 'pct_hs_or_greater', 'pct_vacant_units', 'landuse_ind_manu', 'landuse_parking']\n"
     ]
    }
   ],
   "source": [
    "sso_keep_features = [feat for feat in sm_sig_features(sso_mega_model) if 'const' not in feat]\n",
    "print sso_keep_features"
   ]
  },
  {
   "cell_type": "code",
   "execution_count": 1214,
   "metadata": {
    "collapsed": false
   },
   "outputs": [],
   "source": [
    "sso_mega_model2 = sm_ols(sso_keep_features, ['danger_score_raw'], sso_ols2)"
   ]
  },
  {
   "cell_type": "code",
   "execution_count": 1215,
   "metadata": {
    "collapsed": false,
    "scrolled": true
   },
   "outputs": [
    {
     "data": {
      "text/html": [
       "<table class=\"simpletable\">\n",
       "<caption>OLS Regression Results</caption>\n",
       "<tr>\n",
       "  <th>Dep. Variable:</th>    <td>danger_score_raw</td> <th>  R-squared:         </th> <td>   0.146</td>\n",
       "</tr>\n",
       "<tr>\n",
       "  <th>Model:</th>                   <td>OLS</td>       <th>  Adj. R-squared:    </th> <td>   0.139</td>\n",
       "</tr>\n",
       "<tr>\n",
       "  <th>Method:</th>             <td>Least Squares</td>  <th>  F-statistic:       </th> <td>   21.94</td>\n",
       "</tr>\n",
       "<tr>\n",
       "  <th>Date:</th>             <td>Mon, 21 Mar 2016</td> <th>  Prob (F-statistic):</th> <td>1.29e-34</td>\n",
       "</tr>\n",
       "<tr>\n",
       "  <th>Time:</th>                 <td>14:36:33</td>     <th>  Log-Likelihood:    </th> <td> -1942.7</td>\n",
       "</tr>\n",
       "<tr>\n",
       "  <th>No. Observations:</th>      <td>  1169</td>      <th>  AIC:               </th> <td>   3905.</td>\n",
       "</tr>\n",
       "<tr>\n",
       "  <th>Df Residuals:</th>          <td>  1159</td>      <th>  BIC:               </th> <td>   3956.</td>\n",
       "</tr>\n",
       "<tr>\n",
       "  <th>Df Model:</th>              <td>     9</td>      <th>                     </th>     <td> </td>   \n",
       "</tr>\n",
       "<tr>\n",
       "  <th>Covariance Type:</th>      <td>nonrobust</td>    <th>                     </th>     <td> </td>   \n",
       "</tr>\n",
       "</table>\n",
       "<table class=\"simpletable\">\n",
       "<tr>\n",
       "          <td></td>             <th>coef</th>     <th>std err</th>      <th>t</th>      <th>P>|t|</th> <th>[95.0% Conf. Int.]</th> \n",
       "</tr>\n",
       "<tr>\n",
       "  <th>const</th>             <td>  -11.1596</td> <td>    5.142</td> <td>   -2.170</td> <td> 0.030</td> <td>  -21.249    -1.071</td>\n",
       "</tr>\n",
       "<tr>\n",
       "  <th>resident_density</th>  <td>  -23.0069</td> <td>    3.460</td> <td>   -6.649</td> <td> 0.000</td> <td>  -29.796   -16.218</td>\n",
       "</tr>\n",
       "<tr>\n",
       "  <th>worker_density</th>    <td>   -4.5140</td> <td>    1.057</td> <td>   -4.269</td> <td> 0.000</td> <td>   -6.589    -2.439</td>\n",
       "</tr>\n",
       "<tr>\n",
       "  <th>med_home_value</th>    <td>-1.004e-06</td> <td> 2.31e-07</td> <td>   -4.345</td> <td> 0.000</td> <td>-1.46e-06 -5.51e-07</td>\n",
       "</tr>\n",
       "<tr>\n",
       "  <th>med_yr_built</th>      <td>    0.0091</td> <td>    0.003</td> <td>    3.456</td> <td> 0.001</td> <td>    0.004     0.014</td>\n",
       "</tr>\n",
       "<tr>\n",
       "  <th>med_hh_income</th>     <td>-5.154e-06</td> <td> 1.83e-06</td> <td>   -2.817</td> <td> 0.005</td> <td>-8.74e-06 -1.56e-06</td>\n",
       "</tr>\n",
       "<tr>\n",
       "  <th>pct_hs_or_greater</th> <td>   -1.5578</td> <td>    0.346</td> <td>   -4.503</td> <td> 0.000</td> <td>   -2.237    -0.879</td>\n",
       "</tr>\n",
       "<tr>\n",
       "  <th>pct_vacant_units</th>  <td>    1.3328</td> <td>    0.587</td> <td>    2.269</td> <td> 0.023</td> <td>    0.180     2.485</td>\n",
       "</tr>\n",
       "<tr>\n",
       "  <th>landuse_ind_manu</th>  <td>    0.5383</td> <td>    0.252</td> <td>    2.137</td> <td> 0.033</td> <td>    0.044     1.032</td>\n",
       "</tr>\n",
       "<tr>\n",
       "  <th>landuse_parking</th>   <td>    1.8728</td> <td>    0.914</td> <td>    2.049</td> <td> 0.041</td> <td>    0.080     3.666</td>\n",
       "</tr>\n",
       "</table>\n",
       "<table class=\"simpletable\">\n",
       "<tr>\n",
       "  <th>Omnibus:</th>       <td>13.198</td> <th>  Durbin-Watson:     </th> <td>   1.625</td>\n",
       "</tr>\n",
       "<tr>\n",
       "  <th>Prob(Omnibus):</th> <td> 0.001</td> <th>  Jarque-Bera (JB):  </th> <td>  13.506</td>\n",
       "</tr>\n",
       "<tr>\n",
       "  <th>Skew:</th>          <td> 0.263</td> <th>  Prob(JB):          </th> <td> 0.00117</td>\n",
       "</tr>\n",
       "<tr>\n",
       "  <th>Kurtosis:</th>      <td> 2.963</td> <th>  Cond. No.          </th> <td>8.19e+07</td>\n",
       "</tr>\n",
       "</table>"
      ],
      "text/plain": [
       "<class 'statsmodels.iolib.summary.Summary'>\n",
       "\"\"\"\n",
       "                            OLS Regression Results                            \n",
       "==============================================================================\n",
       "Dep. Variable:       danger_score_raw   R-squared:                       0.146\n",
       "Model:                            OLS   Adj. R-squared:                  0.139\n",
       "Method:                 Least Squares   F-statistic:                     21.94\n",
       "Date:                Mon, 21 Mar 2016   Prob (F-statistic):           1.29e-34\n",
       "Time:                        14:36:33   Log-Likelihood:                -1942.7\n",
       "No. Observations:                1169   AIC:                             3905.\n",
       "Df Residuals:                    1159   BIC:                             3956.\n",
       "Df Model:                           9                                         \n",
       "Covariance Type:            nonrobust                                         \n",
       "=====================================================================================\n",
       "                        coef    std err          t      P>|t|      [95.0% Conf. Int.]\n",
       "-------------------------------------------------------------------------------------\n",
       "const               -11.1596      5.142     -2.170      0.030       -21.249    -1.071\n",
       "resident_density    -23.0069      3.460     -6.649      0.000       -29.796   -16.218\n",
       "worker_density       -4.5140      1.057     -4.269      0.000        -6.589    -2.439\n",
       "med_home_value    -1.004e-06   2.31e-07     -4.345      0.000     -1.46e-06 -5.51e-07\n",
       "med_yr_built          0.0091      0.003      3.456      0.001         0.004     0.014\n",
       "med_hh_income     -5.154e-06   1.83e-06     -2.817      0.005     -8.74e-06 -1.56e-06\n",
       "pct_hs_or_greater    -1.5578      0.346     -4.503      0.000        -2.237    -0.879\n",
       "pct_vacant_units      1.3328      0.587      2.269      0.023         0.180     2.485\n",
       "landuse_ind_manu      0.5383      0.252      2.137      0.033         0.044     1.032\n",
       "landuse_parking       1.8728      0.914      2.049      0.041         0.080     3.666\n",
       "==============================================================================\n",
       "Omnibus:                       13.198   Durbin-Watson:                   1.625\n",
       "Prob(Omnibus):                  0.001   Jarque-Bera (JB):               13.506\n",
       "Skew:                           0.263   Prob(JB):                      0.00117\n",
       "Kurtosis:                       2.963   Cond. No.                     8.19e+07\n",
       "==============================================================================\n",
       "\n",
       "Warnings:\n",
       "[1] Standard Errors assume that the covariance matrix of the errors is correctly specified.\n",
       "[2] The condition number is large, 8.19e+07. This might indicate that there are\n",
       "strong multicollinearity or other numerical problems.\n",
       "\"\"\""
      ]
     },
     "execution_count": 1215,
     "metadata": {},
     "output_type": "execute_result"
    }
   ],
   "source": [
    "sso_mega_model2.summary()"
   ]
  },
  {
   "cell_type": "code",
   "execution_count": 1234,
   "metadata": {
    "collapsed": true
   },
   "outputs": [],
   "source": [
    "sso_mega_model2_ridge = rgr_ridge(sso_keep_features, ['danger_score_raw'], sso_ols2)"
   ]
  },
  {
   "cell_type": "code",
   "execution_count": 1235,
   "metadata": {
    "collapsed": false
   },
   "outputs": [
    {
     "data": {
      "text/plain": [
       "[('const', 0.0),\n",
       " ('resident_density', -13.334409933848619),\n",
       " ('worker_density', -4.3470417510811892),\n",
       " ('med_home_value', -9.901506417304332e-07),\n",
       " ('med_yr_built', 0.0099744076324924727),\n",
       " ('med_hh_income', -5.2410219894826287e-06),\n",
       " ('pct_hs_or_greater', -1.4179061802241568),\n",
       " ('pct_vacant_units', 1.4214056034440183),\n",
       " ('landuse_ind_manu', 0.65928194684787289),\n",
       " ('landuse_parking', 1.8676238581952556)]"
      ]
     },
     "execution_count": 1235,
     "metadata": {},
     "output_type": "execute_result"
    }
   ],
   "source": [
    "zip(['const'] + sso_keep_features, sso_mega_model2_ridge.coef_[0])"
   ]
  },
  {
   "cell_type": "markdown",
   "metadata": {},
   "source": [
    "#### OLD MODELS "
   ]
  },
  {
   "cell_type": "markdown",
   "metadata": {},
   "source": [
    "Original dataset - with pluto data & crime rates only"
   ]
  },
  {
   "cell_type": "code",
   "execution_count": 1141,
   "metadata": {
    "collapsed": true
   },
   "outputs": [],
   "source": [
    "sso_ols_features2 = ['all_crimes_rate_log', 'LandUse']"
   ]
  },
  {
   "cell_type": "code",
   "execution_count": 1142,
   "metadata": {
    "collapsed": true
   },
   "outputs": [],
   "source": [
    "X2, y2 = get_xy(sso_ols_features2, ['danger_score_raw'], sso_ols2)"
   ]
  },
  {
   "cell_type": "code",
   "execution_count": 1144,
   "metadata": {
    "collapsed": false
   },
   "outputs": [],
   "source": [
    "X2.drop('LandUse_res_single_fam', axis = 1, inplace = True)"
   ]
  },
  {
   "cell_type": "code",
   "execution_count": 1146,
   "metadata": {
    "collapsed": false
   },
   "outputs": [],
   "source": [
    "model = sm.OLS(y2, X2).fit()"
   ]
  },
  {
   "cell_type": "code",
   "execution_count": 1147,
   "metadata": {
    "collapsed": true
   },
   "outputs": [
    {
     "data": {
      "text/html": [
       "<table class=\"simpletable\">\n",
       "<caption>OLS Regression Results</caption>\n",
       "<tr>\n",
       "  <th>Dep. Variable:</th>    <td>danger_score_raw</td> <th>  R-squared:         </th> <td>   0.066</td>\n",
       "</tr>\n",
       "<tr>\n",
       "  <th>Model:</th>                   <td>OLS</td>       <th>  Adj. R-squared:    </th> <td>   0.058</td>\n",
       "</tr>\n",
       "<tr>\n",
       "  <th>Method:</th>             <td>Least Squares</td>  <th>  F-statistic:       </th> <td>   8.138</td>\n",
       "</tr>\n",
       "<tr>\n",
       "  <th>Date:</th>             <td>Mon, 21 Mar 2016</td> <th>  Prob (F-statistic):</th> <td>8.18e-13</td>\n",
       "</tr>\n",
       "<tr>\n",
       "  <th>Time:</th>                 <td>14:03:20</td>     <th>  Log-Likelihood:    </th> <td> -1994.9</td>\n",
       "</tr>\n",
       "<tr>\n",
       "  <th>No. Observations:</th>      <td>  1169</td>      <th>  AIC:               </th> <td>   4012.</td>\n",
       "</tr>\n",
       "<tr>\n",
       "  <th>Df Residuals:</th>          <td>  1158</td>      <th>  BIC:               </th> <td>   4068.</td>\n",
       "</tr>\n",
       "<tr>\n",
       "  <th>Df Model:</th>              <td>    10</td>      <th>                     </th>     <td> </td>   \n",
       "</tr>\n",
       "<tr>\n",
       "  <th>Covariance Type:</th>      <td>nonrobust</td>    <th>                     </th>     <td> </td>   \n",
       "</tr>\n",
       "</table>\n",
       "<table class=\"simpletable\">\n",
       "<tr>\n",
       "                 <td></td>                   <th>coef</th>     <th>std err</th>      <th>t</th>      <th>P>|t|</th> <th>[95.0% Conf. Int.]</th> \n",
       "</tr>\n",
       "<tr>\n",
       "  <th>const</th>                          <td>    3.6236</td> <td>    0.123</td> <td>   29.531</td> <td> 0.000</td> <td>    3.383     3.864</td>\n",
       "</tr>\n",
       "<tr>\n",
       "  <th>all_crimes_rate_log</th>            <td>    0.2643</td> <td>    0.054</td> <td>    4.879</td> <td> 0.000</td> <td>    0.158     0.371</td>\n",
       "</tr>\n",
       "<tr>\n",
       "  <th>LandUse_ind_manu</th>               <td>    0.8331</td> <td>    0.249</td> <td>    3.340</td> <td> 0.001</td> <td>    0.344     1.322</td>\n",
       "</tr>\n",
       "<tr>\n",
       "  <th>LandUse_mixed_res_commercial</th>   <td>   -0.7347</td> <td>    0.195</td> <td>   -3.763</td> <td> 0.000</td> <td>   -1.118    -0.352</td>\n",
       "</tr>\n",
       "<tr>\n",
       "  <th>LandUse_office</th>                 <td>   -0.7859</td> <td>    0.199</td> <td>   -3.940</td> <td> 0.000</td> <td>   -1.177    -0.395</td>\n",
       "</tr>\n",
       "<tr>\n",
       "  <th>LandUse_open_space</th>             <td>    0.3057</td> <td>    0.950</td> <td>    0.322</td> <td> 0.748</td> <td>   -1.558     2.169</td>\n",
       "</tr>\n",
       "<tr>\n",
       "  <th>LandUse_parking</th>                <td>    2.5977</td> <td>    0.949</td> <td>    2.739</td> <td> 0.006</td> <td>    0.737     4.459</td>\n",
       "</tr>\n",
       "<tr>\n",
       "  <th>LandUse_public_inst</th>            <td>   -1.0295</td> <td>    0.775</td> <td>   -1.328</td> <td> 0.184</td> <td>   -2.550     0.491</td>\n",
       "</tr>\n",
       "<tr>\n",
       "  <th>LandUse_res_multi_fam_elevator</th> <td>   -0.2182</td> <td>    0.284</td> <td>   -0.768</td> <td> 0.442</td> <td>   -0.775     0.339</td>\n",
       "</tr>\n",
       "<tr>\n",
       "  <th>LandUse_res_multi_fam_walkup</th>   <td>   -0.1346</td> <td>    0.101</td> <td>   -1.339</td> <td> 0.181</td> <td>   -0.332     0.063</td>\n",
       "</tr>\n",
       "<tr>\n",
       "  <th>LandUse_vacant</th>                 <td>    0.7631</td> <td>    0.672</td> <td>    1.135</td> <td> 0.256</td> <td>   -0.555     2.082</td>\n",
       "</tr>\n",
       "</table>\n",
       "<table class=\"simpletable\">\n",
       "<tr>\n",
       "  <th>Omnibus:</th>       <td>13.265</td> <th>  Durbin-Watson:     </th> <td>   1.550</td>\n",
       "</tr>\n",
       "<tr>\n",
       "  <th>Prob(Omnibus):</th> <td> 0.001</td> <th>  Jarque-Bera (JB):  </th> <td>  13.566</td>\n",
       "</tr>\n",
       "<tr>\n",
       "  <th>Skew:</th>          <td> 0.263</td> <th>  Prob(JB):          </th> <td> 0.00113</td>\n",
       "</tr>\n",
       "<tr>\n",
       "  <th>Kurtosis:</th>      <td> 2.971</td> <th>  Cond. No.          </th> <td>    59.3</td>\n",
       "</tr>\n",
       "</table>"
      ],
      "text/plain": [
       "<class 'statsmodels.iolib.summary.Summary'>\n",
       "\"\"\"\n",
       "                            OLS Regression Results                            \n",
       "==============================================================================\n",
       "Dep. Variable:       danger_score_raw   R-squared:                       0.066\n",
       "Model:                            OLS   Adj. R-squared:                  0.058\n",
       "Method:                 Least Squares   F-statistic:                     8.138\n",
       "Date:                Mon, 21 Mar 2016   Prob (F-statistic):           8.18e-13\n",
       "Time:                        14:03:20   Log-Likelihood:                -1994.9\n",
       "No. Observations:                1169   AIC:                             4012.\n",
       "Df Residuals:                    1158   BIC:                             4068.\n",
       "Df Model:                          10                                         \n",
       "Covariance Type:            nonrobust                                         \n",
       "==================================================================================================\n",
       "                                     coef    std err          t      P>|t|      [95.0% Conf. Int.]\n",
       "--------------------------------------------------------------------------------------------------\n",
       "const                              3.6236      0.123     29.531      0.000         3.383     3.864\n",
       "all_crimes_rate_log                0.2643      0.054      4.879      0.000         0.158     0.371\n",
       "LandUse_ind_manu                   0.8331      0.249      3.340      0.001         0.344     1.322\n",
       "LandUse_mixed_res_commercial      -0.7347      0.195     -3.763      0.000        -1.118    -0.352\n",
       "LandUse_office                    -0.7859      0.199     -3.940      0.000        -1.177    -0.395\n",
       "LandUse_open_space                 0.3057      0.950      0.322      0.748        -1.558     2.169\n",
       "LandUse_parking                    2.5977      0.949      2.739      0.006         0.737     4.459\n",
       "LandUse_public_inst               -1.0295      0.775     -1.328      0.184        -2.550     0.491\n",
       "LandUse_res_multi_fam_elevator    -0.2182      0.284     -0.768      0.442        -0.775     0.339\n",
       "LandUse_res_multi_fam_walkup      -0.1346      0.101     -1.339      0.181        -0.332     0.063\n",
       "LandUse_vacant                     0.7631      0.672      1.135      0.256        -0.555     2.082\n",
       "==============================================================================\n",
       "Omnibus:                       13.265   Durbin-Watson:                   1.550\n",
       "Prob(Omnibus):                  0.001   Jarque-Bera (JB):               13.566\n",
       "Skew:                           0.263   Prob(JB):                      0.00113\n",
       "Kurtosis:                       2.971   Cond. No.                         59.3\n",
       "==============================================================================\n",
       "\n",
       "Warnings:\n",
       "[1] Standard Errors assume that the covariance matrix of the errors is correctly specified.\n",
       "\"\"\""
      ]
     },
     "execution_count": 1147,
     "metadata": {},
     "output_type": "execute_result"
    }
   ],
   "source": [
    "model.summary()"
   ]
  },
  {
   "cell_type": "markdown",
   "metadata": {},
   "source": [
    "Original dataset - with crime rates & dem data"
   ]
  },
  {
   "cell_type": "code",
   "execution_count": 888,
   "metadata": {
    "collapsed": false
   },
   "outputs": [],
   "source": [
    "sso_ols_features = ['all_crimes_rate_log', 'resident_density', 'worker_density', \n",
    "                    'med_home_value', 'med_yr_built', 'med_hh_income',\n",
    "                    'pct_hs_or_greater', 'pct_vacant_units', 'pct_10_or_more_units']\n",
    "sso_model = sm_ols(sso_ols_features, ['danger_score_raw'], sso_ols2)"
   ]
  },
  {
   "cell_type": "code",
   "execution_count": 912,
   "metadata": {
    "collapsed": false
   },
   "outputs": [],
   "source": [
    "sso_ols_features_crime_types = sso_ols_features[1:] + sso_crime_types "
   ]
  },
  {
   "cell_type": "code",
   "execution_count": 913,
   "metadata": {
    "collapsed": true
   },
   "outputs": [],
   "source": [
    "sso_model_crime_types_with_dem = sm_ols(sso_ols_features_crime_types, ['danger_score_raw'], sso_ols2)"
   ]
  },
  {
   "cell_type": "code",
   "execution_count": 914,
   "metadata": {
    "collapsed": true
   },
   "outputs": [
    {
     "data": {
      "text/html": [
       "<table class=\"simpletable\">\n",
       "<caption>OLS Regression Results</caption>\n",
       "<tr>\n",
       "  <th>Dep. Variable:</th>    <td>danger_score_raw</td> <th>  R-squared:         </th> <td>   0.149</td>\n",
       "</tr>\n",
       "<tr>\n",
       "  <th>Model:</th>                   <td>OLS</td>       <th>  Adj. R-squared:    </th> <td>   0.140</td>\n",
       "</tr>\n",
       "<tr>\n",
       "  <th>Method:</th>             <td>Least Squares</td>  <th>  F-statistic:       </th> <td>   17.32</td>\n",
       "</tr>\n",
       "<tr>\n",
       "  <th>Date:</th>             <td>Sun, 20 Mar 2016</td> <th>  Prob (F-statistic):</th> <td>2.62e-37</td>\n",
       "</tr>\n",
       "<tr>\n",
       "  <th>Time:</th>                 <td>16:32:35</td>     <th>  Log-Likelihood:    </th> <td> -2158.8</td>\n",
       "</tr>\n",
       "<tr>\n",
       "  <th>No. Observations:</th>      <td>  1302</td>      <th>  AIC:               </th> <td>   4346.</td>\n",
       "</tr>\n",
       "<tr>\n",
       "  <th>Df Residuals:</th>          <td>  1288</td>      <th>  BIC:               </th> <td>   4418.</td>\n",
       "</tr>\n",
       "<tr>\n",
       "  <th>Df Model:</th>              <td>    13</td>      <th>                     </th>     <td> </td>   \n",
       "</tr>\n",
       "<tr>\n",
       "  <th>Covariance Type:</th>      <td>nonrobust</td>    <th>                     </th>     <td> </td>   \n",
       "</tr>\n",
       "</table>\n",
       "<table class=\"simpletable\">\n",
       "<tr>\n",
       "             <td></td>                <th>coef</th>     <th>std err</th>      <th>t</th>      <th>P>|t|</th> <th>[95.0% Conf. Int.]</th> \n",
       "</tr>\n",
       "<tr>\n",
       "  <th>const</th>                   <td>  -12.2614</td> <td>    5.111</td> <td>   -2.399</td> <td> 0.017</td> <td>  -22.288    -2.235</td>\n",
       "</tr>\n",
       "<tr>\n",
       "  <th>resident_density</th>        <td>  -23.0297</td> <td>    3.734</td> <td>   -6.167</td> <td> 0.000</td> <td>  -30.356   -15.703</td>\n",
       "</tr>\n",
       "<tr>\n",
       "  <th>worker_density</th>          <td>   -4.5879</td> <td>    1.111</td> <td>   -4.131</td> <td> 0.000</td> <td>   -6.767    -2.409</td>\n",
       "</tr>\n",
       "<tr>\n",
       "  <th>med_home_value</th>          <td>-9.491e-07</td> <td> 2.18e-07</td> <td>   -4.348</td> <td> 0.000</td> <td>-1.38e-06 -5.21e-07</td>\n",
       "</tr>\n",
       "<tr>\n",
       "  <th>med_yr_built</th>            <td>    0.0098</td> <td>    0.003</td> <td>    3.760</td> <td> 0.000</td> <td>    0.005     0.015</td>\n",
       "</tr>\n",
       "<tr>\n",
       "  <th>med_hh_income</th>           <td>-4.194e-06</td> <td> 1.79e-06</td> <td>   -2.342</td> <td> 0.019</td> <td>-7.71e-06  -6.8e-07</td>\n",
       "</tr>\n",
       "<tr>\n",
       "  <th>pct_hs_or_greater</th>       <td>   -1.2749</td> <td>    0.352</td> <td>   -3.626</td> <td> 0.000</td> <td>   -1.965    -0.585</td>\n",
       "</tr>\n",
       "<tr>\n",
       "  <th>pct_vacant_units</th>        <td>    1.3467</td> <td>    0.568</td> <td>    2.369</td> <td> 0.018</td> <td>    0.231     2.462</td>\n",
       "</tr>\n",
       "<tr>\n",
       "  <th>pct_10_or_more_units</th>    <td>    0.0435</td> <td>    0.147</td> <td>    0.296</td> <td> 0.767</td> <td>   -0.245     0.332</td>\n",
       "</tr>\n",
       "<tr>\n",
       "  <th>felony_assault_rate_log</th> <td>    0.0245</td> <td>    0.012</td> <td>    2.069</td> <td> 0.039</td> <td>    0.001     0.048</td>\n",
       "</tr>\n",
       "<tr>\n",
       "  <th>murder_rate_log</th>         <td>    0.0756</td> <td>    0.025</td> <td>    3.080</td> <td> 0.002</td> <td>    0.027     0.124</td>\n",
       "</tr>\n",
       "<tr>\n",
       "  <th>robbery_rate_log</th>        <td>    0.0199</td> <td>    0.012</td> <td>    1.625</td> <td> 0.104</td> <td>   -0.004     0.044</td>\n",
       "</tr>\n",
       "<tr>\n",
       "  <th>grand_larceny_rate</th>      <td>   -0.0207</td> <td>    0.008</td> <td>   -2.640</td> <td> 0.008</td> <td>   -0.036    -0.005</td>\n",
       "</tr>\n",
       "<tr>\n",
       "  <th>burglary_rate</th>           <td>    0.0118</td> <td>    0.021</td> <td>    0.567</td> <td> 0.571</td> <td>   -0.029     0.053</td>\n",
       "</tr>\n",
       "</table>\n",
       "<table class=\"simpletable\">\n",
       "<tr>\n",
       "  <th>Omnibus:</th>       <td>12.344</td> <th>  Durbin-Watson:     </th> <td>   1.647</td>\n",
       "</tr>\n",
       "<tr>\n",
       "  <th>Prob(Omnibus):</th> <td> 0.002</td> <th>  Jarque-Bera (JB):  </th> <td>  12.512</td>\n",
       "</tr>\n",
       "<tr>\n",
       "  <th>Skew:</th>          <td> 0.240</td> <th>  Prob(JB):          </th> <td> 0.00192</td>\n",
       "</tr>\n",
       "<tr>\n",
       "  <th>Kurtosis:</th>      <td> 3.015</td> <th>  Cond. No.          </th> <td>8.76e+07</td>\n",
       "</tr>\n",
       "</table>"
      ],
      "text/plain": [
       "<class 'statsmodels.iolib.summary.Summary'>\n",
       "\"\"\"\n",
       "                            OLS Regression Results                            \n",
       "==============================================================================\n",
       "Dep. Variable:       danger_score_raw   R-squared:                       0.149\n",
       "Model:                            OLS   Adj. R-squared:                  0.140\n",
       "Method:                 Least Squares   F-statistic:                     17.32\n",
       "Date:                Sun, 20 Mar 2016   Prob (F-statistic):           2.62e-37\n",
       "Time:                        16:32:35   Log-Likelihood:                -2158.8\n",
       "No. Observations:                1302   AIC:                             4346.\n",
       "Df Residuals:                    1288   BIC:                             4418.\n",
       "Df Model:                          13                                         \n",
       "Covariance Type:            nonrobust                                         \n",
       "===========================================================================================\n",
       "                              coef    std err          t      P>|t|      [95.0% Conf. Int.]\n",
       "-------------------------------------------------------------------------------------------\n",
       "const                     -12.2614      5.111     -2.399      0.017       -22.288    -2.235\n",
       "resident_density          -23.0297      3.734     -6.167      0.000       -30.356   -15.703\n",
       "worker_density             -4.5879      1.111     -4.131      0.000        -6.767    -2.409\n",
       "med_home_value          -9.491e-07   2.18e-07     -4.348      0.000     -1.38e-06 -5.21e-07\n",
       "med_yr_built                0.0098      0.003      3.760      0.000         0.005     0.015\n",
       "med_hh_income           -4.194e-06   1.79e-06     -2.342      0.019     -7.71e-06  -6.8e-07\n",
       "pct_hs_or_greater          -1.2749      0.352     -3.626      0.000        -1.965    -0.585\n",
       "pct_vacant_units            1.3467      0.568      2.369      0.018         0.231     2.462\n",
       "pct_10_or_more_units        0.0435      0.147      0.296      0.767        -0.245     0.332\n",
       "felony_assault_rate_log     0.0245      0.012      2.069      0.039         0.001     0.048\n",
       "murder_rate_log             0.0756      0.025      3.080      0.002         0.027     0.124\n",
       "robbery_rate_log            0.0199      0.012      1.625      0.104        -0.004     0.044\n",
       "grand_larceny_rate         -0.0207      0.008     -2.640      0.008        -0.036    -0.005\n",
       "burglary_rate               0.0118      0.021      0.567      0.571        -0.029     0.053\n",
       "==============================================================================\n",
       "Omnibus:                       12.344   Durbin-Watson:                   1.647\n",
       "Prob(Omnibus):                  0.002   Jarque-Bera (JB):               12.512\n",
       "Skew:                           0.240   Prob(JB):                      0.00192\n",
       "Kurtosis:                       3.015   Cond. No.                     8.76e+07\n",
       "==============================================================================\n",
       "\n",
       "Warnings:\n",
       "[1] Standard Errors assume that the covariance matrix of the errors is correctly specified.\n",
       "[2] The condition number is large, 8.76e+07. This might indicate that there are\n",
       "strong multicollinearity or other numerical problems.\n",
       "\"\"\""
      ]
     },
     "execution_count": 914,
     "metadata": {},
     "output_type": "execute_result"
    }
   ],
   "source": [
    "sso_model_crime_types_with_dem.summary()"
   ]
  },
  {
   "cell_type": "code",
   "execution_count": 889,
   "metadata": {
    "collapsed": true
   },
   "outputs": [
    {
     "data": {
      "text/html": [
       "<table class=\"simpletable\">\n",
       "<caption>OLS Regression Results</caption>\n",
       "<tr>\n",
       "  <th>Dep. Variable:</th>    <td>danger_score_raw</td> <th>  R-squared:         </th> <td>   0.134</td>\n",
       "</tr>\n",
       "<tr>\n",
       "  <th>Model:</th>                   <td>OLS</td>       <th>  Adj. R-squared:    </th> <td>   0.128</td>\n",
       "</tr>\n",
       "<tr>\n",
       "  <th>Method:</th>             <td>Least Squares</td>  <th>  F-statistic:       </th> <td>   22.17</td>\n",
       "</tr>\n",
       "<tr>\n",
       "  <th>Date:</th>             <td>Sun, 20 Mar 2016</td> <th>  Prob (F-statistic):</th> <td>2.72e-35</td>\n",
       "</tr>\n",
       "<tr>\n",
       "  <th>Time:</th>                 <td>15:16:12</td>     <th>  Log-Likelihood:    </th> <td> -2170.2</td>\n",
       "</tr>\n",
       "<tr>\n",
       "  <th>No. Observations:</th>      <td>  1302</td>      <th>  AIC:               </th> <td>   4360.</td>\n",
       "</tr>\n",
       "<tr>\n",
       "  <th>Df Residuals:</th>          <td>  1292</td>      <th>  BIC:               </th> <td>   4412.</td>\n",
       "</tr>\n",
       "<tr>\n",
       "  <th>Df Model:</th>              <td>     9</td>      <th>                     </th>     <td> </td>   \n",
       "</tr>\n",
       "<tr>\n",
       "  <th>Covariance Type:</th>      <td>nonrobust</td>    <th>                     </th>     <td> </td>   \n",
       "</tr>\n",
       "</table>\n",
       "<table class=\"simpletable\">\n",
       "<tr>\n",
       "            <td></td>              <th>coef</th>     <th>std err</th>      <th>t</th>      <th>P>|t|</th> <th>[95.0% Conf. Int.]</th> \n",
       "</tr>\n",
       "<tr>\n",
       "  <th>const</th>                <td>  -13.5051</td> <td>    5.109</td> <td>   -2.643</td> <td> 0.008</td> <td>  -23.528    -3.482</td>\n",
       "</tr>\n",
       "<tr>\n",
       "  <th>all_crimes_rate_log</th>  <td>    0.0734</td> <td>    0.050</td> <td>    1.480</td> <td> 0.139</td> <td>   -0.024     0.171</td>\n",
       "</tr>\n",
       "<tr>\n",
       "  <th>resident_density</th>     <td>  -20.6696</td> <td>    3.727</td> <td>   -5.545</td> <td> 0.000</td> <td>  -27.982   -13.357</td>\n",
       "</tr>\n",
       "<tr>\n",
       "  <th>worker_density</th>       <td>   -4.3229</td> <td>    1.127</td> <td>   -3.835</td> <td> 0.000</td> <td>   -6.534    -2.112</td>\n",
       "</tr>\n",
       "<tr>\n",
       "  <th>med_home_value</th>       <td> -1.06e-06</td> <td> 2.19e-07</td> <td>   -4.849</td> <td> 0.000</td> <td>-1.49e-06 -6.31e-07</td>\n",
       "</tr>\n",
       "<tr>\n",
       "  <th>med_yr_built</th>         <td>    0.0102</td> <td>    0.003</td> <td>    3.896</td> <td> 0.000</td> <td>    0.005     0.015</td>\n",
       "</tr>\n",
       "<tr>\n",
       "  <th>med_hh_income</th>        <td>-4.854e-06</td> <td> 1.78e-06</td> <td>   -2.721</td> <td> 0.007</td> <td>-8.35e-06 -1.35e-06</td>\n",
       "</tr>\n",
       "<tr>\n",
       "  <th>pct_hs_or_greater</th>    <td>   -1.4655</td> <td>    0.349</td> <td>   -4.195</td> <td> 0.000</td> <td>   -2.151    -0.780</td>\n",
       "</tr>\n",
       "<tr>\n",
       "  <th>pct_vacant_units</th>     <td>    1.4730</td> <td>    0.569</td> <td>    2.589</td> <td> 0.010</td> <td>    0.357     2.589</td>\n",
       "</tr>\n",
       "<tr>\n",
       "  <th>pct_10_or_more_units</th> <td>   -0.0269</td> <td>    0.143</td> <td>   -0.188</td> <td> 0.851</td> <td>   -0.308     0.254</td>\n",
       "</tr>\n",
       "</table>\n",
       "<table class=\"simpletable\">\n",
       "<tr>\n",
       "  <th>Omnibus:</th>       <td>11.148</td> <th>  Durbin-Watson:     </th> <td>   1.639</td>\n",
       "</tr>\n",
       "<tr>\n",
       "  <th>Prob(Omnibus):</th> <td> 0.004</td> <th>  Jarque-Bera (JB):  </th> <td>  11.307</td>\n",
       "</tr>\n",
       "<tr>\n",
       "  <th>Skew:</th>          <td> 0.228</td> <th>  Prob(JB):          </th> <td> 0.00351</td>\n",
       "</tr>\n",
       "<tr>\n",
       "  <th>Kurtosis:</th>      <td> 2.989</td> <th>  Cond. No.          </th> <td>8.69e+07</td>\n",
       "</tr>\n",
       "</table>"
      ],
      "text/plain": [
       "<class 'statsmodels.iolib.summary.Summary'>\n",
       "\"\"\"\n",
       "                            OLS Regression Results                            \n",
       "==============================================================================\n",
       "Dep. Variable:       danger_score_raw   R-squared:                       0.134\n",
       "Model:                            OLS   Adj. R-squared:                  0.128\n",
       "Method:                 Least Squares   F-statistic:                     22.17\n",
       "Date:                Sun, 20 Mar 2016   Prob (F-statistic):           2.72e-35\n",
       "Time:                        15:16:12   Log-Likelihood:                -2170.2\n",
       "No. Observations:                1302   AIC:                             4360.\n",
       "Df Residuals:                    1292   BIC:                             4412.\n",
       "Df Model:                           9                                         \n",
       "Covariance Type:            nonrobust                                         \n",
       "========================================================================================\n",
       "                           coef    std err          t      P>|t|      [95.0% Conf. Int.]\n",
       "----------------------------------------------------------------------------------------\n",
       "const                  -13.5051      5.109     -2.643      0.008       -23.528    -3.482\n",
       "all_crimes_rate_log      0.0734      0.050      1.480      0.139        -0.024     0.171\n",
       "resident_density       -20.6696      3.727     -5.545      0.000       -27.982   -13.357\n",
       "worker_density          -4.3229      1.127     -3.835      0.000        -6.534    -2.112\n",
       "med_home_value        -1.06e-06   2.19e-07     -4.849      0.000     -1.49e-06 -6.31e-07\n",
       "med_yr_built             0.0102      0.003      3.896      0.000         0.005     0.015\n",
       "med_hh_income        -4.854e-06   1.78e-06     -2.721      0.007     -8.35e-06 -1.35e-06\n",
       "pct_hs_or_greater       -1.4655      0.349     -4.195      0.000        -2.151    -0.780\n",
       "pct_vacant_units         1.4730      0.569      2.589      0.010         0.357     2.589\n",
       "pct_10_or_more_units    -0.0269      0.143     -0.188      0.851        -0.308     0.254\n",
       "==============================================================================\n",
       "Omnibus:                       11.148   Durbin-Watson:                   1.639\n",
       "Prob(Omnibus):                  0.004   Jarque-Bera (JB):               11.307\n",
       "Skew:                           0.228   Prob(JB):                      0.00351\n",
       "Kurtosis:                       2.989   Cond. No.                     8.69e+07\n",
       "==============================================================================\n",
       "\n",
       "Warnings:\n",
       "[1] Standard Errors assume that the covariance matrix of the errors is correctly specified.\n",
       "[2] The condition number is large, 8.69e+07. This might indicate that there are\n",
       "strong multicollinearity or other numerical problems.\n",
       "\"\"\""
      ]
     },
     "execution_count": 889,
     "metadata": {},
     "output_type": "execute_result"
    }
   ],
   "source": [
    "# with additional demographic features\n",
    "sso_model.summary()"
   ]
  },
  {
   "cell_type": "code",
   "execution_count": 799,
   "metadata": {
    "collapsed": true
   },
   "outputs": [
    {
     "data": {
      "text/html": [
       "<table class=\"simpletable\">\n",
       "<caption>OLS Regression Results</caption>\n",
       "<tr>\n",
       "  <th>Dep. Variable:</th>    <td>danger_score_raw</td> <th>  R-squared:         </th> <td>   0.096</td>\n",
       "</tr>\n",
       "<tr>\n",
       "  <th>Model:</th>                   <td>OLS</td>       <th>  Adj. R-squared:    </th> <td>   0.092</td>\n",
       "</tr>\n",
       "<tr>\n",
       "  <th>Method:</th>             <td>Least Squares</td>  <th>  F-statistic:       </th> <td>   28.80</td>\n",
       "</tr>\n",
       "<tr>\n",
       "  <th>Date:</th>             <td>Sun, 20 Mar 2016</td> <th>  Prob (F-statistic):</th> <td>6.70e-33</td>\n",
       "</tr>\n",
       "<tr>\n",
       "  <th>Time:</th>                 <td>14:09:05</td>     <th>  Log-Likelihood:    </th> <td> -2797.9</td>\n",
       "</tr>\n",
       "<tr>\n",
       "  <th>No. Observations:</th>      <td>  1643</td>      <th>  AIC:               </th> <td>   5610.</td>\n",
       "</tr>\n",
       "<tr>\n",
       "  <th>Df Residuals:</th>          <td>  1636</td>      <th>  BIC:               </th> <td>   5648.</td>\n",
       "</tr>\n",
       "<tr>\n",
       "  <th>Df Model:</th>              <td>     6</td>      <th>                     </th>     <td> </td>   \n",
       "</tr>\n",
       "<tr>\n",
       "  <th>Covariance Type:</th>      <td>nonrobust</td>    <th>                     </th>     <td> </td>   \n",
       "</tr>\n",
       "</table>\n",
       "<table class=\"simpletable\">\n",
       "<tr>\n",
       "            <td></td>              <th>coef</th>     <th>std err</th>      <th>t</th>      <th>P>|t|</th> <th>[95.0% Conf. Int.]</th> \n",
       "</tr>\n",
       "<tr>\n",
       "  <th>const</th>                <td>    6.5462</td> <td>    0.536</td> <td>   12.222</td> <td> 0.000</td> <td>    5.496     7.597</td>\n",
       "</tr>\n",
       "<tr>\n",
       "  <th>all_crimes_rate_log</th>  <td>    0.0561</td> <td>    0.045</td> <td>    1.249</td> <td> 0.212</td> <td>   -0.032     0.144</td>\n",
       "</tr>\n",
       "<tr>\n",
       "  <th>resident_density</th>     <td>  -18.9847</td> <td>    2.666</td> <td>   -7.122</td> <td> 0.000</td> <td>  -24.213   -13.756</td>\n",
       "</tr>\n",
       "<tr>\n",
       "  <th>worker_density</th>       <td>   -5.3463</td> <td>    0.906</td> <td>   -5.898</td> <td> 0.000</td> <td>   -7.124    -3.568</td>\n",
       "</tr>\n",
       "<tr>\n",
       "  <th>pct_hs_or_greater</th>    <td>   -2.1467</td> <td>    0.256</td> <td>   -8.383</td> <td> 0.000</td> <td>   -2.649    -1.644</td>\n",
       "</tr>\n",
       "<tr>\n",
       "  <th>pct_occupied_units</th>   <td>   -0.5638</td> <td>    0.487</td> <td>   -1.157</td> <td> 0.247</td> <td>   -1.520     0.392</td>\n",
       "</tr>\n",
       "<tr>\n",
       "  <th>pct_10_or_more_units</th> <td>    0.2710</td> <td>    0.114</td> <td>    2.383</td> <td> 0.017</td> <td>    0.048     0.494</td>\n",
       "</tr>\n",
       "</table>\n",
       "<table class=\"simpletable\">\n",
       "<tr>\n",
       "  <th>Omnibus:</th>       <td>14.215</td> <th>  Durbin-Watson:     </th> <td>   1.621</td>\n",
       "</tr>\n",
       "<tr>\n",
       "  <th>Prob(Omnibus):</th> <td> 0.001</td> <th>  Jarque-Bera (JB):  </th> <td>  14.501</td>\n",
       "</tr>\n",
       "<tr>\n",
       "  <th>Skew:</th>          <td> 0.226</td> <th>  Prob(JB):          </th> <td>0.000710</td>\n",
       "</tr>\n",
       "<tr>\n",
       "  <th>Kurtosis:</th>      <td> 2.910</td> <th>  Cond. No.          </th> <td>    223.</td>\n",
       "</tr>\n",
       "</table>"
      ],
      "text/plain": [
       "<class 'statsmodels.iolib.summary.Summary'>\n",
       "\"\"\"\n",
       "                            OLS Regression Results                            \n",
       "==============================================================================\n",
       "Dep. Variable:       danger_score_raw   R-squared:                       0.096\n",
       "Model:                            OLS   Adj. R-squared:                  0.092\n",
       "Method:                 Least Squares   F-statistic:                     28.80\n",
       "Date:                Sun, 20 Mar 2016   Prob (F-statistic):           6.70e-33\n",
       "Time:                        14:09:05   Log-Likelihood:                -2797.9\n",
       "No. Observations:                1643   AIC:                             5610.\n",
       "Df Residuals:                    1636   BIC:                             5648.\n",
       "Df Model:                           6                                         \n",
       "Covariance Type:            nonrobust                                         \n",
       "========================================================================================\n",
       "                           coef    std err          t      P>|t|      [95.0% Conf. Int.]\n",
       "----------------------------------------------------------------------------------------\n",
       "const                    6.5462      0.536     12.222      0.000         5.496     7.597\n",
       "all_crimes_rate_log      0.0561      0.045      1.249      0.212        -0.032     0.144\n",
       "resident_density       -18.9847      2.666     -7.122      0.000       -24.213   -13.756\n",
       "worker_density          -5.3463      0.906     -5.898      0.000        -7.124    -3.568\n",
       "pct_hs_or_greater       -2.1467      0.256     -8.383      0.000        -2.649    -1.644\n",
       "pct_occupied_units      -0.5638      0.487     -1.157      0.247        -1.520     0.392\n",
       "pct_10_or_more_units     0.2710      0.114      2.383      0.017         0.048     0.494\n",
       "==============================================================================\n",
       "Omnibus:                       14.215   Durbin-Watson:                   1.621\n",
       "Prob(Omnibus):                  0.001   Jarque-Bera (JB):               14.501\n",
       "Skew:                           0.226   Prob(JB):                     0.000710\n",
       "Kurtosis:                       2.910   Cond. No.                         223.\n",
       "==============================================================================\n",
       "\n",
       "Warnings:\n",
       "[1] Standard Errors assume that the covariance matrix of the errors is correctly specified.\n",
       "\"\"\""
      ]
     },
     "execution_count": 799,
     "metadata": {},
     "output_type": "execute_result"
    }
   ],
   "source": [
    "sso_model.summary()"
   ]
  },
  {
   "cell_type": "markdown",
   "metadata": {},
   "source": [
    "Try model with lasso regularization."
   ]
  },
  {
   "cell_type": "code",
   "execution_count": 933,
   "metadata": {
    "collapsed": false
   },
   "outputs": [
    {
     "name": "stderr",
     "output_type": "stream",
     "text": [
      "//anaconda/lib/python2.7/site-packages/sklearn/linear_model/coordinate_descent.py:1051: DataConversionWarning: A column-vector y was passed when a 1d array was expected. Please change the shape of y to (n_samples, ), for example using ravel().\n",
      "  y = column_or_1d(y, warn=True)\n"
     ]
    }
   ],
   "source": [
    "sso_model_crime_types_with_dem_lasso = rgr_lasso(sso_ols_features_crime_types, ['danger_score_raw'], sso_ols2)"
   ]
  },
  {
   "cell_type": "code",
   "execution_count": 934,
   "metadata": {
    "collapsed": false
   },
   "outputs": [
    {
     "data": {
      "text/plain": [
       "151.7075655046844"
      ]
     },
     "execution_count": 934,
     "metadata": {},
     "output_type": "execute_result"
    }
   ],
   "source": [
    "sso_model_crime_types_with_dem_lasso.alpha_"
   ]
  },
  {
   "cell_type": "code",
   "execution_count": 937,
   "metadata": {
    "collapsed": false
   },
   "outputs": [
    {
     "data": {
      "text/plain": [
       "array([  0.00000000e+00,  -0.00000000e+00,  -0.00000000e+00,\n",
       "        -9.39390760e-07,   0.00000000e+00,  -7.58096774e-06,\n",
       "        -0.00000000e+00,   0.00000000e+00,  -0.00000000e+00,\n",
       "         0.00000000e+00,   0.00000000e+00,   0.00000000e+00,\n",
       "        -0.00000000e+00,   0.00000000e+00])"
      ]
     },
     "execution_count": 937,
     "metadata": {},
     "output_type": "execute_result"
    }
   ],
   "source": [
    "sso_model_crime_types_with_dem_lasso.coef_"
   ]
  },
  {
   "cell_type": "code",
   "execution_count": null,
   "metadata": {
    "collapsed": true
   },
   "outputs": [],
   "source": [
    "sso_model_crime_types_with_dem_lasso.predict()"
   ]
  },
  {
   "cell_type": "code",
   "execution_count": 941,
   "metadata": {
    "collapsed": true
   },
   "outputs": [],
   "source": [
    "sso_model_crime_types_with_dem_ridge = rgr_ridge(sso_ols_features_crime_types, ['danger_score_raw'], sso_ols2)"
   ]
  },
  {
   "cell_type": "markdown",
   "metadata": {},
   "source": [
    "### Compare predicted values for perceived danger score"
   ]
  },
  {
   "cell_type": "code",
   "execution_count": 268,
   "metadata": {
    "collapsed": false
   },
   "outputs": [],
   "source": [
    "def agg_pred_scores(df, geo):\n",
    "    keep = [geo] + ['danger_score_raw', 'danger_score_norm', 'danger_pred', 'all_crimes_rate']\n",
    "    newdf = df[keep]\n",
    "    newdf.loc[:, 'resid'] = newdf.loc[:, 'danger_score_raw'] - newdf.loc[:, 'danger_pred']\n",
    "    bygeo = newdf.groupby(geo)\n",
    "    stds = bygeo.std()\n",
    "    means = bygeo.mean()\n",
    "    medians = bygeo.median()\n",
    "    counts = bygeo.count()\n",
    "    aggdf = pd.DataFrame({geo: stds.index, \n",
    "                         'danger_score_raw_mean': means.danger_score_raw,\n",
    "                         'danger_score_raw_median': medians.danger_score_raw, \n",
    "                         'danger_score_raw_std': stds.danger_score_raw, \n",
    "                         'crime_rate_mean': means.all_crimes_rate,\n",
    "                         'crime_rate_median': medians.all_crimes_rate,\n",
    "                         'crime_rate_std': stds.all_crimes_rate,\n",
    "#                          'danger_score_pred_mean': means.danger_pred,\n",
    "#                          'danger_score_pred_median': medians.danger_pred,\n",
    "#                          'danger_score_pred_std': stds.danger_pred,\n",
    "#                          'resid_mean': means.resid, \n",
    "#                          'resid_median': medians.resid, \n",
    "#                          'resid_std': stds.resid, \n",
    "                         'num_images': counts.resid})\n",
    "    return aggdf"
   ]
  },
  {
   "cell_type": "code",
   "execution_count": 269,
   "metadata": {
    "collapsed": true
   },
   "outputs": [],
   "source": [
    "def get_img_resids(df, features, model):\n",
    "    X, y = get_xy(features, ['danger_score_raw'], df)\n",
    "    pred = model.predict(X)\n",
    "    df['danger_pred'] = pred"
   ]
  },
  {
   "cell_type": "markdown",
   "metadata": {},
   "source": [
    "#### Compare predicted vs. actual values for model with crime data only -- ORIGINAL"
   ]
  },
  {
   "cell_type": "code",
   "execution_count": 104,
   "metadata": {
    "collapsed": true
   },
   "outputs": [],
   "source": [
    "get_img_resids(sso_ols, sso_crime_types, sso_model_crime_types)"
   ]
  },
  {
   "cell_type": "code",
   "execution_count": 105,
   "metadata": {
    "collapsed": false
   },
   "outputs": [],
   "source": [
    "sso_scores_crime_only = agg_pred_scores(sso_ols, 'fips_bg')"
   ]
  },
  {
   "cell_type": "markdown",
   "metadata": {},
   "source": [
    "#### Compare predicted vs. actual values for crime data only -- PREDICTED SCORES"
   ]
  },
  {
   "cell_type": "code",
   "execution_count": 1439,
   "metadata": {
    "collapsed": true
   },
   "outputs": [],
   "source": [
    "tract_to_cartodb(ssp_scores_tract, 'data/for_cartodb/scores_by_tract.csv')"
   ]
  },
  {
   "cell_type": "markdown",
   "metadata": {},
   "source": [
    "Model just predicts a baseline, so the residuals don't actually say anything; equivalent to just using the raw danger score. Let's try going back to computing a score without a model."
   ]
  },
  {
   "cell_type": "markdown",
   "metadata": {},
   "source": [
    "#### Compute difference score using number of standard deviations from the mean."
   ]
  },
  {
   "cell_type": "code",
   "execution_count": 270,
   "metadata": {
    "collapsed": false
   },
   "outputs": [],
   "source": [
    "get_img_resids(ssp_ols, crime_types, ssp_model_crime_types)\n",
    "ssp_scores_bg = agg_pred_scores(ssp_ols, 'fips_bg')\n",
    "ssp_scores_tract = agg_pred_scores(ssp_ols, 'fips_tract')"
   ]
  },
  {
   "cell_type": "code",
   "execution_count": 215,
   "metadata": {
    "collapsed": false
   },
   "outputs": [],
   "source": [
    "def med_abs_dev(arr):\n",
    "    return np.median(np.abs(arr - np.median(arr)))/.6745"
   ]
  },
  {
   "cell_type": "code",
   "execution_count": 231,
   "metadata": {
    "collapsed": true
   },
   "outputs": [],
   "source": [
    "def mad_from_median(s):\n",
    "    \"\"\"Calculate standardized distance from the median using median absolute deviance.\n",
    "    Implemented bc of outliers in dataset.\"\"\"\n",
    "    median = s.median()\n",
    "    mad = np.median(np.abs(s - median))\n",
    "    scores = [(data - median) / mad for data in s]\n",
    "    return scores"
   ]
  },
  {
   "cell_type": "code",
   "execution_count": 109,
   "metadata": {
    "collapsed": false
   },
   "outputs": [],
   "source": [
    "def std_from_mean(s):\n",
    "    \"\"\"Calculate z-scores for data points; i.e. standardized distance from the mean.\"\"\"\n",
    "    mean = s.mean()\n",
    "    std = s.std()\n",
    "    scores = [(data - mean) / std for data in s]\n",
    "    return scores"
   ]
  },
  {
   "cell_type": "code",
   "execution_count": 271,
   "metadata": {
    "collapsed": false
   },
   "outputs": [],
   "source": [
    "# std from mean\n",
    "ssp_scores_tract['crime_rate_std_from_mean'] = std_from_mean(ssp_scores_tract.crime_rate_mean)\n",
    "ssp_scores_tract['danger_score_std_from_mean'] = std_from_mean(ssp_scores_tract.danger_score_raw_mean)"
   ]
  },
  {
   "cell_type": "code",
   "execution_count": 272,
   "metadata": {
    "collapsed": true
   },
   "outputs": [],
   "source": [
    "# median abs deviance from median\n",
    "ssp_scores_tract['crime_rate_mad_from_med'] = mad_from_median(ssp_scores_tract.crime_rate_mean)\n",
    "ssp_scores_tract['danger_score_mad_from_med'] = mad_from_median(ssp_scores_tract.danger_score_raw_mean)"
   ]
  },
  {
   "cell_type": "code",
   "execution_count": 273,
   "metadata": {
    "collapsed": true
   },
   "outputs": [],
   "source": [
    "# get difference in scores\n",
    "ssp_scores_tract['diff_std_from_mean'] = ssp_scores_tract.loc[:, 'crime_rate_std_from_mean'] - ssp_scores_tract.loc[:, 'danger_score_std_from_mean']\n",
    "ssp_scores_tract['diff_mad_from_med'] = ssp_scores_tract.loc[:, 'crime_rate_mad_from_med'] - ssp_scores_tract.loc[:, 'danger_score_mad_from_med']"
   ]
  },
  {
   "cell_type": "code",
   "execution_count": 1487,
   "metadata": {
    "collapsed": true
   },
   "outputs": [],
   "source": [
    "# tract_to_cartodb(ssp_scores_tract, 'data/for_cartodb/scores_by_tract2.csv')"
   ]
  },
  {
   "cell_type": "markdown",
   "metadata": {},
   "source": [
    "### <a id='4'></a> 4. Cluster census tracts based on variance and difference scores."
   ]
  },
  {
   "cell_type": "markdown",
   "metadata": {},
   "source": [
    "#### Cluster by hand into three categories based on difference scores.\n",
    "* within one standard deviation of the mean difference score\n",
    "* over one standard deviation above mean difference\n",
    "* over one standard deviation below mean difference"
   ]
  },
  {
   "cell_type": "code",
   "execution_count": 145,
   "metadata": {
    "collapsed": true
   },
   "outputs": [],
   "source": [
    "def cluster_manual(df, score_col, data):\n",
    "    \"\"\"Categorize difference scores based on standard deviations from the mean.\"\"\"\n",
    "    mean = df[score_col].mean()\n",
    "    std = df[score_col].std()\n",
    "    lower_bound = mean - std\n",
    "    upper_bound = mean + std\n",
    "    \n",
    "    # diff = crime rate - perceived danger \n",
    "    if data > upper_bound:\n",
    "        return 0 # actually more dangerous than perceived\n",
    "    elif data <= upper_bound and data >= lower_bound:\n",
    "        return 1 # within 1 std of mean\n",
    "    else:\n",
    "        return 2 # actually safer than perceived "
   ]
  },
  {
   "cell_type": "code",
   "execution_count": 240,
   "metadata": {
    "collapsed": true
   },
   "outputs": [],
   "source": [
    "def cluster_manual_med(df, score_col, data):\n",
    "    \"\"\"Categorize difference scores based on median absolute deviation from median and sort into clusters.\"\"\"\n",
    "    median = np.median(df[score_col])\n",
    "#     mad = med_abs_dev(df[score_col])\n",
    "    mad = np.median(np.abs(df[score_col] - median))\n",
    "    lower_bound = median - mad\n",
    "    upper_bound = median + mad\n",
    "    \n",
    "    # diff = crime rate - perceived danger \n",
    "    if data > upper_bound:\n",
    "        return 0 # actually more dangerous than perceived\n",
    "    elif data <= upper_bound and data >= lower_bound:\n",
    "        return 1 # within 1 std of mean\n",
    "    else:\n",
    "        return 2 # actually safer than perceived "
   ]
  },
  {
   "cell_type": "code",
   "execution_count": 236,
   "metadata": {
    "collapsed": false
   },
   "outputs": [],
   "source": [
    "def add_manual_clusters(df, score_col):\n",
    "    df['manual_cluster_score'] = df.loc[:, score_col].apply(lambda x: cluster_manual(df, score_col, x))"
   ]
  },
  {
   "cell_type": "code",
   "execution_count": 276,
   "metadata": {
    "collapsed": true
   },
   "outputs": [],
   "source": [
    "def add_manual_clusters_med(df, score_col):\n",
    "    df['manual_cluster_score_med'] = df.loc[:, score_col].apply(lambda x: cluster_manual_med(df, score_col, x))"
   ]
  },
  {
   "cell_type": "code",
   "execution_count": 530,
   "metadata": {
    "collapsed": true
   },
   "outputs": [],
   "source": [
    "def add_diff_score_score(df, score_col):\n",
    "    \"\"\"Create score from difference score to measure variation. For use in rgr model.\"\"\"\n",
    "    df['diff_zscore'] = mad_from_median(df.loc[:, score_col])"
   ]
  },
  {
   "cell_type": "code",
   "execution_count": 277,
   "metadata": {
    "collapsed": false
   },
   "outputs": [],
   "source": [
    "add_manual_clusters(ssp_scores_tract, 'diff_std_from_mean')\n",
    "add_manual_clusters_med(ssp_scores_tract, 'diff_mad_from_med')"
   ]
  },
  {
   "cell_type": "code",
   "execution_count": 531,
   "metadata": {
    "collapsed": false
   },
   "outputs": [],
   "source": [
    "# create score from difference score -- for use in rgr model\n",
    "add_diff_score_score(ssp_scores_tract, 'diff_mad_from_med')"
   ]
  },
  {
   "cell_type": "code",
   "execution_count": 229,
   "metadata": {
    "collapsed": false
   },
   "outputs": [],
   "source": [
    "tract_to_cartodb(ssp_scores_tract, 'data/for_cartodb/scores_by_tract4.csv')"
   ]
  },
  {
   "cell_type": "code",
   "execution_count": 243,
   "metadata": {
    "collapsed": false
   },
   "outputs": [
    {
     "data": {
      "text/plain": [
       "1    1056\n",
       "0     535\n",
       "2     520\n",
       "Name: manual_cluster_med_orig, dtype: int64"
      ]
     },
     "execution_count": 243,
     "metadata": {},
     "output_type": "execute_result"
    }
   ],
   "source": [
    "ssp_scores_tract.manual_cluster_med_orig.value_counts()"
   ]
  },
  {
   "cell_type": "code",
   "execution_count": 239,
   "metadata": {
    "collapsed": false,
    "scrolled": true
   },
   "outputs": [
    {
     "data": {
      "text/plain": [
       "1    1434\n",
       "0     350\n",
       "2     327\n",
       "Name: manual_cluster_med, dtype: int64"
      ]
     },
     "execution_count": 239,
     "metadata": {},
     "output_type": "execute_result"
    }
   ],
   "source": [
    "ssp_scores_tract.manual_cluster_med.value_counts()"
   ]
  },
  {
   "cell_type": "markdown",
   "metadata": {},
   "source": [
    "#### Cluster using kmeans clustering -- need to add additional variables.\n",
    "Concept: neighborhood selection tool for someone looking to find a different NYC neighborhood based on attributes of one they currently live in/know well.\n",
    "\n",
    "A user can put in his address & select on sliders from the following:\n",
    "* safer than perceived <> more dangerous than perceived OR\n",
    "    * more dangerous <> safer\n",
    "* less variability in surrounding neighborhood <> more variability in surrounding neighborhood\n",
    "* lower rent <> higher rent \n",
    "* others?\n",
    "\n",
    "Implementation - LDA or NMF to get highest probability/similarity score. Word2vec?"
   ]
  },
  {
   "cell_type": "code",
   "execution_count": 116,
   "metadata": {
    "collapsed": false
   },
   "outputs": [],
   "source": [
    "ssp_scores_tract.dropna(inplace = True)"
   ]
  },
  {
   "cell_type": "code",
   "execution_count": 117,
   "metadata": {
    "collapsed": true
   },
   "outputs": [],
   "source": [
    "def kmeans_cluster(df, features, k = 5):\n",
    "    km = KMeans(n_clusters = k)\n",
    "    km.fit_predict(df[features])\n",
    "    return km, km.fit_predict(df[features])"
   ]
  },
  {
   "cell_type": "code",
   "execution_count": 134,
   "metadata": {
    "collapsed": true
   },
   "outputs": [],
   "source": [
    "def get_cluster_info(model, model_features):\n",
    "    \"\"\"Return df of cluster centroids and number of items assigned to each cluster given a fitted cluster\n",
    "    model and list of model features.\"\"\"\n",
    "    df = pd.DataFrame(data = model.cluster_centers_, columns = model_features)\n",
    "    df['counts'] = [model.labels_.tolist().count(i) for i in df.index]\n",
    "    return df"
   ]
  },
  {
   "cell_type": "code",
   "execution_count": 265,
   "metadata": {
    "collapsed": true
   },
   "outputs": [],
   "source": [
    "cluster_features =  ['manual_cluster_med', 'danger_score_raw_std']"
   ]
  },
  {
   "cell_type": "code",
   "execution_count": 266,
   "metadata": {
    "collapsed": false
   },
   "outputs": [],
   "source": [
    "clusttest, clustpred = kmeans_cluster(ssp_scores_tract, cluster_features, k = 3)"
   ]
  },
  {
   "cell_type": "code",
   "execution_count": 267,
   "metadata": {
    "collapsed": false
   },
   "outputs": [
    {
     "data": {
      "text/html": [
       "<div>\n",
       "<table border=\"1\" class=\"dataframe\">\n",
       "  <thead>\n",
       "    <tr style=\"text-align: right;\">\n",
       "      <th></th>\n",
       "      <th>manual_cluster_med</th>\n",
       "      <th>danger_score_raw_std</th>\n",
       "      <th>counts</th>\n",
       "    </tr>\n",
       "  </thead>\n",
       "  <tbody>\n",
       "    <tr>\n",
       "      <th>0</th>\n",
       "      <td>1.140845e+00</td>\n",
       "      <td>3.851403</td>\n",
       "      <td>1136</td>\n",
       "    </tr>\n",
       "    <tr>\n",
       "      <th>1</th>\n",
       "      <td>1.227907e+00</td>\n",
       "      <td>5.201544</td>\n",
       "      <td>645</td>\n",
       "    </tr>\n",
       "    <tr>\n",
       "      <th>2</th>\n",
       "      <td>-1.665335e-15</td>\n",
       "      <td>4.629233</td>\n",
       "      <td>330</td>\n",
       "    </tr>\n",
       "  </tbody>\n",
       "</table>\n",
       "</div>"
      ],
      "text/plain": [
       "   manual_cluster_med  danger_score_raw_std  counts\n",
       "0        1.140845e+00              3.851403    1136\n",
       "1        1.227907e+00              5.201544     645\n",
       "2       -1.665335e-15              4.629233     330"
      ]
     },
     "execution_count": 267,
     "metadata": {},
     "output_type": "execute_result"
    }
   ],
   "source": [
    "cluster_df = get_cluster_info(clusttest, cluster_features)\n",
    "cluster_df.head()"
   ]
  },
  {
   "cell_type": "code",
   "execution_count": 262,
   "metadata": {
    "collapsed": false
   },
   "outputs": [
    {
     "data": {
      "text/plain": [
       "(0, 10)"
      ]
     },
     "execution_count": 262,
     "metadata": {},
     "output_type": "execute_result"
    },
    {
     "data": {
      "image/png": "[encoded data removed]",
      "text/plain": [
       "<matplotlib.figure.Figure at 0x18a8c2190>"
      ]
     },
     "metadata": {},
     "output_type": "display_data"
    }
   ],
   "source": [
    "plt.scatter(ssp_scores_tract.diff_mad_from_med, ssp_scores_tract.danger_score_raw_std)\n",
    "plt.xlim(-10, 10)\n",
    "plt.ylim(0, 10)"
   ]
  },
  {
   "cell_type": "code",
   "execution_count": 1516,
   "metadata": {
    "collapsed": false
   },
   "outputs": [
    {
     "data": {
      "image/png": "[encoded data removed]",
      "text/plain": [
       "<matplotlib.figure.Figure at 0x171a09dd0>"
      ]
     },
     "metadata": {},
     "output_type": "display_data"
    }
   ],
   "source": [
    "# plot k vs. intertia\n",
    "inertias = []\n",
    "for k in range(1, 20):\n",
    "    mod = kmeans_cluster(ssp_scores_tract, ['crime_rate_mean', 'crime_rate_std', 'danger_score_raw_mean', \n",
    "                            'danger_score_raw_std', 'diff_std_from_mean'], k = k)\n",
    "    inertias.append(mod.inertia_)\n",
    "    \n",
    "plt.plot(range(1, 20), inertias)\n",
    "plt.title('K vs. Intertia: Tract Clusters')\n",
    "plt.xlabel('K')\n",
    "plt.ylabel('Inertia')\n",
    "plt.show()"
   ]
  },
  {
   "cell_type": "markdown",
   "metadata": {
    "collapsed": true
   },
   "source": [
    "###  <a id='5'></a> 5. Investigate any prominent impacts of difference scores.\n",
    "Potential impacts:\n",
    "* crime rates over time\n",
    "* educational attainment\n",
    "* home values"
   ]
  },
  {
   "cell_type": "code",
   "execution_count": 837,
   "metadata": {
    "collapsed": true
   },
   "outputs": [],
   "source": [
    "def clean_acs_income(df):\n",
    "    \"\"\"Clean acs income data by tract.\"\"\"\n",
    "    keep = ['GEO.id2', 'HC02_EST_VC02']\n",
    "    newdf = df[keep]\n",
    "    newdf.rename(columns = {'GEO.id2': 'tract', 'HC02_EST_VC02': 'median_hh_income'}, inplace = True)\n",
    "    newdf.drop(0, inplace = True)\n",
    "    newdf.replace('-', np.nan, inplace = True)\n",
    "    newdf.replace('0', np.nan, inplace = True)\n",
    "    newdf.loc[:, 'median_hh_income'] = newdf.loc[:, 'median_hh_income'].apply(clean_median_data)\n",
    "    newdf['median_hh_income_log'] = np.log(newdf.median_hh_income)\n",
    "    newdf.replace([np.inf, -np.inf], np.nan, inplace = True)\n",
    "    newdf.dropna(inplace = True)\n",
    "    return newdf"
   ]
  },
  {
   "cell_type": "code",
   "execution_count": 428,
   "metadata": {
    "collapsed": true
   },
   "outputs": [],
   "source": [
    "def clean_lai(df):\n",
    "    keep = ['tract', 'hh_type1_ht_own', 'hh_type1_h_own', 'hh_type1_ht_rent', 'hh_type1_h_rent', 'hh_type1_ht', 'hh_type1_h']\n",
    "    newdf = df[keep]\n",
    "    newdf['tract'] = newdf.loc[:, 'tract'].apply(lambda x: x[1:-1])\n",
    "    return newdf"
   ]
  },
  {
   "cell_type": "code",
   "execution_count": 518,
   "metadata": {
    "collapsed": true
   },
   "outputs": [],
   "source": [
    "def clean_impacts_df(df):\n",
    "    keep = ['crime_rate_std', 'danger_score_raw_median', 'danger_score_raw_std', 'diff_mad_from_med', \n",
    "            'manual_cluster_med', 'diff_score']\n",
    "    newdf = df[keep]\n",
    "    newdf['tract'] = newdf.index\n",
    "    return newdf"
   ]
  },
  {
   "cell_type": "code",
   "execution_count": 354,
   "metadata": {
    "collapsed": true
   },
   "outputs": [],
   "source": [
    "def single_merge(odf, mdf, leftkey, rightkey):\n",
    "    df = odf.merge(mdf, how = 'left', left_on = leftkey, right_on = rightkey)\n",
    "    return df"
   ]
  },
  {
   "cell_type": "code",
   "execution_count": 388,
   "metadata": {
    "collapsed": true
   },
   "outputs": [],
   "source": [
    "# import impacts data by tract geography\n",
    "edu_bt = pd.read_csv('data/dem_data/acs_edu_attainment_25andolder_2014_bt.csv')\n",
    "income_bt = pd.read_csv('data/dem_data/acs_med_hh_income_2014_bt.csv')\n",
    "lai = pd.read_csv('data/lai_data_36_tracts.csv')"
   ]
  },
  {
   "cell_type": "code",
   "execution_count": 393,
   "metadata": {
    "collapsed": true
   },
   "outputs": [],
   "source": [
    "lai_bg = pd.read_csv('data/lai_data_36_blkgrps.csv')"
   ]
  },
  {
   "cell_type": "code",
   "execution_count": 476,
   "metadata": {
    "collapsed": true
   },
   "outputs": [
    {
     "name": "stderr",
     "output_type": "stream",
     "text": [
      "/anaconda/lib/python2.7/site-packages/ipykernel/__main__.py:6: SettingWithCopyWarning: \n",
      "A value is trying to be set on a copy of a slice from a DataFrame\n",
      "\n",
      "See the caveats in the documentation: http://pandas.pydata.org/pandas-docs/stable/indexing.html#indexing-view-versus-copy\n",
      "/anaconda/lib/python2.7/site-packages/ipykernel/__main__.py:7: SettingWithCopyWarning: \n",
      "A value is trying to be set on a copy of a slice from a DataFrame.\n",
      "Try using .loc[row_indexer,col_indexer] = value instead\n",
      "\n",
      "See the caveats in the documentation: http://pandas.pydata.org/pandas-docs/stable/indexing.html#indexing-view-versus-copy\n",
      "/anaconda/lib/python2.7/site-packages/ipykernel/__main__.py:8: SettingWithCopyWarning: \n",
      "A value is trying to be set on a copy of a slice from a DataFrame.\n",
      "Try using .loc[row_indexer,col_indexer] = value instead\n",
      "\n",
      "See the caveats in the documentation: http://pandas.pydata.org/pandas-docs/stable/indexing.html#indexing-view-versus-copy\n",
      "/anaconda/lib/python2.7/site-packages/ipykernel/__main__.py:7: SettingWithCopyWarning: \n",
      "A value is trying to be set on a copy of a slice from a DataFrame\n",
      "\n",
      "See the caveats in the documentation: http://pandas.pydata.org/pandas-docs/stable/indexing.html#indexing-view-versus-copy\n",
      "/anaconda/lib/python2.7/site-packages/ipykernel/__main__.py:8: SettingWithCopyWarning: \n",
      "A value is trying to be set on a copy of a slice from a DataFrame\n",
      "\n",
      "See the caveats in the documentation: http://pandas.pydata.org/pandas-docs/stable/indexing.html#indexing-view-versus-copy\n",
      "/anaconda/lib/python2.7/site-packages/ipykernel/__main__.py:9: SettingWithCopyWarning: \n",
      "A value is trying to be set on a copy of a slice from a DataFrame\n",
      "\n",
      "See the caveats in the documentation: http://pandas.pydata.org/pandas-docs/stable/indexing.html#indexing-view-versus-copy\n",
      "/anaconda/lib/python2.7/site-packages/ipykernel/__main__.py:10: SettingWithCopyWarning: \n",
      "A value is trying to be set on a copy of a slice from a DataFrame.\n",
      "Try using .loc[row_indexer,col_indexer] = value instead\n",
      "\n",
      "See the caveats in the documentation: http://pandas.pydata.org/pandas-docs/stable/indexing.html#indexing-view-versus-copy\n",
      "/anaconda/lib/python2.7/site-packages/ipykernel/__main__.py:11: SettingWithCopyWarning: \n",
      "A value is trying to be set on a copy of a slice from a DataFrame.\n",
      "Try using .loc[row_indexer,col_indexer] = value instead\n",
      "\n",
      "See the caveats in the documentation: http://pandas.pydata.org/pandas-docs/stable/indexing.html#indexing-view-versus-copy\n"
     ]
    }
   ],
   "source": [
    "edu_bt_clean = clean_acs_edu(edu_bt)\n",
    "income_bt_clean = clean_acs_income(income_bt)\n",
    "lai_clean = clean_lai(lai)"
   ]
  },
  {
   "cell_type": "markdown",
   "metadata": {},
   "source": [
    "#### SCORES FOR IMPACT START"
   ]
  },
  {
   "cell_type": "markdown",
   "metadata": {
    "collapsed": false
   },
   "source": [
    "scores_for_impact = clean_impacts_df(ssp_scores_tract)"
   ]
  },
  {
   "cell_type": "code",
   "execution_count": 520,
   "metadata": {
    "collapsed": false
   },
   "outputs": [],
   "source": [
    "scores_for_impact = single_merge(scores_for_impact, edu_bt_clean, leftkey = 'tract', rightkey = 'block_group')\n",
    "scores_for_impact = single_merge(scores_for_impact, income_bt_clean, leftkey = 'tract', rightkey = 'tract')\n",
    "scores_for_impact = single_merge(scores_for_impact, lai_clean, leftkey = 'tract', rightkey = 'tract')"
   ]
  },
  {
   "cell_type": "code",
   "execution_count": 318,
   "metadata": {
    "collapsed": false
   },
   "outputs": [
    {
     "data": {
      "text/plain": [
       "manual_cluster_med\n",
       "0    0.800844\n",
       "1    0.816991\n",
       "2    0.851661\n",
       "Name: pct_hs_or_greater, dtype: float64"
      ]
     },
     "execution_count": 318,
     "metadata": {},
     "output_type": "execute_result"
    }
   ],
   "source": [
    "scores_for_impact.groupby('manual_cluster_med')['pct_hs_or_greater'].median()"
   ]
  },
  {
   "cell_type": "markdown",
   "metadata": {},
   "source": [
    "#### Test impact of streetscore data by comparing models\n",
    "* educational attainment: 0.471 vs. 0.471 - no impact\n",
    "* neighborhood affordability (housing & trans costs as % of income): .309 vs. .312 (p = .002)\n",
    "    * .309 vs .312 when using the manual clusters\n",
    "* home values\n",
    "* actual crime rates - correlation?"
   ]
  },
  {
   "cell_type": "code",
   "execution_count": 528,
   "metadata": {
    "collapsed": true
   },
   "outputs": [],
   "source": [
    "# define Xs and ys\n",
    "dependent_var = ['hh_type1_ht']\n",
    "impact_base_features = ['median_hh_income_log']\n",
    "impact_features = impact_base_features + ['diff_score', 'danger_score_raw_std']\n",
    "model_df = scores_for_impact.dropna().drop(2114)"
   ]
  },
  {
   "cell_type": "code",
   "execution_count": 502,
   "metadata": {
    "collapsed": true
   },
   "outputs": [
    {
     "data": {
      "text/html": [
       "<table class=\"simpletable\">\n",
       "<caption>OLS Regression Results</caption>\n",
       "<tr>\n",
       "  <th>Dep. Variable:</th>       <td>hh_type1_ht</td>   <th>  R-squared:         </th> <td>   0.560</td> \n",
       "</tr>\n",
       "<tr>\n",
       "  <th>Model:</th>                   <td>OLS</td>       <th>  Adj. R-squared:    </th> <td>   0.560</td> \n",
       "</tr>\n",
       "<tr>\n",
       "  <th>Method:</th>             <td>Least Squares</td>  <th>  F-statistic:       </th> <td>   2652.</td> \n",
       "</tr>\n",
       "<tr>\n",
       "  <th>Date:</th>             <td>Wed, 23 Mar 2016</td> <th>  Prob (F-statistic):</th>  <td>  0.00</td>  \n",
       "</tr>\n",
       "<tr>\n",
       "  <th>Time:</th>                 <td>13:54:15</td>     <th>  Log-Likelihood:    </th> <td> -5731.5</td> \n",
       "</tr>\n",
       "<tr>\n",
       "  <th>No. Observations:</th>      <td>  2085</td>      <th>  AIC:               </th> <td>1.147e+04</td>\n",
       "</tr>\n",
       "<tr>\n",
       "  <th>Df Residuals:</th>          <td>  2083</td>      <th>  BIC:               </th> <td>1.148e+04</td>\n",
       "</tr>\n",
       "<tr>\n",
       "  <th>Df Model:</th>              <td>     1</td>      <th>                     </th>     <td> </td>    \n",
       "</tr>\n",
       "<tr>\n",
       "  <th>Covariance Type:</th>      <td>nonrobust</td>    <th>                     </th>     <td> </td>    \n",
       "</tr>\n",
       "</table>\n",
       "<table class=\"simpletable\">\n",
       "<tr>\n",
       "            <td></td>              <th>coef</th>     <th>std err</th>      <th>t</th>      <th>P>|t|</th> <th>[95.0% Conf. Int.]</th> \n",
       "</tr>\n",
       "<tr>\n",
       "  <th>const</th>                <td>  -50.8743</td> <td>    1.842</td> <td>  -27.622</td> <td> 0.000</td> <td>  -54.486   -47.262</td>\n",
       "</tr>\n",
       "<tr>\n",
       "  <th>median_hh_income_log</th> <td>    8.7243</td> <td>    0.169</td> <td>   51.493</td> <td> 0.000</td> <td>    8.392     9.057</td>\n",
       "</tr>\n",
       "</table>\n",
       "<table class=\"simpletable\">\n",
       "<tr>\n",
       "  <th>Omnibus:</th>       <td>134.101</td> <th>  Durbin-Watson:     </th> <td>   1.794</td>\n",
       "</tr>\n",
       "<tr>\n",
       "  <th>Prob(Omnibus):</th> <td> 0.000</td>  <th>  Jarque-Bera (JB):  </th> <td> 244.372</td>\n",
       "</tr>\n",
       "<tr>\n",
       "  <th>Skew:</th>          <td>-0.466</td>  <th>  Prob(JB):          </th> <td>8.62e-54</td>\n",
       "</tr>\n",
       "<tr>\n",
       "  <th>Kurtosis:</th>      <td> 4.394</td>  <th>  Cond. No.          </th> <td>    244.</td>\n",
       "</tr>\n",
       "</table>"
      ],
      "text/plain": [
       "<class 'statsmodels.iolib.summary.Summary'>\n",
       "\"\"\"\n",
       "                            OLS Regression Results                            \n",
       "==============================================================================\n",
       "Dep. Variable:            hh_type1_ht   R-squared:                       0.560\n",
       "Model:                            OLS   Adj. R-squared:                  0.560\n",
       "Method:                 Least Squares   F-statistic:                     2652.\n",
       "Date:                Wed, 23 Mar 2016   Prob (F-statistic):               0.00\n",
       "Time:                        13:54:15   Log-Likelihood:                -5731.5\n",
       "No. Observations:                2085   AIC:                         1.147e+04\n",
       "Df Residuals:                    2083   BIC:                         1.148e+04\n",
       "Df Model:                           1                                         \n",
       "Covariance Type:            nonrobust                                         \n",
       "========================================================================================\n",
       "                           coef    std err          t      P>|t|      [95.0% Conf. Int.]\n",
       "----------------------------------------------------------------------------------------\n",
       "const                  -50.8743      1.842    -27.622      0.000       -54.486   -47.262\n",
       "median_hh_income_log     8.7243      0.169     51.493      0.000         8.392     9.057\n",
       "==============================================================================\n",
       "Omnibus:                      134.101   Durbin-Watson:                   1.794\n",
       "Prob(Omnibus):                  0.000   Jarque-Bera (JB):              244.372\n",
       "Skew:                          -0.466   Prob(JB):                     8.62e-54\n",
       "Kurtosis:                       4.394   Cond. No.                         244.\n",
       "==============================================================================\n",
       "\n",
       "Warnings:\n",
       "[1] Standard Errors assume that the covariance matrix of the errors is correctly specified.\n",
       "\"\"\""
      ]
     },
     "execution_count": 502,
     "metadata": {},
     "output_type": "execute_result"
    }
   ],
   "source": [
    "impact_model_base = sm_ols(impact_base_features, dependent_var, model_df)\n",
    "impact_model_base.summary()"
   ]
  },
  {
   "cell_type": "code",
   "execution_count": 529,
   "metadata": {
    "collapsed": true
   },
   "outputs": [
    {
     "data": {
      "text/html": [
       "<table class=\"simpletable\">\n",
       "<caption>OLS Regression Results</caption>\n",
       "<tr>\n",
       "  <th>Dep. Variable:</th>       <td>hh_type1_ht</td>   <th>  R-squared:         </th> <td>   0.569</td> \n",
       "</tr>\n",
       "<tr>\n",
       "  <th>Model:</th>                   <td>OLS</td>       <th>  Adj. R-squared:    </th> <td>   0.569</td> \n",
       "</tr>\n",
       "<tr>\n",
       "  <th>Method:</th>             <td>Least Squares</td>  <th>  F-statistic:       </th> <td>   917.2</td> \n",
       "</tr>\n",
       "<tr>\n",
       "  <th>Date:</th>             <td>Wed, 23 Mar 2016</td> <th>  Prob (F-statistic):</th>  <td>  0.00</td>  \n",
       "</tr>\n",
       "<tr>\n",
       "  <th>Time:</th>                 <td>14:13:44</td>     <th>  Log-Likelihood:    </th> <td> -5709.1</td> \n",
       "</tr>\n",
       "<tr>\n",
       "  <th>No. Observations:</th>      <td>  2085</td>      <th>  AIC:               </th> <td>1.143e+04</td>\n",
       "</tr>\n",
       "<tr>\n",
       "  <th>Df Residuals:</th>          <td>  2081</td>      <th>  BIC:               </th> <td>1.145e+04</td>\n",
       "</tr>\n",
       "<tr>\n",
       "  <th>Df Model:</th>              <td>     3</td>      <th>                     </th>     <td> </td>    \n",
       "</tr>\n",
       "<tr>\n",
       "  <th>Covariance Type:</th>      <td>nonrobust</td>    <th>                     </th>     <td> </td>    \n",
       "</tr>\n",
       "</table>\n",
       "<table class=\"simpletable\">\n",
       "<tr>\n",
       "            <td></td>              <th>coef</th>     <th>std err</th>      <th>t</th>      <th>P>|t|</th> <th>[95.0% Conf. Int.]</th> \n",
       "</tr>\n",
       "<tr>\n",
       "  <th>const</th>                <td>  -51.1944</td> <td>    1.919</td> <td>  -26.684</td> <td> 0.000</td> <td>  -54.957   -47.432</td>\n",
       "</tr>\n",
       "<tr>\n",
       "  <th>median_hh_income_log</th> <td>    8.9142</td> <td>    0.171</td> <td>   52.042</td> <td> 0.000</td> <td>    8.578     9.250</td>\n",
       "</tr>\n",
       "<tr>\n",
       "  <th>diff_score</th>           <td>    0.2317</td> <td>    0.040</td> <td>    5.724</td> <td> 0.000</td> <td>    0.152     0.311</td>\n",
       "</tr>\n",
       "<tr>\n",
       "  <th>danger_score_raw_std</th> <td>   -0.4044</td> <td>    0.104</td> <td>   -3.893</td> <td> 0.000</td> <td>   -0.608    -0.201</td>\n",
       "</tr>\n",
       "</table>\n",
       "<table class=\"simpletable\">\n",
       "<tr>\n",
       "  <th>Omnibus:</th>       <td>124.889</td> <th>  Durbin-Watson:     </th> <td>   1.795</td>\n",
       "</tr>\n",
       "<tr>\n",
       "  <th>Prob(Omnibus):</th> <td> 0.000</td>  <th>  Jarque-Bera (JB):  </th> <td> 183.236</td>\n",
       "</tr>\n",
       "<tr>\n",
       "  <th>Skew:</th>          <td>-0.508</td>  <th>  Prob(JB):          </th> <td>1.63e-40</td>\n",
       "</tr>\n",
       "<tr>\n",
       "  <th>Kurtosis:</th>      <td> 4.037</td>  <th>  Cond. No.          </th> <td>    276.</td>\n",
       "</tr>\n",
       "</table>"
      ],
      "text/plain": [
       "<class 'statsmodels.iolib.summary.Summary'>\n",
       "\"\"\"\n",
       "                            OLS Regression Results                            \n",
       "==============================================================================\n",
       "Dep. Variable:            hh_type1_ht   R-squared:                       0.569\n",
       "Model:                            OLS   Adj. R-squared:                  0.569\n",
       "Method:                 Least Squares   F-statistic:                     917.2\n",
       "Date:                Wed, 23 Mar 2016   Prob (F-statistic):               0.00\n",
       "Time:                        14:13:44   Log-Likelihood:                -5709.1\n",
       "No. Observations:                2085   AIC:                         1.143e+04\n",
       "Df Residuals:                    2081   BIC:                         1.145e+04\n",
       "Df Model:                           3                                         \n",
       "Covariance Type:            nonrobust                                         \n",
       "========================================================================================\n",
       "                           coef    std err          t      P>|t|      [95.0% Conf. Int.]\n",
       "----------------------------------------------------------------------------------------\n",
       "const                  -51.1944      1.919    -26.684      0.000       -54.957   -47.432\n",
       "median_hh_income_log     8.9142      0.171     52.042      0.000         8.578     9.250\n",
       "diff_score               0.2317      0.040      5.724      0.000         0.152     0.311\n",
       "danger_score_raw_std    -0.4044      0.104     -3.893      0.000        -0.608    -0.201\n",
       "==============================================================================\n",
       "Omnibus:                      124.889   Durbin-Watson:                   1.795\n",
       "Prob(Omnibus):                  0.000   Jarque-Bera (JB):              183.236\n",
       "Skew:                          -0.508   Prob(JB):                     1.63e-40\n",
       "Kurtosis:                       4.037   Cond. No.                         276.\n",
       "==============================================================================\n",
       "\n",
       "Warnings:\n",
       "[1] Standard Errors assume that the covariance matrix of the errors is correctly specified.\n",
       "\"\"\""
      ]
     },
     "execution_count": 529,
     "metadata": {},
     "output_type": "execute_result"
    }
   ],
   "source": [
    "impact_model = sm_ols(impact_features, dependent_var, model_df)\n",
    "impact_model.summary()"
   ]
  },
  {
   "cell_type": "markdown",
   "metadata": {},
   "source": [
    "### 6. REVERSE REVERSE - Build model to predict difference scores\n",
    "Features to include:\n",
    "\n",
    "PHYSICAL\n",
    "* primary land use OR % residential, industrial, etc. \n",
    "* median year buildings were built \n",
    "* building heights? -- additional features to account for physical apperance not covered in age and building type\n",
    "* percent of housing units vacant\n",
    "* percent of housing units with 10 or more units \n",
    "* vacancy rates overall\n",
    "* home values\n",
    "* median rent \n",
    "\n",
    "DEMOGRAPHIC\n",
    "* household income\n",
    "* education levels\n",
    "* household types - single family, individual, etc.\n",
    "* affordability\n",
    "* age\n",
    "* race\n",
    "* resident/worker population density \n",
    "\n",
    "FEATURE ENGINEERING TO DOS: \n",
    "* young males "
   ]
  },
  {
   "cell_type": "markdown",
   "metadata": {},
   "source": [
    "#### Clean/prep features"
   ]
  },
  {
   "cell_type": "code",
   "execution_count": 798,
   "metadata": {
    "collapsed": false
   },
   "outputs": [],
   "source": [
    "def get_pop_density(df):\n",
    "    \"\"\"Get resident and worker density from crime df.\"\"\"\n",
    "    keep = ['population', 'workers', 'total_pop', 'tract_area']\n",
    "    newdf = df[keep]\n",
    "    newdf.rename(columns = {'population': 'residents'}, inplace = True)\n",
    "    \n",
    "    # add population density\n",
    "    newdf['resident_density'] = newdf.loc[:, 'residents'] / newdf.loc[:, 'tract_area']\n",
    "    newdf['worker_density'] = newdf.loc[:, 'workers'] / newdf.loc[:, 'tract_area']\n",
    "    \n",
    "    # add log of population density\n",
    "    log_transform('resident_density', newdf)\n",
    "    log_transform('worker_density', newdf)\n",
    "    \n",
    "    # add tract column\n",
    "    newdf['tract'] = newdf.index\n",
    "    \n",
    "    return newdf"
   ]
  },
  {
   "cell_type": "code",
   "execution_count": 727,
   "metadata": {
    "collapsed": true
   },
   "outputs": [],
   "source": [
    "def pluto_med_age(df, geo):\n",
    "    \"\"\"Get median building age by geography from pluto data.\"\"\"\n",
    "    newdf = df[df.YearBuilt != 0]\n",
    "    newdf.dropna(subset = [geo], inplace = True)\n",
    "    grouped = newdf.groupby(geo)['YearBuilt'].agg(lambda x: np.median(x))\n",
    "    grouped = pd.DataFrame(grouped)\n",
    "    grouped['tract'] = grouped.index\n",
    "    return grouped"
   ]
  },
  {
   "cell_type": "code",
   "execution_count": 745,
   "metadata": {
    "collapsed": true
   },
   "outputs": [],
   "source": [
    "def clean_acs_gender(df):\n",
    "    keep = ['GEO.id2', 'HC01_EST_VC01', 'HC02_EST_VC01']\n",
    "    newdf = df[keep]\n",
    "    newdf.drop(0, inplace = True)\n",
    "    newdf.loc[:,'pct_male'] = newdf.loc[:, 'HC02_EST_VC01'].astype(float) / newdf.loc[:, 'HC01_EST_VC01'].astype(float)\n",
    "    newdf.rename(columns = {'GEO.id2': 'tract'}, inplace = True)\n",
    "    return newdf[['tract', 'pct_male']]"
   ]
  },
  {
   "cell_type": "code",
   "execution_count": 781,
   "metadata": {
    "collapsed": true
   },
   "outputs": [],
   "source": [
    "def clean_acs_race(df):\n",
    "    keep = ['GEO.id2', 'D002', 'D003']\n",
    "    newdf = df[keep]\n",
    "    newdf.drop(0, inplace = True)\n",
    "    newdf['race_pct_nonwhite'] = 1 - (newdf.loc[:, 'D003'].astype(float) / newdf.loc[:, 'D002'].astype(float))\n",
    "    newdf.rename(columns = {'GEO.id2': 'tract'}, inplace = True)\n",
    "    return newdf[['tract', 'race_pct_nonwhite']]"
   ]
  },
  {
   "cell_type": "code",
   "execution_count": 728,
   "metadata": {
    "collapsed": false
   },
   "outputs": [
    {
     "name": "stderr",
     "output_type": "stream",
     "text": [
      "/anaconda/lib/python2.7/site-packages/ipykernel/__main__.py:4: SettingWithCopyWarning: \n",
      "A value is trying to be set on a copy of a slice from a DataFrame\n",
      "\n",
      "See the caveats in the documentation: http://pandas.pydata.org/pandas-docs/stable/indexing.html#indexing-view-versus-copy\n"
     ]
    }
   ],
   "source": [
    "# median bldg age\n",
    "bldg_age = pluto_med_age(pluto_clean, 'fips_tract')"
   ]
  },
  {
   "cell_type": "code",
   "execution_count": 738,
   "metadata": {
    "collapsed": true
   },
   "outputs": [],
   "source": [
    "# age and gender\n",
    "age = pd.read_csv('data/dem_data/acs_med_age_by_sex_2014.csv')\n",
    "gender = pd.read_csv('data/dem_data/acs_sex_by_tract_2014.csv')\n",
    "race = pd.read_csv('data/dem_data/census_race_by_tract_2010.csv')"
   ]
  },
  {
   "cell_type": "code",
   "execution_count": 746,
   "metadata": {
    "collapsed": false
   },
   "outputs": [
    {
     "name": "stderr",
     "output_type": "stream",
     "text": [
      "/anaconda/lib/python2.7/site-packages/ipykernel/__main__.py:4: SettingWithCopyWarning: \n",
      "A value is trying to be set on a copy of a slice from a DataFrame\n",
      "\n",
      "See the caveats in the documentation: http://pandas.pydata.org/pandas-docs/stable/indexing.html#indexing-view-versus-copy\n"
     ]
    }
   ],
   "source": [
    "gender_clean = clean_acs_gender(gender)\n",
    "age_clean = clean_acs(age, 'HD01_VD02', 'tract', 'median_age')\n",
    "age_clean = clean_acs(age, 'HD01_VD02', 'tract', 'median_age')\n",
    "race_clean = clean_acs_race(race)\n",
    "density = get_pop_density(crime2014_ct)"
   ]
  },
  {
   "cell_type": "code",
   "execution_count": 799,
   "metadata": {
    "collapsed": true
   },
   "outputs": [
    {
     "name": "stderr",
     "output_type": "stream",
     "text": [
      "/anaconda/lib/python2.7/site-packages/ipykernel/__main__.py:8: SettingWithCopyWarning: \n",
      "A value is trying to be set on a copy of a slice from a DataFrame.\n",
      "Try using .loc[row_indexer,col_indexer] = value instead\n",
      "\n",
      "See the caveats in the documentation: http://pandas.pydata.org/pandas-docs/stable/indexing.html#indexing-view-versus-copy\n",
      "/anaconda/lib/python2.7/site-packages/ipykernel/__main__.py:9: SettingWithCopyWarning: \n",
      "A value is trying to be set on a copy of a slice from a DataFrame.\n",
      "Try using .loc[row_indexer,col_indexer] = value instead\n",
      "\n",
      "See the caveats in the documentation: http://pandas.pydata.org/pandas-docs/stable/indexing.html#indexing-view-versus-copy\n",
      "/anaconda/lib/python2.7/site-packages/ipykernel/__main__.py:2: SettingWithCopyWarning: \n",
      "A value is trying to be set on a copy of a slice from a DataFrame.\n",
      "Try using .loc[row_indexer,col_indexer] = value instead\n",
      "\n",
      "See the caveats in the documentation: http://pandas.pydata.org/pandas-docs/stable/indexing.html#indexing-view-versus-copy\n",
      "  from ipykernel import kernelapp as app\n",
      "/anaconda/lib/python2.7/site-packages/ipykernel/__main__.py:16: SettingWithCopyWarning: \n",
      "A value is trying to be set on a copy of a slice from a DataFrame.\n",
      "Try using .loc[row_indexer,col_indexer] = value instead\n",
      "\n",
      "See the caveats in the documentation: http://pandas.pydata.org/pandas-docs/stable/indexing.html#indexing-view-versus-copy\n"
     ]
    }
   ],
   "source": []
  },
  {
   "cell_type": "code",
   "execution_count": 800,
   "metadata": {
    "collapsed": false
   },
   "outputs": [
    {
     "data": {
      "text/html": [
       "<div>\n",
       "<table border=\"1\" class=\"dataframe\">\n",
       "  <thead>\n",
       "    <tr style=\"text-align: right;\">\n",
       "      <th>Offense</th>\n",
       "      <th>residents</th>\n",
       "      <th>workers</th>\n",
       "      <th>total_pop</th>\n",
       "      <th>tract_area</th>\n",
       "      <th>resident_density</th>\n",
       "      <th>worker_density</th>\n",
       "      <th>resident_density_log</th>\n",
       "      <th>worker_density_log</th>\n",
       "      <th>tract</th>\n",
       "    </tr>\n",
       "    <tr>\n",
       "      <th>fips_tract</th>\n",
       "      <th></th>\n",
       "      <th></th>\n",
       "      <th></th>\n",
       "      <th></th>\n",
       "      <th></th>\n",
       "      <th></th>\n",
       "      <th></th>\n",
       "      <th></th>\n",
       "      <th></th>\n",
       "    </tr>\n",
       "  </thead>\n",
       "  <tbody>\n",
       "    <tr>\n",
       "      <th>36005000200</th>\n",
       "      <td>5095</td>\n",
       "      <td>51</td>\n",
       "      <td>5146</td>\n",
       "      <td>5050182.71191</td>\n",
       "      <td>0.001009</td>\n",
       "      <td>0.000010</td>\n",
       "      <td>-6.898920</td>\n",
       "      <td>-11.503109</td>\n",
       "      <td>36005000200</td>\n",
       "    </tr>\n",
       "    <tr>\n",
       "      <th>36005000400</th>\n",
       "      <td>5572</td>\n",
       "      <td>310</td>\n",
       "      <td>5882</td>\n",
       "      <td>8551573.02668</td>\n",
       "      <td>0.000652</td>\n",
       "      <td>0.000036</td>\n",
       "      <td>-7.336116</td>\n",
       "      <td>-10.225054</td>\n",
       "      <td>36005000400</td>\n",
       "    </tr>\n",
       "    <tr>\n",
       "      <th>36005001600</th>\n",
       "      <td>5412</td>\n",
       "      <td>578</td>\n",
       "      <td>5990</td>\n",
       "      <td>5221332.29582</td>\n",
       "      <td>0.001037</td>\n",
       "      <td>0.000111</td>\n",
       "      <td>-6.871889</td>\n",
       "      <td>-9.108689</td>\n",
       "      <td>36005001600</td>\n",
       "    </tr>\n",
       "    <tr>\n",
       "      <th>36005001900</th>\n",
       "      <td>2569</td>\n",
       "      <td>5666</td>\n",
       "      <td>8235</td>\n",
       "      <td>17964480.95910</td>\n",
       "      <td>0.000143</td>\n",
       "      <td>0.000315</td>\n",
       "      <td>-8.852635</td>\n",
       "      <td>-8.061668</td>\n",
       "      <td>36005001900</td>\n",
       "    </tr>\n",
       "    <tr>\n",
       "      <th>36005002000</th>\n",
       "      <td>8959</td>\n",
       "      <td>132</td>\n",
       "      <td>9091</td>\n",
       "      <td>4270706.70640</td>\n",
       "      <td>0.002098</td>\n",
       "      <td>0.000031</td>\n",
       "      <td>-6.166876</td>\n",
       "      <td>-10.384488</td>\n",
       "      <td>36005002000</td>\n",
       "    </tr>\n",
       "  </tbody>\n",
       "</table>\n",
       "</div>"
      ],
      "text/plain": [
       "Offense      residents  workers  total_pop      tract_area  resident_density  \\\n",
       "fips_tract                                                                     \n",
       "36005000200       5095       51       5146   5050182.71191          0.001009   \n",
       "36005000400       5572      310       5882   8551573.02668          0.000652   \n",
       "36005001600       5412      578       5990   5221332.29582          0.001037   \n",
       "36005001900       2569     5666       8235  17964480.95910          0.000143   \n",
       "36005002000       8959      132       9091   4270706.70640          0.002098   \n",
       "\n",
       "Offense      worker_density  resident_density_log  worker_density_log  \\\n",
       "fips_tract                                                              \n",
       "36005000200        0.000010             -6.898920          -11.503109   \n",
       "36005000400        0.000036             -7.336116          -10.225054   \n",
       "36005001600        0.000111             -6.871889           -9.108689   \n",
       "36005001900        0.000315             -8.852635           -8.061668   \n",
       "36005002000        0.000031             -6.166876          -10.384488   \n",
       "\n",
       "Offense            tract  \n",
       "fips_tract                \n",
       "36005000200  36005000200  \n",
       "36005000400  36005000400  \n",
       "36005001600  36005001600  \n",
       "36005001900  36005001900  \n",
       "36005002000  36005002000  "
      ]
     },
     "execution_count": 800,
     "metadata": {},
     "output_type": "execute_result"
    }
   ],
   "source": [
    "density.head()"
   ]
  },
  {
   "cell_type": "markdown",
   "metadata": {},
   "source": [
    "#### prep stuff"
   ]
  },
  {
   "cell_type": "code",
   "execution_count": 655,
   "metadata": {
    "collapsed": true
   },
   "outputs": [],
   "source": [
    "scores_for_impact = single_merge(scores_for_impact, landuse_tract, 'tract', 'tract')"
   ]
  },
  {
   "cell_type": "code",
   "execution_count": 731,
   "metadata": {
    "collapsed": true
   },
   "outputs": [],
   "source": [
    "scores_for_impact = single_merge(scores_for_impact, bldg_age, 'tract', 'tract')"
   ]
  },
  {
   "cell_type": "code",
   "execution_count": 749,
   "metadata": {
    "collapsed": true
   },
   "outputs": [],
   "source": [
    "scores_for_impact = single_merge(scores_for_impact, gender_clean, 'tract', 'tract')"
   ]
  },
  {
   "cell_type": "code",
   "execution_count": 758,
   "metadata": {
    "collapsed": true
   },
   "outputs": [],
   "source": [
    "scores_for_impact = single_merge(scores_for_impact, age_clean, 'tract', 'tract')"
   ]
  },
  {
   "cell_type": "code",
   "execution_count": 783,
   "metadata": {
    "collapsed": true
   },
   "outputs": [],
   "source": [
    "scores_for_impact = single_merge(scores_for_impact, race_clean, 'tract', 'tract')"
   ]
  },
  {
   "cell_type": "code",
   "execution_count": 801,
   "metadata": {
    "collapsed": true
   },
   "outputs": [],
   "source": [
    "scores_for_impact = single_merge(scores_for_impact, density, 'tract', 'tract')"
   ]
  },
  {
   "cell_type": "code",
   "execution_count": 657,
   "metadata": {
    "collapsed": true
   },
   "outputs": [],
   "source": [
    "scores_for_impact = get_dummies(scores_for_impact, 'LandUse')"
   ]
  },
  {
   "cell_type": "code",
   "execution_count": 659,
   "metadata": {
    "collapsed": true
   },
   "outputs": [],
   "source": [
    "land_use_features_tract = [col for col in scores_for_impact if 'landuse' in col]\n",
    "land_use_features_tract.remove('landuse_res_single_fam')"
   ]
  },
  {
   "cell_type": "code",
   "execution_count": 816,
   "metadata": {
    "collapsed": false
   },
   "outputs": [],
   "source": [
    "model_features = ['median_hh_income_log', 'hh_type1_ht', 'pct_hs_or_greater', \n",
    "                  'pct_male', 'YearBuilt', 'median_age'] + land_use_features_tract"
   ]
  },
  {
   "cell_type": "code",
   "execution_count": 820,
   "metadata": {
    "collapsed": false
   },
   "outputs": [
    {
     "data": {
      "text/plain": [
       "(2137, 41)"
      ]
     },
     "execution_count": 820,
     "metadata": {},
     "output_type": "execute_result"
    }
   ],
   "source": [
    "scores_for_impact.shape"
   ]
  },
  {
   "cell_type": "code",
   "execution_count": 848,
   "metadata": {
    "collapsed": false
   },
   "outputs": [
    {
     "data": {
      "text/html": [
       "<table class=\"simpletable\">\n",
       "<caption>OLS Regression Results</caption>\n",
       "<tr>\n",
       "  <th>Dep. Variable:</th>       <td>diff_score</td>    <th>  R-squared:         </th> <td>     nan</td>\n",
       "</tr>\n",
       "<tr>\n",
       "  <th>Model:</th>                   <td>OLS</td>       <th>  Adj. R-squared:    </th> <td>     nan</td>\n",
       "</tr>\n",
       "<tr>\n",
       "  <th>Method:</th>             <td>Least Squares</td>  <th>  F-statistic:       </th> <td>     nan</td>\n",
       "</tr>\n",
       "<tr>\n",
       "  <th>Date:</th>             <td>Thu, 24 Mar 2016</td> <th>  Prob (F-statistic):</th>  <td>   nan</td> \n",
       "</tr>\n",
       "<tr>\n",
       "  <th>Time:</th>                 <td>10:56:18</td>     <th>  Log-Likelihood:    </th> <td>     nan</td>\n",
       "</tr>\n",
       "<tr>\n",
       "  <th>No. Observations:</th>      <td>  1712</td>      <th>  AIC:               </th> <td>     nan</td>\n",
       "</tr>\n",
       "<tr>\n",
       "  <th>Df Residuals:</th>          <td>  1712</td>      <th>  BIC:               </th> <td>     nan</td>\n",
       "</tr>\n",
       "<tr>\n",
       "  <th>Df Model:</th>              <td>    -1</td>      <th>                     </th>     <td> </td>   \n",
       "</tr>\n",
       "<tr>\n",
       "  <th>Covariance Type:</th>      <td>nonrobust</td>    <th>                     </th>     <td> </td>   \n",
       "</tr>\n",
       "</table>\n",
       "<table class=\"simpletable\">\n",
       "<tr>\n",
       "                 <td></td>                   <th>coef</th>     <th>std err</th>      <th>t</th>      <th>P>|t|</th> <th>[95.0% Conf. Int.]</th> \n",
       "</tr>\n",
       "<tr>\n",
       "  <th>const</th>                          <td>       nan</td> <td>      nan</td> <td>      nan</td> <td>   nan</td> <td>      nan       nan</td>\n",
       "</tr>\n",
       "<tr>\n",
       "  <th>median_hh_income_log</th>           <td>       nan</td> <td>      nan</td> <td>      nan</td> <td>   nan</td> <td>      nan       nan</td>\n",
       "</tr>\n",
       "<tr>\n",
       "  <th>hh_type1_ht</th>                    <td>       nan</td> <td>      nan</td> <td>      nan</td> <td>   nan</td> <td>      nan       nan</td>\n",
       "</tr>\n",
       "<tr>\n",
       "  <th>pct_hs_or_greater</th>              <td>       nan</td> <td>      nan</td> <td>      nan</td> <td>   nan</td> <td>      nan       nan</td>\n",
       "</tr>\n",
       "<tr>\n",
       "  <th>pct_male</th>                       <td>       nan</td> <td>      nan</td> <td>      nan</td> <td>   nan</td> <td>      nan       nan</td>\n",
       "</tr>\n",
       "<tr>\n",
       "  <th>YearBuilt</th>                      <td>       nan</td> <td>      nan</td> <td>      nan</td> <td>   nan</td> <td>      nan       nan</td>\n",
       "</tr>\n",
       "<tr>\n",
       "  <th>median_age</th>                     <td>       nan</td> <td>      nan</td> <td>      nan</td> <td>   nan</td> <td>      nan       nan</td>\n",
       "</tr>\n",
       "<tr>\n",
       "  <th>landuse_ind_manu</th>               <td>       nan</td> <td>      nan</td> <td>      nan</td> <td>   nan</td> <td>      nan       nan</td>\n",
       "</tr>\n",
       "<tr>\n",
       "  <th>landuse_mixed_res_commercial</th>   <td>       nan</td> <td>      nan</td> <td>      nan</td> <td>   nan</td> <td>      nan       nan</td>\n",
       "</tr>\n",
       "<tr>\n",
       "  <th>landuse_office</th>                 <td>       nan</td> <td>      nan</td> <td>      nan</td> <td>   nan</td> <td>      nan       nan</td>\n",
       "</tr>\n",
       "<tr>\n",
       "  <th>landuse_open_space</th>             <td>       nan</td> <td>      nan</td> <td>      nan</td> <td>   nan</td> <td>      nan       nan</td>\n",
       "</tr>\n",
       "<tr>\n",
       "  <th>landuse_parking</th>                <td>       nan</td> <td>      nan</td> <td>      nan</td> <td>   nan</td> <td>      nan       nan</td>\n",
       "</tr>\n",
       "<tr>\n",
       "  <th>landuse_public_inst</th>            <td>       nan</td> <td>      nan</td> <td>      nan</td> <td>   nan</td> <td>      nan       nan</td>\n",
       "</tr>\n",
       "<tr>\n",
       "  <th>landuse_res_multi_fam_elevator</th> <td>       nan</td> <td>      nan</td> <td>      nan</td> <td>   nan</td> <td>      nan       nan</td>\n",
       "</tr>\n",
       "<tr>\n",
       "  <th>landuse_res_multi_fam_walkup</th>   <td>       nan</td> <td>      nan</td> <td>      nan</td> <td>   nan</td> <td>      nan       nan</td>\n",
       "</tr>\n",
       "<tr>\n",
       "  <th>landuse_transport_utility</th>      <td>       nan</td> <td>      nan</td> <td>      nan</td> <td>   nan</td> <td>      nan       nan</td>\n",
       "</tr>\n",
       "<tr>\n",
       "  <th>landuse_vacant</th>                 <td>       nan</td> <td>      nan</td> <td>      nan</td> <td>   nan</td> <td>      nan       nan</td>\n",
       "</tr>\n",
       "</table>\n",
       "<table class=\"simpletable\">\n",
       "<tr>\n",
       "  <th>Omnibus:</th>       <td>   nan</td> <th>  Durbin-Watson:     </th> <td>     nan</td>\n",
       "</tr>\n",
       "<tr>\n",
       "  <th>Prob(Omnibus):</th> <td>   nan</td> <th>  Jarque-Bera (JB):  </th> <td>     nan</td>\n",
       "</tr>\n",
       "<tr>\n",
       "  <th>Skew:</th>          <td>   nan</td> <th>  Prob(JB):          </th> <td>     nan</td>\n",
       "</tr>\n",
       "<tr>\n",
       "  <th>Kurtosis:</th>      <td>   nan</td> <th>  Cond. No.          </th> <td>     nan</td>\n",
       "</tr>\n",
       "</table>"
      ],
      "text/plain": [
       "<class 'statsmodels.iolib.summary.Summary'>\n",
       "\"\"\"\n",
       "                            OLS Regression Results                            \n",
       "==============================================================================\n",
       "Dep. Variable:             diff_score   R-squared:                         nan\n",
       "Model:                            OLS   Adj. R-squared:                    nan\n",
       "Method:                 Least Squares   F-statistic:                       nan\n",
       "Date:                Thu, 24 Mar 2016   Prob (F-statistic):                nan\n",
       "Time:                        10:56:18   Log-Likelihood:                    nan\n",
       "No. Observations:                1712   AIC:                               nan\n",
       "Df Residuals:                    1712   BIC:                               nan\n",
       "Df Model:                          -1                                         \n",
       "Covariance Type:            nonrobust                                         \n",
       "==================================================================================================\n",
       "                                     coef    std err          t      P>|t|      [95.0% Conf. Int.]\n",
       "--------------------------------------------------------------------------------------------------\n",
       "const                                 nan        nan        nan        nan           nan       nan\n",
       "median_hh_income_log                  nan        nan        nan        nan           nan       nan\n",
       "hh_type1_ht                           nan        nan        nan        nan           nan       nan\n",
       "pct_hs_or_greater                     nan        nan        nan        nan           nan       nan\n",
       "pct_male                              nan        nan        nan        nan           nan       nan\n",
       "YearBuilt                             nan        nan        nan        nan           nan       nan\n",
       "median_age                            nan        nan        nan        nan           nan       nan\n",
       "landuse_ind_manu                      nan        nan        nan        nan           nan       nan\n",
       "landuse_mixed_res_commercial          nan        nan        nan        nan           nan       nan\n",
       "landuse_office                        nan        nan        nan        nan           nan       nan\n",
       "landuse_open_space                    nan        nan        nan        nan           nan       nan\n",
       "landuse_parking                       nan        nan        nan        nan           nan       nan\n",
       "landuse_public_inst                   nan        nan        nan        nan           nan       nan\n",
       "landuse_res_multi_fam_elevator        nan        nan        nan        nan           nan       nan\n",
       "landuse_res_multi_fam_walkup          nan        nan        nan        nan           nan       nan\n",
       "landuse_transport_utility             nan        nan        nan        nan           nan       nan\n",
       "landuse_vacant                        nan        nan        nan        nan           nan       nan\n",
       "==============================================================================\n",
       "Omnibus:                          nan   Durbin-Watson:                     nan\n",
       "Prob(Omnibus):                    nan   Jarque-Bera (JB):                  nan\n",
       "Skew:                             nan   Prob(JB):                          nan\n",
       "Kurtosis:                         nan   Cond. No.                          nan\n",
       "==============================================================================\n",
       "\n",
       "Warnings:\n",
       "[1] Standard Errors assume that the covariance matrix of the errors is correctly specified.\n",
       "\"\"\""
      ]
     },
     "execution_count": 848,
     "metadata": {},
     "output_type": "execute_result"
    }
   ],
   "source": [
    "model_df = scores_for_impact[model_features + ['diff_score']].dropna()\n",
    "model = sm_ols(model_features, ['diff_score'], model_df)\n",
    "model.summary()"
   ]
  },
  {
   "cell_type": "markdown",
   "metadata": {},
   "source": [
    "#### Compare to resident/visitor perceptions of neighborhoods"
   ]
  },
  {
   "cell_type": "code",
   "execution_count": 553,
   "metadata": {
    "collapsed": false
   },
   "outputs": [],
   "source": [
    "airbnb_reviews = pd.read_csv('data/airbnb_reviews.csv')\n",
    "airbnb_listings = pd.read_csv('data/airbnb_listings.csv')\n",
    "airbnb_listings_det = pd.read_csv('data/airbnb_listings_det.csv')"
   ]
  },
  {
   "cell_type": "code",
   "execution_count": 585,
   "metadata": {
    "collapsed": true
   },
   "outputs": [],
   "source": [
    "with open('data/pickled/airbnb_listings.pkl', 'r') as picklefile:\n",
    "    airbnb_listings = pickle.load(picklefile)"
   ]
  },
  {
   "cell_type": "code",
   "execution_count": 586,
   "metadata": {
    "collapsed": true
   },
   "outputs": [],
   "source": [
    "def clean_airbnb(df):\n",
    "    keep = ['id', u'neighbourhood_cleansed', u'neighbourhood_group_cleansed', u'zipcode', u'latitude', u'longitude',\n",
    "            'fips_detail', 'fips_bg', 'fips_tract', u'summary', u'space', u'neighborhood_overview', u'notes', u'transit', 'review_scores_location']\n",
    "    return df[keep]"
   ]
  },
  {
   "cell_type": "code",
   "execution_count": 629,
   "metadata": {
    "collapsed": true
   },
   "outputs": [],
   "source": [
    "def group_nhood_descriptions(df):\n",
    "    df = df.dropna(subset = ['neighborhood_overview'])\n",
    "    by_tract = df.groupby('fips_tract')\n",
    "    tracts = [tract for tract, text in by_tract['neighborhood_overview']]\n",
    "    text = []\n",
    "    counts = []\n",
    "    for tract, desc in by_tract['neighborhood_overview']:\n",
    "        text.append(' '.join([t for idx, t in enumerate(desc)]))\n",
    "        counts.append(desc.shape[0])\n",
    "    return zip(tracts, text, counts)"
   ]
  },
  {
   "cell_type": "code",
   "execution_count": 630,
   "metadata": {
    "collapsed": true
   },
   "outputs": [],
   "source": [
    "descriptions = group_nhood_descriptions(listings)"
   ]
  },
  {
   "cell_type": "code",
   "execution_count": 631,
   "metadata": {
    "collapsed": true
   },
   "outputs": [],
   "source": [
    "airbnb = pd.DataFrame({'tract': [t[0] for t in descriptions], \n",
    "                       'nhood_desc': [t[1] for t in descriptions], 'counts': [t[2] for t in descriptions]})"
   ]
  },
  {
   "cell_type": "code",
   "execution_count": null,
   "metadata": {
    "collapsed": true
   },
   "outputs": [],
   "source": [
    "keywords = ['safe', 'crime', 'quiet', 'live']"
   ]
  },
  {
   "cell_type": "code",
   "execution_count": 634,
   "metadata": {
    "collapsed": false
   },
   "outputs": [
    {
     "data": {
      "text/html": [
       "<div>\n",
       "<table border=\"1\" class=\"dataframe\">\n",
       "  <thead>\n",
       "    <tr style=\"text-align: right;\">\n",
       "      <th></th>\n",
       "      <th>counts</th>\n",
       "      <th>nhood_desc</th>\n",
       "      <th>tract</th>\n",
       "    </tr>\n",
       "  </thead>\n",
       "  <tbody>\n",
       "    <tr>\n",
       "      <th>0</th>\n",
       "      <td>2</td>\n",
       "      <td>Apartment is located in the Clason Point secti...</td>\n",
       "      <td>36005000200</td>\n",
       "    </tr>\n",
       "    <tr>\n",
       "      <th>1</th>\n",
       "      <td>7</td>\n",
       "      <td>I reside in a residential and diverse neighbor...</td>\n",
       "      <td>36005000400</td>\n",
       "    </tr>\n",
       "    <tr>\n",
       "      <th>2</th>\n",
       "      <td>12</td>\n",
       "      <td>The calm, great sky, beautiful brick industria...</td>\n",
       "      <td>36005001900</td>\n",
       "    </tr>\n",
       "    <tr>\n",
       "      <th>3</th>\n",
       "      <td>1</td>\n",
       "      <td>Apartment is located in the Clason Point secti...</td>\n",
       "      <td>36005002000</td>\n",
       "    </tr>\n",
       "    <tr>\n",
       "      <th>4</th>\n",
       "      <td>2</td>\n",
       "      <td>Farmers market, grocery stores, library, commu...</td>\n",
       "      <td>36005002300</td>\n",
       "    </tr>\n",
       "  </tbody>\n",
       "</table>\n",
       "</div>"
      ],
      "text/plain": [
       "   counts                                         nhood_desc        tract\n",
       "0       2  Apartment is located in the Clason Point secti...  36005000200\n",
       "1       7  I reside in a residential and diverse neighbor...  36005000400\n",
       "2      12  The calm, great sky, beautiful brick industria...  36005001900\n",
       "3       1  Apartment is located in the Clason Point secti...  36005002000\n",
       "4       2  Farmers market, grocery stores, library, commu...  36005002300"
      ]
     },
     "execution_count": 634,
     "metadata": {},
     "output_type": "execute_result"
    }
   ],
   "source": [
    "airbnb.head()"
   ]
  }
 ],
 "metadata": {
  "anaconda-cloud": {},
  "kernelspec": {
   "display_name": "Python [Root]",
   "language": "python",
   "name": "Python [Root]"
  },
  "language_info": {
   "codemirror_mode": {
    "name": "ipython",
    "version": 2
   },
   "file_extension": ".py",
   "mimetype": "text/x-python",
   "name": "python",
   "nbconvert_exporter": "python",
   "pygments_lexer": "ipython2",
   "version": "2.7.12"
  }
 },
 "nbformat": 4,
 "nbformat_minor": 0
}
